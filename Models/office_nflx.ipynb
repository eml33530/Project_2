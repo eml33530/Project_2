{
 "cells": [
  {
   "cell_type": "code",
   "execution_count": 65,
   "id": "floating-accuracy",
   "metadata": {},
   "outputs": [],
   "source": [
    "import panel as pn\n",
    "pn.extension('plotly')\n",
    "import plotly.express as px\n",
    "import pandas as pd\n",
    "import hvplot.pandas\n",
    "import matplotlib.pyplot as plt\n",
    "import numpy as np\n",
    "import os\n",
    "from pathlib import Path\n",
    "import seaborn as sns\n",
    "import numpy_financial as npf\n",
    "import datetime as dt\n",
    "%matplotlib inline\n",
    "import warnings\n",
    "warnings.filterwarnings('ignore')\n",
    "from plotly.subplots import make_subplots\n",
    "import plotly.graph_objects as go\n",
    "import seaborn as sns\n",
    "from dotenv import load_dotenv\n",
    "import os\n",
    "import requests\n",
    "import alpaca_trade_api as tradeapi\n",
    "from datetime import datetime, timedelta\n",
    "from newsapi.newsapi_client import NewsApiClient\n",
    "from nltk.sentiment.vader import SentimentIntensityAnalyzer"
   ]
  },
  {
   "cell_type": "code",
   "execution_count": 50,
   "id": "insured-think",
   "metadata": {},
   "outputs": [],
   "source": [
    " # Define the base request URL\n",
    "request_url = \"https://www.quandl.com/api/v3/datasets/WIKI/NFLX.json?api_key=\"\n",
    "\n",
    "# Concatenate request_url and api_key. Store as new variable\n",
    "\n",
    "request_url=request_url+api_key"
   ]
  },
  {
   "cell_type": "code",
   "execution_count": 51,
   "id": "valued-correspondence",
   "metadata": {},
   "outputs": [],
   "source": [
    "alpaca_key=os.getenv(\"ALPACA_API_KEY\")\n",
    "alpaca_secret_key=os.getenv(\"ALPACA_SECRET_KEY\")"
   ]
  },
  {
   "cell_type": "code",
   "execution_count": 52,
   "id": "front-finger",
   "metadata": {},
   "outputs": [],
   "source": [
    "alpaca=tradeapi.REST(alpaca_key,alpaca_secret_key,api_version=\"v2\")"
   ]
  },
  {
   "cell_type": "code",
   "execution_count": 53,
   "id": "undefined-bunch",
   "metadata": {},
   "outputs": [],
   "source": [
    "tickers=[\"NFLX\"]\n",
    "\n",
    "df_shares=pd.DataFrame(shares_data, index=tickers)\n",
    "\n",
    "# set timeframe to one day ('1D') for the alpaca API\n",
    "\n",
    "timeframe='1D'"
   ]
  },
  {
   "cell_type": "code",
   "execution_count": 136,
   "id": "passive-employment",
   "metadata": {},
   "outputs": [],
   "source": [
    "# format start and end dates as ISO format for one year period\n",
    "start = pd.Timestamp(\"2013-01-01\", tz=\"America/New_York\").isoformat()\n",
    "end = pd.Timestamp(\"2021-05-25\", tz=\"America/New_York\").isoformat()\n"
   ]
  },
  {
   "cell_type": "code",
   "execution_count": 137,
   "id": "documented-washer",
   "metadata": {},
   "outputs": [
    {
     "data": {
      "text/html": [
       "<div>\n",
       "<style scoped>\n",
       "    .dataframe tbody tr th:only-of-type {\n",
       "        vertical-align: middle;\n",
       "    }\n",
       "\n",
       "    .dataframe tbody tr th {\n",
       "        vertical-align: top;\n",
       "    }\n",
       "\n",
       "    .dataframe thead tr th {\n",
       "        text-align: left;\n",
       "    }\n",
       "\n",
       "    .dataframe thead tr:last-of-type th {\n",
       "        text-align: right;\n",
       "    }\n",
       "</style>\n",
       "<table border=\"1\" class=\"dataframe\">\n",
       "  <thead>\n",
       "    <tr>\n",
       "      <th></th>\n",
       "      <th colspan=\"5\" halign=\"left\">NFLX</th>\n",
       "    </tr>\n",
       "    <tr>\n",
       "      <th></th>\n",
       "      <th>open</th>\n",
       "      <th>high</th>\n",
       "      <th>low</th>\n",
       "      <th>close</th>\n",
       "      <th>volume</th>\n",
       "    </tr>\n",
       "    <tr>\n",
       "      <th>time</th>\n",
       "      <th></th>\n",
       "      <th></th>\n",
       "      <th></th>\n",
       "      <th></th>\n",
       "      <th></th>\n",
       "    </tr>\n",
       "  </thead>\n",
       "  <tbody>\n",
       "    <tr>\n",
       "      <th>2017-06-06 00:00:00-04:00</th>\n",
       "      <td>164.93</td>\n",
       "      <td>166.82</td>\n",
       "      <td>164.5100</td>\n",
       "      <td>165.170</td>\n",
       "      <td>3512616</td>\n",
       "    </tr>\n",
       "    <tr>\n",
       "      <th>2017-06-07 00:00:00-04:00</th>\n",
       "      <td>165.60</td>\n",
       "      <td>166.40</td>\n",
       "      <td>164.4086</td>\n",
       "      <td>165.610</td>\n",
       "      <td>2669076</td>\n",
       "    </tr>\n",
       "    <tr>\n",
       "      <th>2017-06-08 00:00:00-04:00</th>\n",
       "      <td>166.12</td>\n",
       "      <td>166.87</td>\n",
       "      <td>164.8400</td>\n",
       "      <td>165.880</td>\n",
       "      <td>3020499</td>\n",
       "    </tr>\n",
       "    <tr>\n",
       "      <th>2017-06-09 00:00:00-04:00</th>\n",
       "      <td>166.27</td>\n",
       "      <td>166.27</td>\n",
       "      <td>154.5000</td>\n",
       "      <td>158.050</td>\n",
       "      <td>8505676</td>\n",
       "    </tr>\n",
       "    <tr>\n",
       "      <th>2017-06-12 00:00:00-04:00</th>\n",
       "      <td>155.30</td>\n",
       "      <td>155.53</td>\n",
       "      <td>148.3100</td>\n",
       "      <td>151.417</td>\n",
       "      <td>11810478</td>\n",
       "    </tr>\n",
       "  </tbody>\n",
       "</table>\n",
       "</div>"
      ],
      "text/plain": [
       "                             NFLX                                     \n",
       "                             open    high       low    close    volume\n",
       "time                                                                  \n",
       "2017-06-06 00:00:00-04:00  164.93  166.82  164.5100  165.170   3512616\n",
       "2017-06-07 00:00:00-04:00  165.60  166.40  164.4086  165.610   2669076\n",
       "2017-06-08 00:00:00-04:00  166.12  166.87  164.8400  165.880   3020499\n",
       "2017-06-09 00:00:00-04:00  166.27  166.27  154.5000  158.050   8505676\n",
       "2017-06-12 00:00:00-04:00  155.30  155.53  148.3100  151.417  11810478"
      ]
     },
     "execution_count": 137,
     "metadata": {},
     "output_type": "execute_result"
    }
   ],
   "source": [
    "df_portfolio_yr=alpaca.get_barset(tickers,timeframe,start=start,end=end,limit=1000).df\n",
    "df_portfolio_yr.head()"
   ]
  },
  {
   "cell_type": "code",
   "execution_count": 138,
   "id": "framed-metallic",
   "metadata": {},
   "outputs": [
    {
     "data": {
      "text/html": [
       "<div>\n",
       "<style scoped>\n",
       "    .dataframe tbody tr th:only-of-type {\n",
       "        vertical-align: middle;\n",
       "    }\n",
       "\n",
       "    .dataframe tbody tr th {\n",
       "        vertical-align: top;\n",
       "    }\n",
       "\n",
       "    .dataframe thead th {\n",
       "        text-align: right;\n",
       "    }\n",
       "</style>\n",
       "<table border=\"1\" class=\"dataframe\">\n",
       "  <thead>\n",
       "    <tr style=\"text-align: right;\">\n",
       "      <th></th>\n",
       "      <th>NFLX</th>\n",
       "    </tr>\n",
       "  </thead>\n",
       "  <tbody>\n",
       "    <tr>\n",
       "      <th>2017-06-06</th>\n",
       "      <td>165.170</td>\n",
       "    </tr>\n",
       "    <tr>\n",
       "      <th>2017-06-07</th>\n",
       "      <td>165.610</td>\n",
       "    </tr>\n",
       "    <tr>\n",
       "      <th>2017-06-08</th>\n",
       "      <td>165.880</td>\n",
       "    </tr>\n",
       "    <tr>\n",
       "      <th>2017-06-09</th>\n",
       "      <td>158.050</td>\n",
       "    </tr>\n",
       "    <tr>\n",
       "      <th>2017-06-12</th>\n",
       "      <td>151.417</td>\n",
       "    </tr>\n",
       "  </tbody>\n",
       "</table>\n",
       "</div>"
      ],
      "text/plain": [
       "               NFLX\n",
       "2017-06-06  165.170\n",
       "2017-06-07  165.610\n",
       "2017-06-08  165.880\n",
       "2017-06-09  158.050\n",
       "2017-06-12  151.417"
      ]
     },
     "execution_count": 138,
     "metadata": {},
     "output_type": "execute_result"
    }
   ],
   "source": [
    "df_closing_prices=pd.DataFrame()\n",
    "df_closing_prices[\"NFLX\"]=df_portfolio_yr[\"NFLX\"][\"close\"]\n",
    "df_closing_prices.index=df_closing_prices.index.date\n",
    "\n",
    "df_closing_prices.head()"
   ]
  },
  {
   "cell_type": "code",
   "execution_count": 615,
   "id": "fiscal-restriction",
   "metadata": {},
   "outputs": [
    {
     "data": {},
     "metadata": {},
     "output_type": "display_data"
    },
    {
     "data": {
      "application/vnd.holoviews_exec.v0+json": "",
      "text/html": [
       "<div id='7002'>\n",
       "\n",
       "\n",
       "\n",
       "\n",
       "\n",
       "  <div class=\"bk-root\" id=\"c020bd22-a6f1-4755-9556-cb63f16749be\" data-root-id=\"7002\"></div>\n",
       "</div>\n",
       "<script type=\"application/javascript\">(function(root) {\n",
       "  function embed_document(root) {\n",
       "    var docs_json = {\"f02d399a-21a4-41d3-9141-35f560def670\":{\"roots\":{\"references\":[{\"attributes\":{\"fill_alpha\":{\"value\":0.2},\"fill_color\":{\"value\":\"#30a2da\"},\"line_alpha\":{\"value\":0.2},\"line_color\":{\"value\":\"#30a2da\"},\"size\":{\"units\":\"screen\",\"value\":5.477225575051661},\"x\":{\"field\":\"index\"},\"y\":{\"field\":\"NFLX\"}},\"id\":\"7042\",\"type\":\"Scatter\"},{\"attributes\":{},\"id\":\"7048\",\"type\":\"BasicTickFormatter\"},{\"attributes\":{\"below\":[{\"id\":\"7016\"}],\"center\":[{\"id\":\"7019\"},{\"id\":\"7023\"}],\"left\":[{\"id\":\"7020\"}],\"margin\":[5,5,5,5],\"min_border_bottom\":10,\"min_border_left\":10,\"min_border_right\":10,\"min_border_top\":10,\"plot_height\":300,\"plot_width\":700,\"renderers\":[{\"id\":\"7043\"}],\"sizing_mode\":\"fixed\",\"title\":{\"id\":\"7008\"},\"toolbar\":{\"id\":\"7030\"},\"x_range\":{\"id\":\"7004\"},\"x_scale\":{\"id\":\"7012\"},\"y_range\":{\"id\":\"7005\"},\"y_scale\":{\"id\":\"7014\"}},\"id\":\"7007\",\"subtype\":\"Figure\",\"type\":\"Plot\"},{\"attributes\":{\"axis_label\":\"NFLX\",\"bounds\":\"auto\",\"formatter\":{\"id\":\"7048\"},\"major_label_orientation\":\"horizontal\",\"ticker\":{\"id\":\"7021\"}},\"id\":\"7020\",\"type\":\"LinearAxis\"},{\"attributes\":{},\"id\":\"7021\",\"type\":\"BasicTicker\"},{\"attributes\":{},\"id\":\"7055\",\"type\":\"UnionRenderers\"},{\"attributes\":{},\"id\":\"7038\",\"type\":\"Selection\"},{\"attributes\":{\"days\":[1,8,15,22]},\"id\":\"7062\",\"type\":\"DaysTicker\"},{\"attributes\":{\"base\":24,\"mantissas\":[1,2,4,6,8,12],\"max_interval\":43200000.0,\"min_interval\":3600000.0,\"num_minor_ticks\":0},\"id\":\"7059\",\"type\":\"AdaptiveTicker\"},{\"attributes\":{\"axis\":{\"id\":\"7016\"},\"grid_line_color\":null,\"ticker\":null},\"id\":\"7019\",\"type\":\"Grid\"},{\"attributes\":{\"axis\":{\"id\":\"7020\"},\"dimension\":1,\"grid_line_color\":null,\"ticker\":null},\"id\":\"7023\",\"type\":\"Grid\"},{\"attributes\":{\"num_minor_ticks\":5,\"tickers\":[{\"id\":\"7057\"},{\"id\":\"7058\"},{\"id\":\"7059\"},{\"id\":\"7060\"},{\"id\":\"7061\"},{\"id\":\"7062\"},{\"id\":\"7063\"},{\"id\":\"7064\"},{\"id\":\"7065\"},{\"id\":\"7066\"},{\"id\":\"7067\"},{\"id\":\"7068\"}]},\"id\":\"7017\",\"type\":\"DatetimeTicker\"},{\"attributes\":{\"margin\":[5,5,5,5],\"name\":\"HSpacer16341\",\"sizing_mode\":\"stretch_width\"},\"id\":\"7003\",\"type\":\"Spacer\"},{\"attributes\":{\"bottom_units\":\"screen\",\"fill_alpha\":0.5,\"fill_color\":\"lightgrey\",\"left_units\":\"screen\",\"level\":\"overlay\",\"line_alpha\":1.0,\"line_color\":\"black\",\"line_dash\":[4,4],\"line_width\":2,\"right_units\":\"screen\",\"top_units\":\"screen\"},\"id\":\"7029\",\"type\":\"BoxAnnotation\"},{\"attributes\":{\"months\":[0,2,4,6,8,10]},\"id\":\"7065\",\"type\":\"MonthsTicker\"},{\"attributes\":{\"margin\":[5,5,5,5],\"name\":\"HSpacer16342\",\"sizing_mode\":\"stretch_width\"},\"id\":\"7089\",\"type\":\"Spacer\"},{\"attributes\":{},\"id\":\"7012\",\"type\":\"LinearScale\"},{\"attributes\":{\"children\":[{\"id\":\"7003\"},{\"id\":\"7007\"},{\"id\":\"7089\"}],\"margin\":[0,0,0,0],\"name\":\"Row16337\",\"tags\":[\"embedded\"]},\"id\":\"7002\",\"type\":\"Row\"},{\"attributes\":{\"axis_label\":\"\",\"bounds\":\"auto\",\"formatter\":{\"id\":\"7046\"},\"major_label_orientation\":\"horizontal\",\"ticker\":{\"id\":\"7017\"}},\"id\":\"7016\",\"type\":\"DatetimeAxis\"},{\"attributes\":{\"end\":630.259,\"reset_end\":630.259,\"reset_start\":102.15099999999998,\"start\":102.15099999999998,\"tags\":[[[\"NFLX\",\"NFLX\",null]]]},\"id\":\"7005\",\"type\":\"Range1d\"},{\"attributes\":{\"overlay\":{\"id\":\"7029\"}},\"id\":\"7027\",\"type\":\"BoxZoomTool\"},{\"attributes\":{},\"id\":\"7014\",\"type\":\"LinearScale\"},{\"attributes\":{\"days\":[1,4,7,10,13,16,19,22,25,28]},\"id\":\"7061\",\"type\":\"DaysTicker\"},{\"attributes\":{},\"id\":\"7026\",\"type\":\"WheelZoomTool\"},{\"attributes\":{},\"id\":\"7028\",\"type\":\"ResetTool\"},{\"attributes\":{\"fill_alpha\":{\"value\":0.1},\"fill_color\":{\"value\":\"#30a2da\"},\"line_alpha\":{\"value\":0.1},\"line_color\":{\"value\":\"#30a2da\"},\"size\":{\"units\":\"screen\",\"value\":5.477225575051661},\"x\":{\"field\":\"index\"},\"y\":{\"field\":\"NFLX\"}},\"id\":\"7041\",\"type\":\"Scatter\"},{\"attributes\":{\"base\":60,\"mantissas\":[1,2,5,10,15,20,30],\"max_interval\":1800000.0,\"min_interval\":1000.0,\"num_minor_ticks\":0},\"id\":\"7058\",\"type\":\"AdaptiveTicker\"},{\"attributes\":{},\"id\":\"7025\",\"type\":\"PanTool\"},{\"attributes\":{},\"id\":\"7024\",\"type\":\"SaveTool\"},{\"attributes\":{\"source\":{\"id\":\"7037\"}},\"id\":\"7044\",\"type\":\"CDSView\"},{\"attributes\":{\"end\":1627266240000.0,\"reset_end\":1627266240000.0,\"reset_start\":1491341760000.0,\"start\":1491341760000.0,\"tags\":[[[\"index\",\"index\",null]]]},\"id\":\"7004\",\"type\":\"Range1d\"},{\"attributes\":{\"months\":[0,1,2,3,4,5,6,7,8,9,10,11]},\"id\":\"7064\",\"type\":\"MonthsTicker\"},{\"attributes\":{\"months\":[0,6]},\"id\":\"7067\",\"type\":\"MonthsTicker\"},{\"attributes\":{},\"id\":\"7068\",\"type\":\"YearsTicker\"},{\"attributes\":{\"days\":[1,2,3,4,5,6,7,8,9,10,11,12,13,14,15,16,17,18,19,20,21,22,23,24,25,26,27,28,29,30,31]},\"id\":\"7060\",\"type\":\"DaysTicker\"},{\"attributes\":{\"callback\":null,\"formatters\":{\"@{index}\":\"datetime\"},\"renderers\":[{\"id\":\"7043\"}],\"tags\":[\"hv_created\"],\"tooltips\":[[\"index\",\"@{index}{%F %T}\"],[\"NFLX\",\"@{NFLX}\"]]},\"id\":\"7006\",\"type\":\"HoverTool\"},{\"attributes\":{},\"id\":\"7046\",\"type\":\"DatetimeTickFormatter\"},{\"attributes\":{\"text\":\"\",\"text_color\":{\"value\":\"black\"},\"text_font_size\":{\"value\":\"12pt\"}},\"id\":\"7008\",\"type\":\"Title\"},{\"attributes\":{\"active_drag\":\"auto\",\"active_inspect\":\"auto\",\"active_multi\":null,\"active_scroll\":\"auto\",\"active_tap\":\"auto\",\"tools\":[{\"id\":\"7006\"},{\"id\":\"7024\"},{\"id\":\"7025\"},{\"id\":\"7026\"},{\"id\":\"7027\"},{\"id\":\"7028\"}]},\"id\":\"7030\",\"type\":\"Toolbar\"},{\"attributes\":{\"data\":{\"NFLX\":{\"__ndarray__\":\"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\",\"dtype\":\"float64\",\"order\":\"little\",\"shape\":[1000]},\"index\":{\"__ndarray__\":\"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\",\"dtype\":\"float64\",\"order\":\"little\",\"shape\":[1000]}},\"selected\":{\"id\":\"7038\"},\"selection_policy\":{\"id\":\"7055\"}},\"id\":\"7037\",\"type\":\"ColumnDataSource\"},{\"attributes\":{\"data_source\":{\"id\":\"7037\"},\"glyph\":{\"id\":\"7040\"},\"hover_glyph\":null,\"muted_glyph\":{\"id\":\"7042\"},\"nonselection_glyph\":{\"id\":\"7041\"},\"selection_glyph\":null,\"view\":{\"id\":\"7044\"}},\"id\":\"7043\",\"type\":\"GlyphRenderer\"},{\"attributes\":{\"months\":[0,4,8]},\"id\":\"7066\",\"type\":\"MonthsTicker\"},{\"attributes\":{\"fill_color\":{\"value\":\"#30a2da\"},\"line_color\":{\"value\":\"#30a2da\"},\"size\":{\"units\":\"screen\",\"value\":5.477225575051661},\"x\":{\"field\":\"index\"},\"y\":{\"field\":\"NFLX\"}},\"id\":\"7040\",\"type\":\"Scatter\"},{\"attributes\":{\"days\":[1,15]},\"id\":\"7063\",\"type\":\"DaysTicker\"},{\"attributes\":{\"mantissas\":[1,2,5],\"max_interval\":500.0,\"num_minor_ticks\":0},\"id\":\"7057\",\"type\":\"AdaptiveTicker\"}],\"root_ids\":[\"7002\"]},\"title\":\"Bokeh Application\",\"version\":\"2.2.3\"}};\n",
       "    var render_items = [{\"docid\":\"f02d399a-21a4-41d3-9141-35f560def670\",\"root_ids\":[\"7002\"],\"roots\":{\"7002\":\"c020bd22-a6f1-4755-9556-cb63f16749be\"}}];\n",
       "    root.Bokeh.embed.embed_items_notebook(docs_json, render_items);\n",
       "  }\n",
       "  if (root.Bokeh !== undefined && root.Bokeh.Panel !== undefined && root['Plotly'] !== undefined ) {\n",
       "    embed_document(root);\n",
       "  } else {\n",
       "    var attempts = 0;\n",
       "    var timer = setInterval(function(root) {\n",
       "      if (root.Bokeh !== undefined && root.Bokeh.Panel !== undefined && root['Plotly'] !== undefined) {\n",
       "        clearInterval(timer);\n",
       "        embed_document(root);\n",
       "      } else if (document.readyState == \"complete\") {\n",
       "        attempts++;\n",
       "        if (attempts > 100) {\n",
       "          clearInterval(timer);\n",
       "          console.log(\"Bokeh: ERROR: Unable to run BokehJS code because BokehJS library is missing\");\n",
       "        }\n",
       "      }\n",
       "    }, 10, root)\n",
       "  }\n",
       "})(window);</script>"
      ],
      "text/plain": [
       ":Scatter   [index]   (NFLX)"
      ]
     },
     "execution_count": 615,
     "metadata": {
      "application/vnd.holoviews_exec.v0+json": {
       "id": "7002"
      }
     },
     "output_type": "execute_result"
    }
   ],
   "source": [
    "# office leaves netflix on 12/31/21 first aired back on 10/1/13 (double check the date on when it first aired)\n",
    "\n",
    "df_closing_prices.hvplot.scatter()\n"
   ]
  },
  {
   "cell_type": "markdown",
   "id": "broadband-convenience",
   "metadata": {},
   "source": [
    "## The Office Dataset"
   ]
  },
  {
   "cell_type": "code",
   "execution_count": 388,
   "id": "worth-month",
   "metadata": {},
   "outputs": [],
   "source": [
    "# Read in the data and set it to a DataFrame\n",
    "df1= pd.read_csv(Path('Resources/the_office_series.csv'))\n"
   ]
  },
  {
   "cell_type": "code",
   "execution_count": 408,
   "id": "homeless-leonard",
   "metadata": {},
   "outputs": [
    {
     "data": {
      "text/html": [
       "<div>\n",
       "<style scoped>\n",
       "    .dataframe tbody tr th:only-of-type {\n",
       "        vertical-align: middle;\n",
       "    }\n",
       "\n",
       "    .dataframe tbody tr th {\n",
       "        vertical-align: top;\n",
       "    }\n",
       "\n",
       "    .dataframe thead th {\n",
       "        text-align: right;\n",
       "    }\n",
       "</style>\n",
       "<table border=\"1\" class=\"dataframe\">\n",
       "  <thead>\n",
       "    <tr style=\"text-align: right;\">\n",
       "      <th></th>\n",
       "      <th>EpisodeTitle</th>\n",
       "      <th>About</th>\n",
       "      <th>Ratings</th>\n",
       "      <th>Viewership</th>\n",
       "      <th>Date</th>\n",
       "    </tr>\n",
       "  </thead>\n",
       "  <tbody>\n",
       "    <tr>\n",
       "      <th>0</th>\n",
       "      <td>Pilot</td>\n",
       "      <td>The premiere episode introduces the boss and s...</td>\n",
       "      <td>7.5</td>\n",
       "      <td>11.2</td>\n",
       "      <td>24 March 2005</td>\n",
       "    </tr>\n",
       "    <tr>\n",
       "      <th>1</th>\n",
       "      <td>Diversity Day</td>\n",
       "      <td>Michael's off color remark puts a sensitivity ...</td>\n",
       "      <td>8.3</td>\n",
       "      <td>6.0</td>\n",
       "      <td>29 March 2005</td>\n",
       "    </tr>\n",
       "    <tr>\n",
       "      <th>2</th>\n",
       "      <td>Health Care</td>\n",
       "      <td>Michael leaves Dwight in charge of picking the...</td>\n",
       "      <td>7.8</td>\n",
       "      <td>5.8</td>\n",
       "      <td>5 April 2005</td>\n",
       "    </tr>\n",
       "    <tr>\n",
       "      <th>3</th>\n",
       "      <td>The Alliance</td>\n",
       "      <td>Just for a laugh, Jim agrees to an alliance wi...</td>\n",
       "      <td>8.1</td>\n",
       "      <td>5.4</td>\n",
       "      <td>12 April 2005</td>\n",
       "    </tr>\n",
       "    <tr>\n",
       "      <th>4</th>\n",
       "      <td>Basketball</td>\n",
       "      <td>Michael and his staff challenge the warehouse ...</td>\n",
       "      <td>8.4</td>\n",
       "      <td>5.0</td>\n",
       "      <td>19 April 2005</td>\n",
       "    </tr>\n",
       "  </tbody>\n",
       "</table>\n",
       "</div>"
      ],
      "text/plain": [
       "    EpisodeTitle                                              About  Ratings  \\\n",
       "0          Pilot  The premiere episode introduces the boss and s...      7.5   \n",
       "1  Diversity Day  Michael's off color remark puts a sensitivity ...      8.3   \n",
       "2    Health Care  Michael leaves Dwight in charge of picking the...      7.8   \n",
       "3   The Alliance  Just for a laugh, Jim agrees to an alliance wi...      8.1   \n",
       "4     Basketball  Michael and his staff challenge the warehouse ...      8.4   \n",
       "\n",
       "   Viewership            Date  \n",
       "0        11.2   24 March 2005  \n",
       "1         6.0   29 March 2005  \n",
       "2         5.8    5 April 2005  \n",
       "3         5.4   12 April 2005  \n",
       "4         5.0   19 April 2005  "
      ]
     },
     "execution_count": 408,
     "metadata": {},
     "output_type": "execute_result"
    }
   ],
   "source": [
    "#select only the columns you want\n",
    "\n",
    "office_df=pd.read_csv('Resources/the_office_series.csv', usecols=['EpisodeTitle','About','Ratings','Viewership','Date'])\n",
    "office_df.head()"
   ]
  },
  {
   "cell_type": "markdown",
   "id": "corporate-tournament",
   "metadata": {},
   "source": [
    "# WordCloud "
   ]
  },
  {
   "cell_type": "code",
   "execution_count": 409,
   "id": "retired-trustee",
   "metadata": {},
   "outputs": [],
   "source": [
    "# Read in the data\n",
    "\n",
    "sent=pd.read_csv('Resources/the_office_series.csv', usecols=['EpisodeTitle','About'])\n"
   ]
  },
  {
   "cell_type": "code",
   "execution_count": 410,
   "id": "emerging-perception",
   "metadata": {},
   "outputs": [],
   "source": [
    "# Define the wordcloud parameters\n",
    "\n",
    "from nltk.tokenize import word_tokenize, sent_tokenize\n",
    "from nltk.corpus import stopwords\n",
    "from nltk.stem import WordNetLemmatizer, PorterStemmer\n",
    "from string import punctuation\n",
    "import re\n",
    "\n",
    "lemmatizer = WordNetLemmatizer()\n",
    "sw = set(stopwords.words('english')) \n",
    "\n",
    "from wordcloud import WordCloud\n",
    "import matplotlib.pyplot as plt\n",
    "plt.style.use('seaborn-whitegrid')\n",
    "import matplotlib as mpl\n",
    "mpl.rcParams['figure.figsize'] = [20.0, 10.0]\n",
    "\n",
    "\n",
    "def tokenizer(text):\n",
    "    \"\"\"Tokenizes text.\"\"\"\n",
    "    \n",
    "    # Convert the words to lowercase\n",
    "    regex = re.compile(\"[^a-zA-Z ]\")\n",
    "    \n",
    "    # Remove the punctuation from text\n",
    "    re_clean = regex.sub('', text)\n",
    "\n",
    "    # Create a tokenized list of the words\n",
    "    words = word_tokenize(re_clean)\n",
    "    \n",
    "    # Lemmatize words into root words\n",
    "    lem = [lemmatizer.lemmatize(word) for word in words]\n",
    "       \n",
    "    # Remove the stop words\n",
    "    tokens = [word.lower() for word in lem if word.lower() not in sw]\n",
    "    \n",
    "    return tokens"
   ]
  },
  {
   "cell_type": "code",
   "execution_count": 411,
   "id": "irish-poultry",
   "metadata": {},
   "outputs": [
    {
     "data": {
      "text/plain": [
       "<matplotlib.image.AxesImage at 0x2abeabcc788>"
      ]
     },
     "execution_count": 411,
     "metadata": {},
     "output_type": "execute_result"
    },
    {
     "data": {
      "image/png": "[encoded data removed]",
      "text/plain": [
       "<Figure size 1440x720 with 1 Axes>"
      ]
     },
     "metadata": {},
     "output_type": "display_data"
    }
   ],
   "source": [
    "# Tokenize the wordcloud\n",
    "\n",
    "sent['tokens'] = sent['About'].apply(tokenizer)\n",
    "sent_string = ' '.join(sent.About)\n",
    "\n",
    "wc = WordCloud().generate(sent_string)\n",
    "plt.title('The office word cloud', fontsize=25, fontweight='bold')\n",
    "plt.imshow(wc)"
   ]
  },
  {
   "cell_type": "code",
   "execution_count": 109,
   "id": "pleased-linux",
   "metadata": {},
   "outputs": [],
   "source": [
    "import nltk\n",
    "from nltk.sentiment.vader import SentimentIntensityAnalyzer"
   ]
  },
  {
   "cell_type": "markdown",
   "id": "bigger-machinery",
   "metadata": {},
   "source": [
    "## Sentiment on most Frequent name in word cloud - \"Michael\""
   ]
  },
  {
   "cell_type": "code",
   "execution_count": 413,
   "id": "sized-trademark",
   "metadata": {},
   "outputs": [
    {
     "name": "stderr",
     "output_type": "stream",
     "text": [
      "[nltk_data] Downloading package vader_lexicon to\n",
      "[nltk_data]     C:\\Users\\ericm\\AppData\\Roaming\\nltk_data...\n",
      "[nltk_data]   Package vader_lexicon is already up-to-date!\n"
     ]
    }
   ],
   "source": [
    "# Download/Update the VADER Lexicon\n",
    "nltk.download('vader_lexicon')\n",
    "\n",
    "# Initialize the VADER sentiment analyzer\n",
    "analyzer = SentimentIntensityAnalyzer()\n"
   ]
  },
  {
   "cell_type": "code",
   "execution_count": 414,
   "id": "intelligent-respect",
   "metadata": {},
   "outputs": [
    {
     "data": {
      "text/html": [
       "<div>\n",
       "<style scoped>\n",
       "    .dataframe tbody tr th:only-of-type {\n",
       "        vertical-align: middle;\n",
       "    }\n",
       "\n",
       "    .dataframe tbody tr th {\n",
       "        vertical-align: top;\n",
       "    }\n",
       "\n",
       "    .dataframe thead th {\n",
       "        text-align: right;\n",
       "    }\n",
       "</style>\n",
       "<table border=\"1\" class=\"dataframe\">\n",
       "  <thead>\n",
       "    <tr style=\"text-align: right;\">\n",
       "      <th></th>\n",
       "      <th>EpisodeTitle</th>\n",
       "      <th>About</th>\n",
       "      <th>Ratings</th>\n",
       "      <th>Viewership</th>\n",
       "      <th>Date</th>\n",
       "      <th>Michael_count</th>\n",
       "    </tr>\n",
       "  </thead>\n",
       "  <tbody>\n",
       "    <tr>\n",
       "      <th>0</th>\n",
       "      <td>Pilot</td>\n",
       "      <td>The premiere episode introduces the boss and s...</td>\n",
       "      <td>7.5</td>\n",
       "      <td>11.2</td>\n",
       "      <td>24 March 2005</td>\n",
       "      <td>0</td>\n",
       "    </tr>\n",
       "    <tr>\n",
       "      <th>1</th>\n",
       "      <td>Diversity Day</td>\n",
       "      <td>Michael's off color remark puts a sensitivity ...</td>\n",
       "      <td>8.3</td>\n",
       "      <td>6.0</td>\n",
       "      <td>29 March 2005</td>\n",
       "      <td>0</td>\n",
       "    </tr>\n",
       "    <tr>\n",
       "      <th>2</th>\n",
       "      <td>Health Care</td>\n",
       "      <td>Michael leaves Dwight in charge of picking the...</td>\n",
       "      <td>7.8</td>\n",
       "      <td>5.8</td>\n",
       "      <td>5 April 2005</td>\n",
       "      <td>0</td>\n",
       "    </tr>\n",
       "    <tr>\n",
       "      <th>3</th>\n",
       "      <td>The Alliance</td>\n",
       "      <td>Just for a laugh, Jim agrees to an alliance wi...</td>\n",
       "      <td>8.1</td>\n",
       "      <td>5.4</td>\n",
       "      <td>12 April 2005</td>\n",
       "      <td>0</td>\n",
       "    </tr>\n",
       "    <tr>\n",
       "      <th>4</th>\n",
       "      <td>Basketball</td>\n",
       "      <td>Michael and his staff challenge the warehouse ...</td>\n",
       "      <td>8.4</td>\n",
       "      <td>5.0</td>\n",
       "      <td>19 April 2005</td>\n",
       "      <td>0</td>\n",
       "    </tr>\n",
       "  </tbody>\n",
       "</table>\n",
       "</div>"
      ],
      "text/plain": [
       "    EpisodeTitle                                              About  Ratings  \\\n",
       "0          Pilot  The premiere episode introduces the boss and s...      7.5   \n",
       "1  Diversity Day  Michael's off color remark puts a sensitivity ...      8.3   \n",
       "2    Health Care  Michael leaves Dwight in charge of picking the...      7.8   \n",
       "3   The Alliance  Just for a laugh, Jim agrees to an alliance wi...      8.1   \n",
       "4     Basketball  Michael and his staff challenge the warehouse ...      8.4   \n",
       "\n",
       "   Viewership            Date  Michael_count  \n",
       "0        11.2   24 March 2005              0  \n",
       "1         6.0   29 March 2005              0  \n",
       "2         5.8    5 April 2005              0  \n",
       "3         5.4   12 April 2005              0  \n",
       "4         5.0   19 April 2005              0  "
      ]
     },
     "execution_count": 414,
     "metadata": {},
     "output_type": "execute_result"
    }
   ],
   "source": [
    "# Add column to count the occurences of \"Michael\"\n",
    "\n",
    "office_df['Michael_count']=0\n",
    "office_df.head()"
   ]
  },
  {
   "cell_type": "code",
   "execution_count": 415,
   "id": "knowing-athletics",
   "metadata": {},
   "outputs": [
    {
     "data": {
      "text/html": [
       "<div>\n",
       "<style scoped>\n",
       "    .dataframe tbody tr th:only-of-type {\n",
       "        vertical-align: middle;\n",
       "    }\n",
       "\n",
       "    .dataframe tbody tr th {\n",
       "        vertical-align: top;\n",
       "    }\n",
       "\n",
       "    .dataframe thead th {\n",
       "        text-align: right;\n",
       "    }\n",
       "</style>\n",
       "<table border=\"1\" class=\"dataframe\">\n",
       "  <thead>\n",
       "    <tr style=\"text-align: right;\">\n",
       "      <th></th>\n",
       "      <th>date</th>\n",
       "      <th>text</th>\n",
       "      <th>compound</th>\n",
       "      <th>positive</th>\n",
       "      <th>negative</th>\n",
       "      <th>neutral</th>\n",
       "      <th>michael_count</th>\n",
       "    </tr>\n",
       "  </thead>\n",
       "  <tbody>\n",
       "    <tr>\n",
       "      <th>0</th>\n",
       "      <td>24 March 2005</td>\n",
       "      <td>The premiere episode introduces the boss and s...</td>\n",
       "      <td>0.0000</td>\n",
       "      <td>0.000</td>\n",
       "      <td>0.000</td>\n",
       "      <td>1.000</td>\n",
       "      <td>0</td>\n",
       "    </tr>\n",
       "    <tr>\n",
       "      <th>1</th>\n",
       "      <td>29 March 2005</td>\n",
       "      <td>Michael's off color remark puts a sensitivity ...</td>\n",
       "      <td>0.2732</td>\n",
       "      <td>0.104</td>\n",
       "      <td>0.000</td>\n",
       "      <td>0.896</td>\n",
       "      <td>2</td>\n",
       "    </tr>\n",
       "    <tr>\n",
       "      <th>2</th>\n",
       "      <td>5 April 2005</td>\n",
       "      <td>Michael leaves Dwight in charge of picking the...</td>\n",
       "      <td>-0.5994</td>\n",
       "      <td>0.000</td>\n",
       "      <td>0.187</td>\n",
       "      <td>0.813</td>\n",
       "      <td>1</td>\n",
       "    </tr>\n",
       "    <tr>\n",
       "      <th>3</th>\n",
       "      <td>12 April 2005</td>\n",
       "      <td>Just for a laugh, Jim agrees to an alliance wi...</td>\n",
       "      <td>0.6597</td>\n",
       "      <td>0.310</td>\n",
       "      <td>0.000</td>\n",
       "      <td>0.690</td>\n",
       "      <td>0</td>\n",
       "    </tr>\n",
       "    <tr>\n",
       "      <th>4</th>\n",
       "      <td>19 April 2005</td>\n",
       "      <td>Michael and his staff challenge the warehouse ...</td>\n",
       "      <td>0.3612</td>\n",
       "      <td>0.205</td>\n",
       "      <td>0.077</td>\n",
       "      <td>0.718</td>\n",
       "      <td>1</td>\n",
       "    </tr>\n",
       "  </tbody>\n",
       "</table>\n",
       "</div>"
      ],
      "text/plain": [
       "             date                                               text  \\\n",
       "0   24 March 2005  The premiere episode introduces the boss and s...   \n",
       "1   29 March 2005  Michael's off color remark puts a sensitivity ...   \n",
       "2    5 April 2005  Michael leaves Dwight in charge of picking the...   \n",
       "3   12 April 2005  Just for a laugh, Jim agrees to an alliance wi...   \n",
       "4   19 April 2005  Michael and his staff challenge the warehouse ...   \n",
       "\n",
       "   compound  positive  negative  neutral  michael_count  \n",
       "0    0.0000     0.000     0.000    1.000              0  \n",
       "1    0.2732     0.104     0.000    0.896              2  \n",
       "2   -0.5994     0.000     0.187    0.813              1  \n",
       "3    0.6597     0.310     0.000    0.690              0  \n",
       "4    0.3612     0.205     0.077    0.718              1  "
      ]
     },
     "execution_count": 415,
     "metadata": {},
     "output_type": "execute_result"
    }
   ],
   "source": [
    "# Create the sentiment scores DataFrame\n",
    "NF_about_sentiments = []\n",
    "\n",
    "for i in range(len(df5['About'])):\n",
    "    \n",
    "    try:\n",
    "        text = office_df[\"About\"][i]\n",
    "        text_lst = text.split(' ')\n",
    "        michael_count = 0\n",
    "        for j in text_lst:\n",
    "            if j=='Michael' or j==\"Michael's\":\n",
    "                michael_count += 1\n",
    "        office_df['Michael_count'][i] = michael_count\n",
    "        date = office_df[\"Date\"][i]\n",
    "        sentiment = analyzer.polarity_scores(text)\n",
    "        compound = sentiment[\"compound\"]\n",
    "        pos = sentiment[\"pos\"]\n",
    "        neu = sentiment[\"neu\"]\n",
    "        neg = sentiment[\"neg\"]\n",
    "        \n",
    "        NF_about_sentiments.append({\n",
    "            \"text\": text,\n",
    "            \"date\": date,\n",
    "            \"compound\": compound,\n",
    "            \"positive\": pos,\n",
    "            \"negative\": neg,\n",
    "            \"neutral\": neu,\n",
    "            \"michael_count\": michael_count\n",
    "            \n",
    "        })\n",
    "        \n",
    "    except AttributeError:\n",
    "        pass\n",
    "    \n",
    "# Create DataFrame\n",
    "NF_about_df = pd.DataFrame(NF_about_sentiments)\n",
    "\n",
    "# Reorder DataFrame columns\n",
    "cols = [\"date\", \"text\", \"compound\", \"positive\", \"negative\", \"neutral\", \"michael_count\"]\n",
    "NF_about_df = NF_about_df[cols]\n",
    "\n",
    "NF_about_df.head()\n"
   ]
  },
  {
   "cell_type": "code",
   "execution_count": 416,
   "id": "caring-fancy",
   "metadata": {},
   "outputs": [
    {
     "data": {
      "text/html": [
       "<div>\n",
       "<style scoped>\n",
       "    .dataframe tbody tr th:only-of-type {\n",
       "        vertical-align: middle;\n",
       "    }\n",
       "\n",
       "    .dataframe tbody tr th {\n",
       "        vertical-align: top;\n",
       "    }\n",
       "\n",
       "    .dataframe thead th {\n",
       "        text-align: right;\n",
       "    }\n",
       "</style>\n",
       "<table border=\"1\" class=\"dataframe\">\n",
       "  <thead>\n",
       "    <tr style=\"text-align: right;\">\n",
       "      <th></th>\n",
       "      <th>compound</th>\n",
       "      <th>positive</th>\n",
       "      <th>negative</th>\n",
       "      <th>neutral</th>\n",
       "      <th>michael_count</th>\n",
       "    </tr>\n",
       "  </thead>\n",
       "  <tbody>\n",
       "    <tr>\n",
       "      <th>compound</th>\n",
       "      <td>1.000000</td>\n",
       "      <td>0.688797</td>\n",
       "      <td>-0.785866</td>\n",
       "      <td>0.158884</td>\n",
       "      <td>-0.068316</td>\n",
       "    </tr>\n",
       "    <tr>\n",
       "      <th>positive</th>\n",
       "      <td>0.688797</td>\n",
       "      <td>1.000000</td>\n",
       "      <td>-0.219572</td>\n",
       "      <td>-0.554932</td>\n",
       "      <td>-0.101903</td>\n",
       "    </tr>\n",
       "    <tr>\n",
       "      <th>negative</th>\n",
       "      <td>-0.785866</td>\n",
       "      <td>-0.219572</td>\n",
       "      <td>1.000000</td>\n",
       "      <td>-0.689740</td>\n",
       "      <td>-0.013796</td>\n",
       "    </tr>\n",
       "    <tr>\n",
       "      <th>neutral</th>\n",
       "      <td>0.158884</td>\n",
       "      <td>-0.554932</td>\n",
       "      <td>-0.689740</td>\n",
       "      <td>1.000000</td>\n",
       "      <td>0.087467</td>\n",
       "    </tr>\n",
       "    <tr>\n",
       "      <th>michael_count</th>\n",
       "      <td>-0.068316</td>\n",
       "      <td>-0.101903</td>\n",
       "      <td>-0.013796</td>\n",
       "      <td>0.087467</td>\n",
       "      <td>1.000000</td>\n",
       "    </tr>\n",
       "  </tbody>\n",
       "</table>\n",
       "</div>"
      ],
      "text/plain": [
       "               compound  positive  negative   neutral  michael_count\n",
       "compound       1.000000  0.688797 -0.785866  0.158884      -0.068316\n",
       "positive       0.688797  1.000000 -0.219572 -0.554932      -0.101903\n",
       "negative      -0.785866 -0.219572  1.000000 -0.689740      -0.013796\n",
       "neutral        0.158884 -0.554932 -0.689740  1.000000       0.087467\n",
       "michael_count -0.068316 -0.101903 -0.013796  0.087467       1.000000"
      ]
     },
     "execution_count": 416,
     "metadata": {},
     "output_type": "execute_result"
    }
   ],
   "source": [
    "# Calculate the correlation matrix\n",
    "\n",
    "NF_about_df.corr()"
   ]
  },
  {
   "cell_type": "code",
   "execution_count": 417,
   "id": "damaged-balloon",
   "metadata": {},
   "outputs": [
    {
     "data": {
      "image/png": "[encoded data removed]",
      "text/plain": [
       "<Figure size 1440x720 with 2 Axes>"
      ]
     },
     "metadata": {},
     "output_type": "display_data"
    }
   ],
   "source": [
    "# Plot the correlation matrix\n",
    "\n",
    "sns.heatmap(NF_about_df.corr(), cmap=\"Blues\", annot=True)\n",
    "plt.show()"
   ]
  },
  {
   "cell_type": "markdown",
   "id": "egyptian-allocation",
   "metadata": {},
   "source": [
    "## Average Ratings per episode vs. # times Michael appears - Compare ratings"
   ]
  },
  {
   "cell_type": "code",
   "execution_count": 402,
   "id": "defined-calcium",
   "metadata": {},
   "outputs": [
    {
     "name": "stdout",
     "output_type": "stream",
     "text": [
      "Average Rating per episode is: 8.24/10 & The Average Number of Views is: 7.25 Million\n"
     ]
    }
   ],
   "source": [
    "# Find the average \"rating\" per episode\n",
    "avg_rating= round(office_df.Ratings.mean(),2)\n",
    "avg_views= round(office_df.Viewership.mean(),2)\n",
    "\n",
    "print(f'Average Rating per episode is: {avg_rating}/10 & The Average Number of Views is: {avg_views} Million')"
   ]
  },
  {
   "cell_type": "code",
   "execution_count": 418,
   "id": "driving-brand",
   "metadata": {},
   "outputs": [
    {
     "data": {
      "text/plain": [
       "7.87"
      ]
     },
     "execution_count": 418,
     "metadata": {},
     "output_type": "execute_result"
    }
   ],
   "source": [
    "# Find the average \"rating\" per episode where Michael is mentioned 0 times\n",
    "\n",
    "mc_0=office_df.loc[office_df['Michael_count']==0]\n",
    "\n",
    "mc0_avg_rating= round(mc_0.Ratings.mean(),2)\n",
    "mc0_avg_rating\n"
   ]
  },
  {
   "cell_type": "code",
   "execution_count": 419,
   "id": "personal-synthesis",
   "metadata": {},
   "outputs": [
    {
     "data": {
      "text/plain": [
       "8.38"
      ]
     },
     "execution_count": 419,
     "metadata": {},
     "output_type": "execute_result"
    }
   ],
   "source": [
    "# Find the average \"rating\" per episode where Michael is mentioned 1 times\n",
    "\n",
    "mc_1=office_df.loc[office_df['Michael_count']==1]\n",
    "\n",
    "mc1_avg_rating= round(mc_1.Ratings.mean(),2)\n",
    "mc1_avg_rating"
   ]
  },
  {
   "cell_type": "code",
   "execution_count": 420,
   "id": "burning-commission",
   "metadata": {},
   "outputs": [
    {
     "data": {
      "text/plain": [
       "8.54"
      ]
     },
     "execution_count": 420,
     "metadata": {},
     "output_type": "execute_result"
    }
   ],
   "source": [
    "# Find the average \"rating\" per episode where Michael is mentioned 2 or more times\n",
    "\n",
    "mc_2=office_df.loc[office_df['Michael_count']==2]\n",
    "\n",
    "mc2_avg_rating= round(mc_2.Ratings.mean(),2)\n",
    "mc2_avg_rating"
   ]
  },
  {
   "cell_type": "code",
   "execution_count": 463,
   "id": "anonymous-december",
   "metadata": {},
   "outputs": [
    {
     "data": {
      "text/plain": [
       "9.4"
      ]
     },
     "execution_count": 463,
     "metadata": {},
     "output_type": "execute_result"
    }
   ],
   "source": [
    "mc_3=office_df.loc[office_df['Michael_count']==3]\n",
    "\n",
    "mc3_avg_rating= round(mc_3.Ratings.mean(),2)\n",
    "mc3_avg_rating"
   ]
  },
  {
   "cell_type": "code",
   "execution_count": 465,
   "id": "coordinated-breakfast",
   "metadata": {},
   "outputs": [
    {
     "data": {
      "text/plain": [
       "[<matplotlib.lines.Line2D at 0x2abefb89bc8>]"
      ]
     },
     "execution_count": 465,
     "metadata": {},
     "output_type": "execute_result"
    },
    {
     "data": {
      "image/png": "[encoded data removed]",
      "text/plain": [
       "<Figure size 1440x720 with 1 Axes>"
      ]
     },
     "metadata": {},
     "output_type": "display_data"
    }
   ],
   "source": [
    "# Plot the average ratings scores vs the average rating per episode\n",
    "\n",
    "threshold = avg_rating\n",
    "values = np.array([7.87,8.38,8.54,9.4])\n",
    "x = range(len(values))\n",
    "\n",
    "# split it up\n",
    "above_threshold = np.maximum(values - threshold, 0)\n",
    "below_threshold = np.minimum(values, threshold)\n",
    "\n",
    "# and plot it\n",
    "fig, ax = plt.subplots()\n",
    "ax.bar(x, below_threshold, 0.35, color=\"g\")\n",
    "ax.bar(x, above_threshold, 0.35, color=\"r\",\n",
    "        bottom=below_threshold)\n",
    "\n",
    "# horizontal line indicating the threshold\n",
    "ax.plot([-0.5, 3.5], [threshold, threshold], \"k--\")"
   ]
  },
  {
   "cell_type": "markdown",
   "id": "prescription-channel",
   "metadata": {},
   "source": [
    "# Testing Office data using NLP - \"Michael\""
   ]
  },
  {
   "cell_type": "code",
   "execution_count": 424,
   "id": "proud-quebec",
   "metadata": {},
   "outputs": [],
   "source": [
    "from sklearn.ensemble import RandomForestRegressor\n",
    "from sklearn.preprocessing import StandardScaler\n",
    "from sklearn.model_selection import train_test_split\n",
    "from sklearn.metrics import confusion_matrix, accuracy_score, classification_report\n",
    "\n",
    "# Needed for decision tree visualization\n",
    "import pydotplus\n",
    "from IPython.display import Image"
   ]
  },
  {
   "cell_type": "code",
   "execution_count": 425,
   "id": "plain-procurement",
   "metadata": {},
   "outputs": [],
   "source": [
    "# define X and Y\n",
    "X=office_df[['Michael_count']]\n"
   ]
  },
  {
   "cell_type": "code",
   "execution_count": 426,
   "id": "tutorial-cover",
   "metadata": {},
   "outputs": [
    {
     "data": {
      "text/plain": [
       "3"
      ]
     },
     "execution_count": 426,
     "metadata": {},
     "output_type": "execute_result"
    }
   ],
   "source": [
    "max(X[\"Michael_count\"])"
   ]
  },
  {
   "cell_type": "code",
   "execution_count": 427,
   "id": "fatty-bachelor",
   "metadata": {},
   "outputs": [
    {
     "data": {
      "text/plain": [
       "array([7.5, 8.3, 7.8, 8.1, 8.4])"
      ]
     },
     "execution_count": 427,
     "metadata": {},
     "output_type": "execute_result"
    }
   ],
   "source": [
    "y=office_df['Ratings'].ravel()\n",
    "y[:5]\n"
   ]
  },
  {
   "cell_type": "code",
   "execution_count": 429,
   "id": "grateful-acquisition",
   "metadata": {},
   "outputs": [],
   "source": [
    " # Splitting into Train and Test sets\n",
    "X_train, X_test, y_train, y_test = train_test_split(X, y, random_state=78)\n"
   ]
  },
  {
   "cell_type": "code",
   "execution_count": 430,
   "id": "pediatric-gibson",
   "metadata": {},
   "outputs": [],
   "source": [
    "# Creating StandardScaler instance\n",
    "scaler = StandardScaler()"
   ]
  },
  {
   "cell_type": "code",
   "execution_count": 431,
   "id": "ready-oriental",
   "metadata": {},
   "outputs": [],
   "source": [
    " # Fitting Standard Scaller\n",
    "X_scaler = scaler.fit(X_train)"
   ]
  },
  {
   "cell_type": "code",
   "execution_count": 432,
   "id": "promising-accreditation",
   "metadata": {},
   "outputs": [],
   "source": [
    " # Scaling data\n",
    "X_train_scaled = X_scaler.transform(X_train)\n",
    "X_test_scaled = X_scaler.transform(X_test)"
   ]
  },
  {
   "cell_type": "code",
   "execution_count": 433,
   "id": "attended-seller",
   "metadata": {},
   "outputs": [],
   "source": [
    " # Create a random forest classifier\n",
    "rf_model = RandomForestRegressor(n_estimators=500, random_state=78)\n"
   ]
  },
  {
   "cell_type": "code",
   "execution_count": 434,
   "id": "based-edwards",
   "metadata": {},
   "outputs": [
    {
     "data": {
      "text/plain": [
       "RandomForestRegressor(n_estimators=500, random_state=78)"
      ]
     },
     "execution_count": 434,
     "metadata": {},
     "output_type": "execute_result"
    }
   ],
   "source": [
    " # Fitting the model\n",
    "rf_model.fit(X_train_scaled, y_train)"
   ]
  },
  {
   "cell_type": "code",
   "execution_count": 435,
   "id": "allied-parts",
   "metadata": {},
   "outputs": [],
   "source": [
    " # Making predictions using the testing data\n",
    "predictions = rf_model.predict(X_test_scaled)"
   ]
  },
  {
   "cell_type": "code",
   "execution_count": 480,
   "id": "instructional-berlin",
   "metadata": {},
   "outputs": [
    {
     "data": {
      "image/png": "[encoded data removed]",
      "text/plain": [
       "<Figure size 1440x720 with 1 Axes>"
      ]
     },
     "metadata": {},
     "output_type": "display_data"
    }
   ],
   "source": [
    "X_grid = np.arange(0, 3, 0.01)\n",
    "X_grid = X_grid.reshape((len(X_grid), 1))\n",
    "plt.scatter(X, y, color = 'red')\n",
    "plt.plot(X_grid, regressor.predict(X_grid), color = 'blue')\n",
    "plt.title('Model Michael')\n",
    "plt.xlabel('Michael Count')\n",
    "plt.ylabel('Rating')\n",
    "plt.legend(['Rating','Michael Count'],fontsize=14,loc=4)\n",
    "plt.show()"
   ]
  },
  {
   "cell_type": "markdown",
   "id": "selective-fountain",
   "metadata": {},
   "source": [
    "# Testing Office data using NLP - \"Dwight\""
   ]
  },
  {
   "cell_type": "code",
   "execution_count": 447,
   "id": "wrapped-valley",
   "metadata": {},
   "outputs": [
    {
     "data": {
      "text/html": [
       "<div>\n",
       "<style scoped>\n",
       "    .dataframe tbody tr th:only-of-type {\n",
       "        vertical-align: middle;\n",
       "    }\n",
       "\n",
       "    .dataframe tbody tr th {\n",
       "        vertical-align: top;\n",
       "    }\n",
       "\n",
       "    .dataframe thead th {\n",
       "        text-align: right;\n",
       "    }\n",
       "</style>\n",
       "<table border=\"1\" class=\"dataframe\">\n",
       "  <thead>\n",
       "    <tr style=\"text-align: right;\">\n",
       "      <th></th>\n",
       "      <th>EpisodeTitle</th>\n",
       "      <th>About</th>\n",
       "      <th>Ratings</th>\n",
       "      <th>Viewership</th>\n",
       "      <th>Date</th>\n",
       "      <th>Dwight_count</th>\n",
       "    </tr>\n",
       "  </thead>\n",
       "  <tbody>\n",
       "    <tr>\n",
       "      <th>0</th>\n",
       "      <td>Pilot</td>\n",
       "      <td>The premiere episode introduces the boss and s...</td>\n",
       "      <td>7.5</td>\n",
       "      <td>11.2</td>\n",
       "      <td>24 March 2005</td>\n",
       "      <td>0</td>\n",
       "    </tr>\n",
       "    <tr>\n",
       "      <th>1</th>\n",
       "      <td>Diversity Day</td>\n",
       "      <td>Michael's off color remark puts a sensitivity ...</td>\n",
       "      <td>8.3</td>\n",
       "      <td>6.0</td>\n",
       "      <td>29 March 2005</td>\n",
       "      <td>0</td>\n",
       "    </tr>\n",
       "    <tr>\n",
       "      <th>2</th>\n",
       "      <td>Health Care</td>\n",
       "      <td>Michael leaves Dwight in charge of picking the...</td>\n",
       "      <td>7.8</td>\n",
       "      <td>5.8</td>\n",
       "      <td>5 April 2005</td>\n",
       "      <td>0</td>\n",
       "    </tr>\n",
       "    <tr>\n",
       "      <th>3</th>\n",
       "      <td>The Alliance</td>\n",
       "      <td>Just for a laugh, Jim agrees to an alliance wi...</td>\n",
       "      <td>8.1</td>\n",
       "      <td>5.4</td>\n",
       "      <td>12 April 2005</td>\n",
       "      <td>0</td>\n",
       "    </tr>\n",
       "    <tr>\n",
       "      <th>4</th>\n",
       "      <td>Basketball</td>\n",
       "      <td>Michael and his staff challenge the warehouse ...</td>\n",
       "      <td>8.4</td>\n",
       "      <td>5.0</td>\n",
       "      <td>19 April 2005</td>\n",
       "      <td>0</td>\n",
       "    </tr>\n",
       "  </tbody>\n",
       "</table>\n",
       "</div>"
      ],
      "text/plain": [
       "    EpisodeTitle                                              About  Ratings  \\\n",
       "0          Pilot  The premiere episode introduces the boss and s...      7.5   \n",
       "1  Diversity Day  Michael's off color remark puts a sensitivity ...      8.3   \n",
       "2    Health Care  Michael leaves Dwight in charge of picking the...      7.8   \n",
       "3   The Alliance  Just for a laugh, Jim agrees to an alliance wi...      8.1   \n",
       "4     Basketball  Michael and his staff challenge the warehouse ...      8.4   \n",
       "\n",
       "   Viewership            Date  Dwight_count  \n",
       "0        11.2   24 March 2005             0  \n",
       "1         6.0   29 March 2005             0  \n",
       "2         5.8    5 April 2005             0  \n",
       "3         5.4   12 April 2005             0  \n",
       "4         5.0   19 April 2005             0  "
      ]
     },
     "execution_count": 447,
     "metadata": {},
     "output_type": "execute_result"
    }
   ],
   "source": [
    "# Read and copy data\n",
    "dw_df=df1.copy()\n",
    "dw_df=dw_df[['EpisodeTitle','About','Ratings','Viewership','Date']]\n",
    "dw_df['Dwight_count']=0\n",
    "dw_df.head()"
   ]
  },
  {
   "cell_type": "code",
   "execution_count": 455,
   "id": "fifth-holocaust",
   "metadata": {},
   "outputs": [
    {
     "data": {
      "text/html": [
       "<div>\n",
       "<style scoped>\n",
       "    .dataframe tbody tr th:only-of-type {\n",
       "        vertical-align: middle;\n",
       "    }\n",
       "\n",
       "    .dataframe tbody tr th {\n",
       "        vertical-align: top;\n",
       "    }\n",
       "\n",
       "    .dataframe thead th {\n",
       "        text-align: right;\n",
       "    }\n",
       "</style>\n",
       "<table border=\"1\" class=\"dataframe\">\n",
       "  <thead>\n",
       "    <tr style=\"text-align: right;\">\n",
       "      <th></th>\n",
       "      <th>date</th>\n",
       "      <th>text</th>\n",
       "      <th>compound</th>\n",
       "      <th>positive</th>\n",
       "      <th>negative</th>\n",
       "      <th>neutral</th>\n",
       "      <th>dwight_count</th>\n",
       "    </tr>\n",
       "  </thead>\n",
       "  <tbody>\n",
       "    <tr>\n",
       "      <th>183</th>\n",
       "      <td>11 April 2013</td>\n",
       "      <td>Dwight shoots Stanley with a bull tranquilizer...</td>\n",
       "      <td>0.4019</td>\n",
       "      <td>0.076</td>\n",
       "      <td>0.030</td>\n",
       "      <td>0.894</td>\n",
       "      <td>1</td>\n",
       "    </tr>\n",
       "    <tr>\n",
       "      <th>184</th>\n",
       "      <td>25 April 2013</td>\n",
       "      <td>The employees hold a paper airplane competitio...</td>\n",
       "      <td>0.0258</td>\n",
       "      <td>0.102</td>\n",
       "      <td>0.098</td>\n",
       "      <td>0.800</td>\n",
       "      <td>0</td>\n",
       "    </tr>\n",
       "    <tr>\n",
       "      <th>185</th>\n",
       "      <td>2 May 2013</td>\n",
       "      <td>Dwight becomes regional manager after Andy qui...</td>\n",
       "      <td>0.1280</td>\n",
       "      <td>0.078</td>\n",
       "      <td>0.066</td>\n",
       "      <td>0.856</td>\n",
       "      <td>1</td>\n",
       "    </tr>\n",
       "    <tr>\n",
       "      <th>186</th>\n",
       "      <td>9 May 2013</td>\n",
       "      <td>Dwight prepares for a marriage proposal and hi...</td>\n",
       "      <td>-0.0516</td>\n",
       "      <td>0.000</td>\n",
       "      <td>0.034</td>\n",
       "      <td>0.966</td>\n",
       "      <td>1</td>\n",
       "    </tr>\n",
       "    <tr>\n",
       "      <th>187</th>\n",
       "      <td>16 May 2013</td>\n",
       "      <td>One year later, Dunder Mifflin employees past ...</td>\n",
       "      <td>0.0000</td>\n",
       "      <td>0.000</td>\n",
       "      <td>0.000</td>\n",
       "      <td>1.000</td>\n",
       "      <td>1</td>\n",
       "    </tr>\n",
       "  </tbody>\n",
       "</table>\n",
       "</div>"
      ],
      "text/plain": [
       "               date                                               text  \\\n",
       "183   11 April 2013  Dwight shoots Stanley with a bull tranquilizer...   \n",
       "184   25 April 2013  The employees hold a paper airplane competitio...   \n",
       "185      2 May 2013  Dwight becomes regional manager after Andy qui...   \n",
       "186      9 May 2013  Dwight prepares for a marriage proposal and hi...   \n",
       "187     16 May 2013  One year later, Dunder Mifflin employees past ...   \n",
       "\n",
       "     compound  positive  negative  neutral  dwight_count  \n",
       "183    0.4019     0.076     0.030    0.894             1  \n",
       "184    0.0258     0.102     0.098    0.800             0  \n",
       "185    0.1280     0.078     0.066    0.856             1  \n",
       "186   -0.0516     0.000     0.034    0.966             1  \n",
       "187    0.0000     0.000     0.000    1.000             1  "
      ]
     },
     "execution_count": 455,
     "metadata": {},
     "output_type": "execute_result"
    }
   ],
   "source": [
    "# Create the sentiment scores DataFrame\n",
    "dw_about_sentiments = []\n",
    "\n",
    "for i in range(len(dw_df['About'])):\n",
    "    \n",
    "    try:\n",
    "        text = dw_df[\"About\"][i]\n",
    "        text_lst = text.split(' ')\n",
    "        dwight_count = 0\n",
    "        for j in text_lst:\n",
    "            if j=='Dwight' or j==\"Dwight's\":\n",
    "                dwight_count += 1\n",
    "        dw_df['Dwight_count'][i] = dwight_count\n",
    "        date = dw_df[\"Date\"][i]\n",
    "        sentiment = analyzer.polarity_scores(text)\n",
    "        compound = sentiment[\"compound\"]\n",
    "        pos = sentiment[\"pos\"]\n",
    "        neu = sentiment[\"neu\"]\n",
    "        neg = sentiment[\"neg\"]\n",
    "        \n",
    "        dw_about_sentiments.append({\n",
    "            \"text\": text,\n",
    "            \"date\": date,\n",
    "            \"compound\": compound,\n",
    "            \"positive\": pos,\n",
    "            \"negative\": neg,\n",
    "            \"neutral\": neu,\n",
    "            \"dwight_count\": dwight_count\n",
    "            \n",
    "        })\n",
    "        \n",
    "    except AttributeError:\n",
    "        pass\n",
    "    \n",
    "# Create DataFrame\n",
    "dw_about_df = pd.DataFrame(dw_about_sentiments)\n",
    "\n",
    "# Reorder DataFrame columns\n",
    "cols = [\"date\", \"text\", \"compound\", \"positive\", \"negative\", \"neutral\", \"dwight_count\"]\n",
    "dw_about_df = dw_about_df[cols]\n",
    "\n",
    "dw_about_df.tail()"
   ]
  },
  {
   "cell_type": "code",
   "execution_count": 454,
   "id": "final-analysis",
   "metadata": {},
   "outputs": [
    {
     "data": {
      "text/plain": [
       "3"
      ]
     },
     "execution_count": 454,
     "metadata": {},
     "output_type": "execute_result"
    }
   ],
   "source": [
    "max(dw_df[\"Dwight_count\"])"
   ]
  },
  {
   "cell_type": "code",
   "execution_count": 456,
   "id": "dominant-problem",
   "metadata": {},
   "outputs": [
    {
     "data": {
      "text/html": [
       "<div>\n",
       "<style scoped>\n",
       "    .dataframe tbody tr th:only-of-type {\n",
       "        vertical-align: middle;\n",
       "    }\n",
       "\n",
       "    .dataframe tbody tr th {\n",
       "        vertical-align: top;\n",
       "    }\n",
       "\n",
       "    .dataframe thead th {\n",
       "        text-align: right;\n",
       "    }\n",
       "</style>\n",
       "<table border=\"1\" class=\"dataframe\">\n",
       "  <thead>\n",
       "    <tr style=\"text-align: right;\">\n",
       "      <th></th>\n",
       "      <th>compound</th>\n",
       "      <th>positive</th>\n",
       "      <th>negative</th>\n",
       "      <th>neutral</th>\n",
       "      <th>dwight_count</th>\n",
       "    </tr>\n",
       "  </thead>\n",
       "  <tbody>\n",
       "    <tr>\n",
       "      <th>compound</th>\n",
       "      <td>1.000000</td>\n",
       "      <td>0.688797</td>\n",
       "      <td>-0.785866</td>\n",
       "      <td>0.158884</td>\n",
       "      <td>0.044978</td>\n",
       "    </tr>\n",
       "    <tr>\n",
       "      <th>positive</th>\n",
       "      <td>0.688797</td>\n",
       "      <td>1.000000</td>\n",
       "      <td>-0.219572</td>\n",
       "      <td>-0.554932</td>\n",
       "      <td>0.029959</td>\n",
       "    </tr>\n",
       "    <tr>\n",
       "      <th>negative</th>\n",
       "      <td>-0.785866</td>\n",
       "      <td>-0.219572</td>\n",
       "      <td>1.000000</td>\n",
       "      <td>-0.689740</td>\n",
       "      <td>-0.055744</td>\n",
       "    </tr>\n",
       "    <tr>\n",
       "      <th>neutral</th>\n",
       "      <td>0.158884</td>\n",
       "      <td>-0.554932</td>\n",
       "      <td>-0.689740</td>\n",
       "      <td>1.000000</td>\n",
       "      <td>0.025753</td>\n",
       "    </tr>\n",
       "    <tr>\n",
       "      <th>dwight_count</th>\n",
       "      <td>0.044978</td>\n",
       "      <td>0.029959</td>\n",
       "      <td>-0.055744</td>\n",
       "      <td>0.025753</td>\n",
       "      <td>1.000000</td>\n",
       "    </tr>\n",
       "  </tbody>\n",
       "</table>\n",
       "</div>"
      ],
      "text/plain": [
       "              compound  positive  negative   neutral  dwight_count\n",
       "compound      1.000000  0.688797 -0.785866  0.158884      0.044978\n",
       "positive      0.688797  1.000000 -0.219572 -0.554932      0.029959\n",
       "negative     -0.785866 -0.219572  1.000000 -0.689740     -0.055744\n",
       "neutral       0.158884 -0.554932 -0.689740  1.000000      0.025753\n",
       "dwight_count  0.044978  0.029959 -0.055744  0.025753      1.000000"
      ]
     },
     "execution_count": 456,
     "metadata": {},
     "output_type": "execute_result"
    }
   ],
   "source": [
    "# Calculate the correlation matrix\n",
    "\n",
    "dw_about_df.corr()"
   ]
  },
  {
   "cell_type": "code",
   "execution_count": 458,
   "id": "systematic-peter",
   "metadata": {},
   "outputs": [
    {
     "data": {
      "image/png": "[encoded data removed]",
      "text/plain": [
       "<Figure size 1440x720 with 2 Axes>"
      ]
     },
     "metadata": {},
     "output_type": "display_data"
    }
   ],
   "source": [
    "# Plot the correlation matrix\n",
    "\n",
    "sns.heatmap(dw_about_df.corr(), cmap=\"Blues\", annot=True)\n",
    "plt.show()"
   ]
  },
  {
   "cell_type": "code",
   "execution_count": 495,
   "id": "passive-madagascar",
   "metadata": {},
   "outputs": [
    {
     "data": {
      "text/plain": [
       "8.22"
      ]
     },
     "execution_count": 495,
     "metadata": {},
     "output_type": "execute_result"
    }
   ],
   "source": [
    "dw_0=dw_df.loc[dw_df['Dwight_count']==0]\n",
    "\n",
    "dw0_avg_rating= round(dw_0.Ratings.mean(),2)\n",
    "dw0_avg_rating"
   ]
  },
  {
   "cell_type": "code",
   "execution_count": 496,
   "id": "confidential-camera",
   "metadata": {},
   "outputs": [
    {
     "data": {
      "text/plain": [
       "8.25"
      ]
     },
     "execution_count": 496,
     "metadata": {},
     "output_type": "execute_result"
    }
   ],
   "source": [
    "dw_1=dw_df.loc[dw_df['Dwight_count']==1]\n",
    "\n",
    "dw1_avg_rating= round(dw_1.Ratings.mean(),2)\n",
    "dw1_avg_rating"
   ]
  },
  {
   "cell_type": "code",
   "execution_count": 497,
   "id": "worth-administrator",
   "metadata": {},
   "outputs": [
    {
     "data": {
      "text/plain": [
       "8.35"
      ]
     },
     "execution_count": 497,
     "metadata": {},
     "output_type": "execute_result"
    }
   ],
   "source": [
    "dw_2=dw_df.loc[dw_df['Dwight_count']==2]\n",
    "\n",
    "dw2_avg_rating= round(dw_2.Ratings.mean(),2)\n",
    "dw2_avg_rating"
   ]
  },
  {
   "cell_type": "code",
   "execution_count": 498,
   "id": "unexpected-blind",
   "metadata": {},
   "outputs": [
    {
     "data": {
      "text/plain": [
       "8.7"
      ]
     },
     "execution_count": 498,
     "metadata": {},
     "output_type": "execute_result"
    }
   ],
   "source": [
    "dw_3=dw_df.loc[dw_df['Dwight_count']==3]\n",
    "\n",
    "dw3_avg_rating= round(dw_3.Ratings.mean(),2)\n",
    "dw3_avg_rating"
   ]
  },
  {
   "cell_type": "code",
   "execution_count": 499,
   "id": "split-simple",
   "metadata": {},
   "outputs": [
    {
     "data": {
      "text/plain": [
       "[<matplotlib.lines.Line2D at 0x2abece98dc8>]"
      ]
     },
     "execution_count": 499,
     "metadata": {},
     "output_type": "execute_result"
    },
    {
     "data": {
      "image/png": "[encoded data removed]",
      "text/plain": [
       "<Figure size 1440x720 with 1 Axes>"
      ]
     },
     "metadata": {},
     "output_type": "display_data"
    }
   ],
   "source": [
    "# Plot the average ratings scores vs the average rating per episode\n",
    "\n",
    "threshold = avg_rating\n",
    "values = np.array([8.22,8.25,8.35,8.7])\n",
    "x = range(len(values))\n",
    "\n",
    "# split it up\n",
    "above_threshold = np.maximum(values - threshold, 0)\n",
    "below_threshold = np.minimum(values, threshold)\n",
    "\n",
    "# and plot it\n",
    "fig, ax = plt.subplots()\n",
    "ax.bar(x, below_threshold, 0.35, color=\"g\")\n",
    "ax.bar(x, above_threshold, 0.35, color=\"r\",\n",
    "        bottom=below_threshold)\n",
    "\n",
    "# horizontal line indicating the threshold\n",
    "ax.plot([-0.5, 3.5], [threshold, threshold], \"k--\")"
   ]
  },
  {
   "cell_type": "code",
   "execution_count": 467,
   "id": "manual-turning",
   "metadata": {},
   "outputs": [],
   "source": [
    "# define X and Y\n",
    "X=dw_df[['Dwight_count']]\n"
   ]
  },
  {
   "cell_type": "code",
   "execution_count": 468,
   "id": "religious-rogers",
   "metadata": {},
   "outputs": [
    {
     "data": {
      "text/plain": [
       "array([7.5, 8.3, 7.8, 8.1, 8.4])"
      ]
     },
     "execution_count": 468,
     "metadata": {},
     "output_type": "execute_result"
    }
   ],
   "source": [
    "y=dw_df['Ratings'].ravel()\n",
    "y[:5]"
   ]
  },
  {
   "cell_type": "code",
   "execution_count": 469,
   "id": "worse-christmas",
   "metadata": {},
   "outputs": [],
   "source": [
    " # Splitting into Train and Test sets\n",
    "X_train, X_test, y_train, y_test = train_test_split(X, y, random_state=78)\n"
   ]
  },
  {
   "cell_type": "code",
   "execution_count": 470,
   "id": "blessed-theater",
   "metadata": {},
   "outputs": [],
   "source": [
    "# Creating StandardScaler instance\n",
    "scaler = StandardScaler()"
   ]
  },
  {
   "cell_type": "code",
   "execution_count": 471,
   "id": "vietnamese-present",
   "metadata": {},
   "outputs": [],
   "source": [
    " # Fitting Standard Scaller\n",
    "X_scaler = scaler.fit(X_train)"
   ]
  },
  {
   "cell_type": "code",
   "execution_count": 472,
   "id": "emerging-poetry",
   "metadata": {},
   "outputs": [],
   "source": [
    " # Scaling data\n",
    "X_train_scaled = X_scaler.transform(X_train)\n",
    "X_test_scaled = X_scaler.transform(X_test)"
   ]
  },
  {
   "cell_type": "code",
   "execution_count": 473,
   "id": "korean-basin",
   "metadata": {},
   "outputs": [],
   "source": [
    " # Create a random forest classifier\n",
    "rf_model = RandomForestRegressor(n_estimators=500, random_state=78)\n"
   ]
  },
  {
   "cell_type": "code",
   "execution_count": 474,
   "id": "charming-particle",
   "metadata": {},
   "outputs": [
    {
     "data": {
      "text/plain": [
       "RandomForestRegressor(n_estimators=500, random_state=78)"
      ]
     },
     "execution_count": 474,
     "metadata": {},
     "output_type": "execute_result"
    }
   ],
   "source": [
    " # Fitting the model\n",
    "rf_model.fit(X_train_scaled, y_train)"
   ]
  },
  {
   "cell_type": "code",
   "execution_count": 475,
   "id": "substantial-cheese",
   "metadata": {},
   "outputs": [],
   "source": [
    " # Making predictions using the testing data\n",
    "predictions = rf_model.predict(X_test_scaled)"
   ]
  },
  {
   "cell_type": "code",
   "execution_count": 488,
   "id": "ongoing-latitude",
   "metadata": {},
   "outputs": [
    {
     "data": {
      "image/png": "[encoded data removed]",
      "text/plain": [
       "<Figure size 1440x720 with 1 Axes>"
      ]
     },
     "metadata": {},
     "output_type": "display_data"
    }
   ],
   "source": [
    "X_grid = np.arange(0, 3, 0.01)\n",
    "X_grid = X_grid.reshape((len(X_grid), 1))\n",
    "plt.scatter(X, y, color = 'red')\n",
    "plt.plot(X_grid, regressor.predict(X_grid), color = 'blue')\n",
    "plt.title('Model Dwight')\n",
    "plt.xlabel('Dwight Count')\n",
    "plt.ylabel('Rating')\n",
    "plt.legend(['Rating','Dwight Count'],fontsize=14,loc=4)\n",
    "plt.show()"
   ]
  },
  {
   "cell_type": "markdown",
   "id": "concrete-aurora",
   "metadata": {},
   "source": [
    "## Testing Office data using NLP - \"Michael\" & Dwight\" combined"
   ]
  },
  {
   "cell_type": "code",
   "execution_count": 491,
   "id": "empirical-messaging",
   "metadata": {},
   "outputs": [
    {
     "data": {
      "text/html": [
       "<div>\n",
       "<style scoped>\n",
       "    .dataframe tbody tr th:only-of-type {\n",
       "        vertical-align: middle;\n",
       "    }\n",
       "\n",
       "    .dataframe tbody tr th {\n",
       "        vertical-align: top;\n",
       "    }\n",
       "\n",
       "    .dataframe thead th {\n",
       "        text-align: right;\n",
       "    }\n",
       "</style>\n",
       "<table border=\"1\" class=\"dataframe\">\n",
       "  <thead>\n",
       "    <tr style=\"text-align: right;\">\n",
       "      <th></th>\n",
       "      <th>EpisodeTitle</th>\n",
       "      <th>About</th>\n",
       "      <th>Ratings</th>\n",
       "      <th>Viewership</th>\n",
       "      <th>Date</th>\n",
       "      <th>Bulk_count</th>\n",
       "    </tr>\n",
       "  </thead>\n",
       "  <tbody>\n",
       "    <tr>\n",
       "      <th>0</th>\n",
       "      <td>Pilot</td>\n",
       "      <td>The premiere episode introduces the boss and s...</td>\n",
       "      <td>7.5</td>\n",
       "      <td>11.2</td>\n",
       "      <td>24 March 2005</td>\n",
       "      <td>0</td>\n",
       "    </tr>\n",
       "    <tr>\n",
       "      <th>1</th>\n",
       "      <td>Diversity Day</td>\n",
       "      <td>Michael's off color remark puts a sensitivity ...</td>\n",
       "      <td>8.3</td>\n",
       "      <td>6.0</td>\n",
       "      <td>29 March 2005</td>\n",
       "      <td>0</td>\n",
       "    </tr>\n",
       "    <tr>\n",
       "      <th>2</th>\n",
       "      <td>Health Care</td>\n",
       "      <td>Michael leaves Dwight in charge of picking the...</td>\n",
       "      <td>7.8</td>\n",
       "      <td>5.8</td>\n",
       "      <td>5 April 2005</td>\n",
       "      <td>0</td>\n",
       "    </tr>\n",
       "    <tr>\n",
       "      <th>3</th>\n",
       "      <td>The Alliance</td>\n",
       "      <td>Just for a laugh, Jim agrees to an alliance wi...</td>\n",
       "      <td>8.1</td>\n",
       "      <td>5.4</td>\n",
       "      <td>12 April 2005</td>\n",
       "      <td>0</td>\n",
       "    </tr>\n",
       "    <tr>\n",
       "      <th>4</th>\n",
       "      <td>Basketball</td>\n",
       "      <td>Michael and his staff challenge the warehouse ...</td>\n",
       "      <td>8.4</td>\n",
       "      <td>5.0</td>\n",
       "      <td>19 April 2005</td>\n",
       "      <td>0</td>\n",
       "    </tr>\n",
       "  </tbody>\n",
       "</table>\n",
       "</div>"
      ],
      "text/plain": [
       "    EpisodeTitle                                              About  Ratings  \\\n",
       "0          Pilot  The premiere episode introduces the boss and s...      7.5   \n",
       "1  Diversity Day  Michael's off color remark puts a sensitivity ...      8.3   \n",
       "2    Health Care  Michael leaves Dwight in charge of picking the...      7.8   \n",
       "3   The Alliance  Just for a laugh, Jim agrees to an alliance wi...      8.1   \n",
       "4     Basketball  Michael and his staff challenge the warehouse ...      8.4   \n",
       "\n",
       "   Viewership            Date  Bulk_count  \n",
       "0        11.2   24 March 2005           0  \n",
       "1         6.0   29 March 2005           0  \n",
       "2         5.8    5 April 2005           0  \n",
       "3         5.4   12 April 2005           0  \n",
       "4         5.0   19 April 2005           0  "
      ]
     },
     "execution_count": 491,
     "metadata": {},
     "output_type": "execute_result"
    }
   ],
   "source": [
    "# Read and copy data\n",
    "bulk_df=df1.copy()\n",
    "bulk_df=bulk_df[['EpisodeTitle','About','Ratings','Viewership','Date']]\n",
    "bulk_df['Bulk_count']=0\n",
    "bulk_df.head()"
   ]
  },
  {
   "cell_type": "code",
   "execution_count": 492,
   "id": "auburn-membrane",
   "metadata": {},
   "outputs": [
    {
     "data": {
      "text/html": [
       "<div>\n",
       "<style scoped>\n",
       "    .dataframe tbody tr th:only-of-type {\n",
       "        vertical-align: middle;\n",
       "    }\n",
       "\n",
       "    .dataframe tbody tr th {\n",
       "        vertical-align: top;\n",
       "    }\n",
       "\n",
       "    .dataframe thead th {\n",
       "        text-align: right;\n",
       "    }\n",
       "</style>\n",
       "<table border=\"1\" class=\"dataframe\">\n",
       "  <thead>\n",
       "    <tr style=\"text-align: right;\">\n",
       "      <th></th>\n",
       "      <th>date</th>\n",
       "      <th>text</th>\n",
       "      <th>compound</th>\n",
       "      <th>positive</th>\n",
       "      <th>negative</th>\n",
       "      <th>neutral</th>\n",
       "      <th>bulk_count</th>\n",
       "    </tr>\n",
       "  </thead>\n",
       "  <tbody>\n",
       "    <tr>\n",
       "      <th>183</th>\n",
       "      <td>11 April 2013</td>\n",
       "      <td>Dwight shoots Stanley with a bull tranquilizer...</td>\n",
       "      <td>0.4019</td>\n",
       "      <td>0.076</td>\n",
       "      <td>0.030</td>\n",
       "      <td>0.894</td>\n",
       "      <td>1</td>\n",
       "    </tr>\n",
       "    <tr>\n",
       "      <th>184</th>\n",
       "      <td>25 April 2013</td>\n",
       "      <td>The employees hold a paper airplane competitio...</td>\n",
       "      <td>0.0258</td>\n",
       "      <td>0.102</td>\n",
       "      <td>0.098</td>\n",
       "      <td>0.800</td>\n",
       "      <td>0</td>\n",
       "    </tr>\n",
       "    <tr>\n",
       "      <th>185</th>\n",
       "      <td>2 May 2013</td>\n",
       "      <td>Dwight becomes regional manager after Andy qui...</td>\n",
       "      <td>0.1280</td>\n",
       "      <td>0.078</td>\n",
       "      <td>0.066</td>\n",
       "      <td>0.856</td>\n",
       "      <td>1</td>\n",
       "    </tr>\n",
       "    <tr>\n",
       "      <th>186</th>\n",
       "      <td>9 May 2013</td>\n",
       "      <td>Dwight prepares for a marriage proposal and hi...</td>\n",
       "      <td>-0.0516</td>\n",
       "      <td>0.000</td>\n",
       "      <td>0.034</td>\n",
       "      <td>0.966</td>\n",
       "      <td>1</td>\n",
       "    </tr>\n",
       "    <tr>\n",
       "      <th>187</th>\n",
       "      <td>16 May 2013</td>\n",
       "      <td>One year later, Dunder Mifflin employees past ...</td>\n",
       "      <td>0.0000</td>\n",
       "      <td>0.000</td>\n",
       "      <td>0.000</td>\n",
       "      <td>1.000</td>\n",
       "      <td>1</td>\n",
       "    </tr>\n",
       "  </tbody>\n",
       "</table>\n",
       "</div>"
      ],
      "text/plain": [
       "               date                                               text  \\\n",
       "183   11 April 2013  Dwight shoots Stanley with a bull tranquilizer...   \n",
       "184   25 April 2013  The employees hold a paper airplane competitio...   \n",
       "185      2 May 2013  Dwight becomes regional manager after Andy qui...   \n",
       "186      9 May 2013  Dwight prepares for a marriage proposal and hi...   \n",
       "187     16 May 2013  One year later, Dunder Mifflin employees past ...   \n",
       "\n",
       "     compound  positive  negative  neutral  bulk_count  \n",
       "183    0.4019     0.076     0.030    0.894           1  \n",
       "184    0.0258     0.102     0.098    0.800           0  \n",
       "185    0.1280     0.078     0.066    0.856           1  \n",
       "186   -0.0516     0.000     0.034    0.966           1  \n",
       "187    0.0000     0.000     0.000    1.000           1  "
      ]
     },
     "execution_count": 492,
     "metadata": {},
     "output_type": "execute_result"
    }
   ],
   "source": [
    "# Create the sentiment scores DataFrame\n",
    "bulk_about_sentiments = []\n",
    "\n",
    "for i in range(len(bulk_df['About'])):\n",
    "    \n",
    "    try:\n",
    "        text = bulk_df[\"About\"][i]\n",
    "        text_lst = text.split(' ')\n",
    "        bulk_count = 0\n",
    "        for j in text_lst:\n",
    "            if j=='Dwight' or j==\"Dwight's\" or j==\"Michael\" or j==\"Michael's\":\n",
    "                bulk_count += 1\n",
    "        bulk_df['Bulk_count'][i] = bulk_count\n",
    "        date = bulk_df[\"Date\"][i]\n",
    "        sentiment = analyzer.polarity_scores(text)\n",
    "        compound = sentiment[\"compound\"]\n",
    "        pos = sentiment[\"pos\"]\n",
    "        neu = sentiment[\"neu\"]\n",
    "        neg = sentiment[\"neg\"]\n",
    "        \n",
    "        bulk_about_sentiments.append({\n",
    "            \"text\": text,\n",
    "            \"date\": date,\n",
    "            \"compound\": compound,\n",
    "            \"positive\": pos,\n",
    "            \"negative\": neg,\n",
    "            \"neutral\": neu,\n",
    "            \"bulk_count\": bulk_count\n",
    "            \n",
    "        })\n",
    "        \n",
    "    except AttributeError:\n",
    "        pass\n",
    "    \n",
    "# Create DataFrame\n",
    "bulk_about_df = pd.DataFrame(bulk_about_sentiments)\n",
    "\n",
    "# Reorder DataFrame columns\n",
    "cols = [\"date\", \"text\", \"compound\", \"positive\", \"negative\", \"neutral\", \"bulk_count\"]\n",
    "bulk_about_df = bulk_about_df[cols]\n",
    "\n",
    "bulk_about_df.tail()"
   ]
  },
  {
   "cell_type": "code",
   "execution_count": 493,
   "id": "registered-effort",
   "metadata": {},
   "outputs": [
    {
     "data": {
      "text/plain": [
       "5"
      ]
     },
     "execution_count": 493,
     "metadata": {},
     "output_type": "execute_result"
    }
   ],
   "source": [
    "max(bulk_df[\"Bulk_count\"])"
   ]
  },
  {
   "cell_type": "code",
   "execution_count": 494,
   "id": "virgin-spirit",
   "metadata": {},
   "outputs": [
    {
     "data": {
      "text/html": [
       "<div>\n",
       "<style scoped>\n",
       "    .dataframe tbody tr th:only-of-type {\n",
       "        vertical-align: middle;\n",
       "    }\n",
       "\n",
       "    .dataframe tbody tr th {\n",
       "        vertical-align: top;\n",
       "    }\n",
       "\n",
       "    .dataframe thead th {\n",
       "        text-align: right;\n",
       "    }\n",
       "</style>\n",
       "<table border=\"1\" class=\"dataframe\">\n",
       "  <thead>\n",
       "    <tr style=\"text-align: right;\">\n",
       "      <th></th>\n",
       "      <th>compound</th>\n",
       "      <th>positive</th>\n",
       "      <th>negative</th>\n",
       "      <th>neutral</th>\n",
       "      <th>bulk_count</th>\n",
       "    </tr>\n",
       "  </thead>\n",
       "  <tbody>\n",
       "    <tr>\n",
       "      <th>compound</th>\n",
       "      <td>1.000000</td>\n",
       "      <td>0.688797</td>\n",
       "      <td>-0.785866</td>\n",
       "      <td>0.158884</td>\n",
       "      <td>-0.020164</td>\n",
       "    </tr>\n",
       "    <tr>\n",
       "      <th>positive</th>\n",
       "      <td>0.688797</td>\n",
       "      <td>1.000000</td>\n",
       "      <td>-0.219572</td>\n",
       "      <td>-0.554932</td>\n",
       "      <td>-0.057124</td>\n",
       "    </tr>\n",
       "    <tr>\n",
       "      <th>negative</th>\n",
       "      <td>-0.785866</td>\n",
       "      <td>-0.219572</td>\n",
       "      <td>1.000000</td>\n",
       "      <td>-0.689740</td>\n",
       "      <td>-0.051290</td>\n",
       "    </tr>\n",
       "    <tr>\n",
       "      <th>neutral</th>\n",
       "      <td>0.158884</td>\n",
       "      <td>-0.554932</td>\n",
       "      <td>-0.689740</td>\n",
       "      <td>1.000000</td>\n",
       "      <td>0.086520</td>\n",
       "    </tr>\n",
       "    <tr>\n",
       "      <th>bulk_count</th>\n",
       "      <td>-0.020164</td>\n",
       "      <td>-0.057124</td>\n",
       "      <td>-0.051290</td>\n",
       "      <td>0.086520</td>\n",
       "      <td>1.000000</td>\n",
       "    </tr>\n",
       "  </tbody>\n",
       "</table>\n",
       "</div>"
      ],
      "text/plain": [
       "            compound  positive  negative   neutral  bulk_count\n",
       "compound    1.000000  0.688797 -0.785866  0.158884   -0.020164\n",
       "positive    0.688797  1.000000 -0.219572 -0.554932   -0.057124\n",
       "negative   -0.785866 -0.219572  1.000000 -0.689740   -0.051290\n",
       "neutral     0.158884 -0.554932 -0.689740  1.000000    0.086520\n",
       "bulk_count -0.020164 -0.057124 -0.051290  0.086520    1.000000"
      ]
     },
     "execution_count": 494,
     "metadata": {},
     "output_type": "execute_result"
    }
   ],
   "source": [
    "bulk_about_df.corr()"
   ]
  },
  {
   "cell_type": "code",
   "execution_count": 500,
   "id": "mineral-porter",
   "metadata": {},
   "outputs": [
    {
     "data": {
      "text/plain": [
       "7.63"
      ]
     },
     "execution_count": 500,
     "metadata": {},
     "output_type": "execute_result"
    }
   ],
   "source": [
    "bulk_0=bulk_df.loc[bulk_df['Bulk_count']==0]\n",
    "\n",
    "bulk0_avg_rating= round(bulk_0.Ratings.mean(),2)\n",
    "bulk0_avg_rating"
   ]
  },
  {
   "cell_type": "code",
   "execution_count": 501,
   "id": "focused-subscriber",
   "metadata": {},
   "outputs": [
    {
     "data": {
      "text/plain": [
       "8.26"
      ]
     },
     "execution_count": 501,
     "metadata": {},
     "output_type": "execute_result"
    }
   ],
   "source": [
    "bulk_1=bulk_df.loc[bulk_df['Bulk_count']==1]\n",
    "\n",
    "bulk1_avg_rating= round(bulk_1.Ratings.mean(),2)\n",
    "bulk1_avg_rating"
   ]
  },
  {
   "cell_type": "code",
   "execution_count": 502,
   "id": "amended-catalyst",
   "metadata": {},
   "outputs": [
    {
     "data": {
      "text/plain": [
       "8.37"
      ]
     },
     "execution_count": 502,
     "metadata": {},
     "output_type": "execute_result"
    }
   ],
   "source": [
    "bulk_2=bulk_df.loc[bulk_df['Bulk_count']==2]\n",
    "\n",
    "bulk2_avg_rating= round(bulk_2.Ratings.mean(),2)\n",
    "bulk2_avg_rating"
   ]
  },
  {
   "cell_type": "code",
   "execution_count": 503,
   "id": "instant-relative",
   "metadata": {},
   "outputs": [
    {
     "data": {
      "text/plain": [
       "8.73"
      ]
     },
     "execution_count": 503,
     "metadata": {},
     "output_type": "execute_result"
    }
   ],
   "source": [
    "bulk_3=bulk_df.loc[bulk_df['Bulk_count']==3]\n",
    "\n",
    "bulk3_avg_rating= round(bulk_3.Ratings.mean(),2)\n",
    "bulk3_avg_rating"
   ]
  },
  {
   "cell_type": "code",
   "execution_count": 504,
   "id": "iraqi-statistics",
   "metadata": {},
   "outputs": [
    {
     "data": {
      "text/plain": [
       "8.7"
      ]
     },
     "execution_count": 504,
     "metadata": {},
     "output_type": "execute_result"
    }
   ],
   "source": [
    "bulk_4=bulk_df.loc[bulk_df['Bulk_count']==4]\n",
    "\n",
    "bulk4_avg_rating= round(bulk_4.Ratings.mean(),2)\n",
    "bulk4_avg_rating"
   ]
  },
  {
   "cell_type": "code",
   "execution_count": 505,
   "id": "atlantic-heater",
   "metadata": {},
   "outputs": [
    {
     "data": {
      "text/plain": [
       "9.0"
      ]
     },
     "execution_count": 505,
     "metadata": {},
     "output_type": "execute_result"
    }
   ],
   "source": [
    "bulk_5=bulk_df.loc[bulk_df['Bulk_count']==5]\n",
    "\n",
    "bulk5_avg_rating= round(bulk_5.Ratings.mean(),2)\n",
    "bulk5_avg_rating"
   ]
  },
  {
   "cell_type": "code",
   "execution_count": 507,
   "id": "fundamental-exchange",
   "metadata": {},
   "outputs": [
    {
     "data": {
      "text/plain": [
       "[<matplotlib.lines.Line2D at 0x2abf735df08>]"
      ]
     },
     "execution_count": 507,
     "metadata": {},
     "output_type": "execute_result"
    },
    {
     "data": {
      "image/png": "[encoded data removed]",
      "text/plain": [
       "<Figure size 1440x720 with 1 Axes>"
      ]
     },
     "metadata": {},
     "output_type": "display_data"
    }
   ],
   "source": [
    "# Plot the average ratings scores vs the average rating per episode\n",
    "\n",
    "threshold = avg_rating\n",
    "values = np.array([7.63,8.26,8.37,8.73,8.7,9.0])\n",
    "x = range(len(values))\n",
    "\n",
    "# split it up\n",
    "above_threshold = np.maximum(values - threshold, 0)\n",
    "below_threshold = np.minimum(values, threshold)\n",
    "\n",
    "# and plot it\n",
    "fig, ax = plt.subplots()\n",
    "ax.bar(x, below_threshold, 0.35, color=\"g\")\n",
    "ax.bar(x, above_threshold, 0.35, color=\"r\",\n",
    "        bottom=below_threshold)\n",
    "\n",
    "# horizontal line indicating the threshold\n",
    "ax.plot([-0.5, 5.5], [threshold, threshold], \"k--\")"
   ]
  },
  {
   "cell_type": "code",
   "execution_count": 509,
   "id": "interior-groove",
   "metadata": {},
   "outputs": [],
   "source": [
    "# define X and Y\n",
    "X=bulk_df[['Bulk_count']]\n"
   ]
  },
  {
   "cell_type": "code",
   "execution_count": 508,
   "id": "stupid-dylan",
   "metadata": {},
   "outputs": [
    {
     "data": {
      "text/plain": [
       "array([7.5, 8.3, 7.8, 8.1, 8.4])"
      ]
     },
     "execution_count": 508,
     "metadata": {},
     "output_type": "execute_result"
    }
   ],
   "source": [
    "y=bulk_df['Ratings'].ravel()\n",
    "y[:5]"
   ]
  },
  {
   "cell_type": "code",
   "execution_count": 510,
   "id": "colored-rental",
   "metadata": {},
   "outputs": [],
   "source": [
    " # Splitting into Train and Test sets\n",
    "X_train, X_test, y_train, y_test = train_test_split(X, y, random_state=78)\n"
   ]
  },
  {
   "cell_type": "code",
   "execution_count": 511,
   "id": "loose-jersey",
   "metadata": {},
   "outputs": [],
   "source": [
    "# Creating StandardScaler instance\n",
    "scaler = StandardScaler()"
   ]
  },
  {
   "cell_type": "code",
   "execution_count": 512,
   "id": "dependent-perry",
   "metadata": {},
   "outputs": [],
   "source": [
    " # Fitting Standard Scaller\n",
    "X_scaler = scaler.fit(X_train)"
   ]
  },
  {
   "cell_type": "code",
   "execution_count": 513,
   "id": "headed-battlefield",
   "metadata": {},
   "outputs": [],
   "source": [
    " # Scaling data\n",
    "X_train_scaled = X_scaler.transform(X_train)\n",
    "X_test_scaled = X_scaler.transform(X_test)"
   ]
  },
  {
   "cell_type": "code",
   "execution_count": 514,
   "id": "chinese-supervisor",
   "metadata": {},
   "outputs": [],
   "source": [
    " # Create a random forest classifier\n",
    "rf_model = RandomForestRegressor(n_estimators=500, random_state=78)\n"
   ]
  },
  {
   "cell_type": "code",
   "execution_count": 515,
   "id": "frequent-villa",
   "metadata": {},
   "outputs": [
    {
     "data": {
      "text/plain": [
       "RandomForestRegressor(n_estimators=500, random_state=78)"
      ]
     },
     "execution_count": 515,
     "metadata": {},
     "output_type": "execute_result"
    }
   ],
   "source": [
    " # Fitting the model\n",
    "rf_model.fit(X_train_scaled, y_train)"
   ]
  },
  {
   "cell_type": "code",
   "execution_count": 516,
   "id": "patient-target",
   "metadata": {},
   "outputs": [],
   "source": [
    " # Making predictions using the testing data\n",
    "predictions = rf_model.predict(X_test_scaled)"
   ]
  },
  {
   "cell_type": "code",
   "execution_count": 572,
   "id": "excess-disabled",
   "metadata": {},
   "outputs": [
    {
     "data": {
      "image/png": "[encoded data removed]",
      "text/plain": [
       "<Figure size 1440x720 with 1 Axes>"
      ]
     },
     "metadata": {},
     "output_type": "display_data"
    }
   ],
   "source": [
    "X_grid = np.arange(0, 3, 0.01)\n",
    "X_grid = X_grid.reshape((len(X_grid), 1))\n",
    "plt.scatter(X, y, color = 'red')\n",
    "plt.plot(X_grid, regressor.predict(X_grid), color = 'blue')\n",
    "plt.title('Bulk Model')\n",
    "plt.xlabel('Bulk Count')\n",
    "plt.ylabel('Rating')\n",
    "plt.legend(['Rating','Bulk Count'],fontsize=14,loc=4)\n",
    "plt.show()"
   ]
  },
  {
   "cell_type": "code",
   "execution_count": 585,
   "id": "wrong-floor",
   "metadata": {},
   "outputs": [],
   "source": [
    "import hvplot.pandas\n",
    "import holoviews as hv"
   ]
  },
  {
   "cell_type": "code",
   "execution_count": 599,
   "id": "detected-survey",
   "metadata": {},
   "outputs": [],
   "source": [
    "# pull in aggregate ratings\n",
    "\n",
    "Ratings_df= pd.read_csv(Path('Resources/bulk_freq_rating.csv'))"
   ]
  },
  {
   "cell_type": "code",
   "execution_count": 617,
   "id": "retained-mineral",
   "metadata": {},
   "outputs": [
    {
     "data": {},
     "metadata": {},
     "output_type": "display_data"
    },
    {
     "data": {
      "application/vnd.holoviews_exec.v0+json": "",
      "text/html": [
       "<div id='7296'>\n",
       "\n",
       "\n",
       "\n",
       "\n",
       "\n",
       "  <div class=\"bk-root\" id=\"9604beb9-dc47-4120-83d8-28ce1a4ad08a\" data-root-id=\"7296\"></div>\n",
       "</div>\n",
       "<script type=\"application/javascript\">(function(root) {\n",
       "  function embed_document(root) {\n",
       "    var docs_json = {\"17b703ef-38c9-4bb5-bfa2-b6d449dde28a\":{\"roots\":{\"references\":[{\"attributes\":{},\"id\":\"7311\",\"type\":\"CategoricalTicker\"},{\"attributes\":{},\"id\":\"7308\",\"type\":\"LinearScale\"},{\"attributes\":{},\"id\":\"7321\",\"type\":\"ResetTool\"},{\"attributes\":{},\"id\":\"7349\",\"type\":\"UnionRenderers\"},{\"attributes\":{\"fill_alpha\":{\"value\":0.2},\"fill_color\":{\"field\":\"Index\",\"transform\":{\"id\":\"7330\"}},\"line_alpha\":{\"value\":0.2},\"top\":{\"field\":\"Rating\"},\"width\":{\"value\":0.8},\"x\":{\"field\":\"xoffsets\"}},\"id\":\"7336\",\"type\":\"VBar\"},{\"attributes\":{\"axis_label\":\"Frequency, Index\",\"bounds\":\"auto\",\"formatter\":{\"id\":\"7340\"},\"major_label_orientation\":1.0471975511965976,\"ticker\":{\"id\":\"7311\"}},\"id\":\"7310\",\"type\":\"CategoricalAxis\"},{\"attributes\":{\"axis_label\":\"Rating\",\"bounds\":\"auto\",\"formatter\":{\"id\":\"7342\"},\"major_label_orientation\":\"horizontal\",\"ticker\":{\"id\":\"7314\"}},\"id\":\"7313\",\"type\":\"LinearAxis\"},{\"attributes\":{\"margin\":[5,5,5,5],\"name\":\"HSpacer16752\",\"sizing_mode\":\"stretch_width\"},\"id\":\"7359\",\"type\":\"Spacer\"},{\"attributes\":{\"factors\":[[\"0\",\"Combined\"],[\"0\",\"Dwight\"],[\"0\",\"Michael\"],[\"1\",\"Combined\"],[\"1\",\"Dwight\"],[\"1\",\"Michael\"],[\"2\",\"Combined\"],[\"2\",\"Dwight\"],[\"2\",\"Michael\"],[\"3\",\"Combined\"],[\"3\",\"Dwight\"],[\"3\",\"Michael\"],[\"4\",\"Combined\"],[\"4\",\"Dwight\"],[\"4\",\"Michael\"],[\"5\",\"Combined\"],[\"5\",\"Dwight\"],[\"5\",\"Michael\"]],\"tags\":[[[\"Frequency\",\"Frequency\",null],[\"Index\",\"Index\",null]]]},\"id\":\"7298\",\"type\":\"FactorRange\"},{\"attributes\":{\"end\":9.577,\"reset_end\":9.577,\"reset_start\":0.0,\"tags\":[[[\"Rating\",\"Rating\",null]]]},\"id\":\"7299\",\"type\":\"Range1d\"},{\"attributes\":{},\"id\":\"7314\",\"type\":\"BasicTicker\"},{\"attributes\":{},\"id\":\"7342\",\"type\":\"BasicTickFormatter\"},{\"attributes\":{\"factors\":[\"Combined\",\"Dwight\",\"Michael\"],\"palette\":[\"#30a2da\",\"#fc4f30\",\"#e5ae38\"]},\"id\":\"7330\",\"type\":\"CategoricalColorMapper\"},{\"attributes\":{\"axis\":{\"id\":\"7313\"},\"dimension\":1,\"grid_line_color\":null,\"ticker\":null},\"id\":\"7316\",\"type\":\"Grid\"},{\"attributes\":{\"data_source\":{\"id\":\"7331\"},\"glyph\":{\"id\":\"7334\"},\"hover_glyph\":null,\"muted_glyph\":{\"id\":\"7336\"},\"nonselection_glyph\":{\"id\":\"7335\"},\"selection_glyph\":null,\"view\":{\"id\":\"7338\"}},\"id\":\"7337\",\"type\":\"GlyphRenderer\"},{\"attributes\":{\"callback\":null,\"renderers\":[{\"id\":\"7337\"}],\"tags\":[\"hv_created\"],\"tooltips\":[[\"Frequency\",\"@{Frequency}\"],[\"Index\",\"@{Index}\"],[\"Rating\",\"@{Rating}\"]]},\"id\":\"7300\",\"type\":\"HoverTool\"},{\"attributes\":{},\"id\":\"7332\",\"type\":\"Selection\"},{\"attributes\":{\"active_drag\":\"auto\",\"active_inspect\":\"auto\",\"active_multi\":null,\"active_scroll\":\"auto\",\"active_tap\":\"auto\",\"tools\":[{\"id\":\"7300\"},{\"id\":\"7317\"},{\"id\":\"7318\"},{\"id\":\"7319\"},{\"id\":\"7320\"},{\"id\":\"7321\"}]},\"id\":\"7323\",\"type\":\"Toolbar\"},{\"attributes\":{\"bottom_units\":\"screen\",\"fill_alpha\":0.5,\"fill_color\":\"lightgrey\",\"left_units\":\"screen\",\"level\":\"overlay\",\"line_alpha\":1.0,\"line_color\":\"black\",\"line_dash\":[4,4],\"line_width\":2,\"right_units\":\"screen\",\"top_units\":\"screen\"},\"id\":\"7322\",\"type\":\"BoxAnnotation\"},{\"attributes\":{\"children\":[{\"id\":\"7297\"},{\"id\":\"7301\"},{\"id\":\"7359\"}],\"margin\":[0,0,0,0],\"name\":\"Row16747\",\"tags\":[\"embedded\"]},\"id\":\"7296\",\"type\":\"Row\"},{\"attributes\":{\"axis\":{\"id\":\"7310\"},\"grid_line_color\":null,\"ticker\":null},\"id\":\"7312\",\"type\":\"Grid\"},{\"attributes\":{\"fill_color\":{\"field\":\"Index\",\"transform\":{\"id\":\"7330\"}},\"top\":{\"field\":\"Rating\"},\"width\":{\"value\":0.8},\"x\":{\"field\":\"xoffsets\"}},\"id\":\"7334\",\"type\":\"VBar\"},{\"attributes\":{\"text\":\"How different characters effect the rating of a show\",\"text_color\":{\"value\":\"black\"},\"text_font_size\":{\"value\":\"12pt\"}},\"id\":\"7302\",\"type\":\"Title\"},{\"attributes\":{\"below\":[{\"id\":\"7310\"}],\"center\":[{\"id\":\"7312\"},{\"id\":\"7316\"}],\"left\":[{\"id\":\"7313\"}],\"margin\":[5,5,5,5],\"min_border_bottom\":10,\"min_border_left\":10,\"min_border_right\":10,\"min_border_top\":10,\"plot_height\":500,\"plot_width\":700,\"renderers\":[{\"id\":\"7337\"}],\"sizing_mode\":\"fixed\",\"title\":{\"id\":\"7302\"},\"toolbar\":{\"id\":\"7323\"},\"x_range\":{\"id\":\"7298\"},\"x_scale\":{\"id\":\"7306\"},\"y_range\":{\"id\":\"7299\"},\"y_scale\":{\"id\":\"7308\"}},\"id\":\"7301\",\"subtype\":\"Figure\",\"type\":\"Plot\"},{\"attributes\":{},\"id\":\"7317\",\"type\":\"SaveTool\"},{\"attributes\":{},\"id\":\"7318\",\"type\":\"PanTool\"},{\"attributes\":{\"overlay\":{\"id\":\"7322\"}},\"id\":\"7320\",\"type\":\"BoxZoomTool\"},{\"attributes\":{\"margin\":[5,5,5,5],\"name\":\"HSpacer16751\",\"sizing_mode\":\"stretch_width\"},\"id\":\"7297\",\"type\":\"Spacer\"},{\"attributes\":{\"source\":{\"id\":\"7331\"}},\"id\":\"7338\",\"type\":\"CDSView\"},{\"attributes\":{},\"id\":\"7319\",\"type\":\"WheelZoomTool\"},{\"attributes\":{\"fill_alpha\":{\"value\":0.1},\"fill_color\":{\"field\":\"Index\",\"transform\":{\"id\":\"7330\"}},\"line_alpha\":{\"value\":0.1},\"top\":{\"field\":\"Rating\"},\"width\":{\"value\":0.8},\"x\":{\"field\":\"xoffsets\"}},\"id\":\"7335\",\"type\":\"VBar\"},{\"attributes\":{\"data\":{\"Frequency\":[\"0\",\"1\",\"2\",\"3\",\"4\",\"5\",\"0\",\"1\",\"2\",\"3\",\"0\",\"1\",\"2\",\"3\"],\"Index\":[\"Combined\",\"Combined\",\"Combined\",\"Combined\",\"Combined\",\"Combined\",\"Dwight\",\"Dwight\",\"Dwight\",\"Dwight\",\"Michael\",\"Michael\",\"Michael\",\"Michael\"],\"Rating\":{\"__ndarray__\":\"hetRuB6FHkCF61G4HoUgQD0K16NwvSBA9ihcj8J1IUBmZmZmZmYhQAAAAAAAACJAcT0K16NwIEAAAAAAAIAgQDMzMzMzsyBAZmZmZmZmIUB7FK5H4XofQMP1KFyPwiBAFK5H4XoUIUDNzMzMzMwiQA==\",\"dtype\":\"float64\",\"order\":\"little\",\"shape\":[14]},\"xoffsets\":[[\"0\",\"Combined\"],[\"1\",\"Combined\"],[\"2\",\"Combined\"],[\"3\",\"Combined\"],[\"4\",\"Combined\"],[\"5\",\"Combined\"],[\"0\",\"Dwight\"],[\"1\",\"Dwight\"],[\"2\",\"Dwight\"],[\"3\",\"Dwight\"],[\"0\",\"Michael\"],[\"1\",\"Michael\"],[\"2\",\"Michael\"],[\"3\",\"Michael\"]]},\"selected\":{\"id\":\"7332\"},\"selection_policy\":{\"id\":\"7349\"}},\"id\":\"7331\",\"type\":\"ColumnDataSource\"},{\"attributes\":{},\"id\":\"7340\",\"type\":\"CategoricalTickFormatter\"},{\"attributes\":{},\"id\":\"7306\",\"type\":\"CategoricalScale\"}],\"root_ids\":[\"7296\"]},\"title\":\"Bokeh Application\",\"version\":\"2.2.3\"}};\n",
       "    var render_items = [{\"docid\":\"17b703ef-38c9-4bb5-bfa2-b6d449dde28a\",\"root_ids\":[\"7296\"],\"roots\":{\"7296\":\"9604beb9-dc47-4120-83d8-28ce1a4ad08a\"}}];\n",
       "    root.Bokeh.embed.embed_items_notebook(docs_json, render_items);\n",
       "  }\n",
       "  if (root.Bokeh !== undefined && root.Bokeh.Panel !== undefined && root['Plotly'] !== undefined ) {\n",
       "    embed_document(root);\n",
       "  } else {\n",
       "    var attempts = 0;\n",
       "    var timer = setInterval(function(root) {\n",
       "      if (root.Bokeh !== undefined && root.Bokeh.Panel !== undefined && root['Plotly'] !== undefined) {\n",
       "        clearInterval(timer);\n",
       "        embed_document(root);\n",
       "      } else if (document.readyState == \"complete\") {\n",
       "        attempts++;\n",
       "        if (attempts > 100) {\n",
       "          clearInterval(timer);\n",
       "          console.log(\"Bokeh: ERROR: Unable to run BokehJS code because BokehJS library is missing\");\n",
       "        }\n",
       "      }\n",
       "    }, 10, root)\n",
       "  }\n",
       "})(window);</script>"
      ],
      "text/plain": [
       ":Bars   [Frequency,Index]   (Rating)"
      ]
     },
     "execution_count": 617,
     "metadata": {
      "application/vnd.holoviews_exec.v0+json": {
       "id": "7296"
      }
     },
     "output_type": "execute_result"
    }
   ],
   "source": [
    "#plot aggregate ratings\n",
    "\n",
    "Ratings_plot=Ratings_df.groupby(['Frequency','Index']).mean()\n",
    "Ratings_plot.hvplot.bar(stacked=False, height=500, title='How different characters effect the rating of a show', rot=60)"
   ]
  },
  {
   "cell_type": "code",
   "execution_count": 618,
   "id": "temporal-hungary",
   "metadata": {},
   "outputs": [
    {
     "data": {},
     "metadata": {},
     "output_type": "display_data"
    },
    {
     "data": {
      "application/vnd.holoviews_exec.v0+json": "",
      "text/html": [
       "<div id='7401'>\n",
       "\n",
       "\n",
       "\n",
       "\n",
       "\n",
       "  <div class=\"bk-root\" id=\"9208654d-5fe6-4160-a3d5-cef9817437b9\" data-root-id=\"7401\"></div>\n",
       "</div>\n",
       "<script type=\"application/javascript\">(function(root) {\n",
       "  function embed_document(root) {\n",
       "    var docs_json = {\"b08dacb7-b13e-4eb4-adb4-d9faa92a8bd0\":{\"roots\":{\"references\":[{\"attributes\":{},\"id\":\"7422\",\"type\":\"SaveTool\"},{\"attributes\":{\"axis_label\":\"y\",\"bounds\":\"auto\",\"formatter\":{\"id\":\"7440\"},\"major_label_orientation\":\"horizontal\",\"ticker\":{\"id\":\"7419\"}},\"id\":\"7418\",\"type\":\"LinearAxis\"},{\"attributes\":{\"margin\":[5,5,5,5],\"name\":\"HSpacer16928\",\"sizing_mode\":\"stretch_width\"},\"id\":\"7402\",\"type\":\"Spacer\"},{\"attributes\":{\"tags\":[[[\"x\",\"x\",null]]]},\"id\":\"7403\",\"type\":\"Range1d\"},{\"attributes\":{},\"id\":\"7423\",\"type\":\"PanTool\"},{\"attributes\":{},\"id\":\"7419\",\"type\":\"BasicTicker\"},{\"attributes\":{},\"id\":\"7438\",\"type\":\"BasicTickFormatter\"},{\"attributes\":{\"axis\":{\"id\":\"7418\"},\"dimension\":1,\"grid_line_color\":null,\"ticker\":null},\"id\":\"7421\",\"type\":\"Grid\"},{\"attributes\":{},\"id\":\"7424\",\"type\":\"WheelZoomTool\"},{\"attributes\":{},\"id\":\"7412\",\"type\":\"LinearScale\"},{\"attributes\":{},\"id\":\"7410\",\"type\":\"LinearScale\"},{\"attributes\":{\"overlay\":{\"id\":\"7427\"}},\"id\":\"7425\",\"type\":\"BoxZoomTool\"},{\"attributes\":{\"level\":\"glyph\",\"line_color\":\"red\",\"line_dash\":[6],\"line_width\":2.0,\"location\":8.24},\"id\":\"7436\",\"type\":\"Span\"},{\"attributes\":{\"tags\":[[[\"y\",\"y\",null]]]},\"id\":\"7404\",\"type\":\"Range1d\"},{\"attributes\":{\"active_drag\":\"auto\",\"active_inspect\":\"auto\",\"active_multi\":null,\"active_scroll\":\"auto\",\"active_tap\":\"auto\",\"tools\":[{\"id\":\"7422\"},{\"id\":\"7423\"},{\"id\":\"7424\"},{\"id\":\"7425\"},{\"id\":\"7426\"}]},\"id\":\"7428\",\"type\":\"Toolbar\"},{\"attributes\":{},\"id\":\"7426\",\"type\":\"ResetTool\"},{\"attributes\":{\"axis\":{\"id\":\"7414\"},\"grid_line_color\":null,\"ticker\":null},\"id\":\"7417\",\"type\":\"Grid\"},{\"attributes\":{\"bottom_units\":\"screen\",\"fill_alpha\":0.5,\"fill_color\":\"lightgrey\",\"left_units\":\"screen\",\"level\":\"overlay\",\"line_alpha\":1.0,\"line_color\":\"black\",\"line_dash\":[4,4],\"line_width\":2,\"right_units\":\"screen\",\"top_units\":\"screen\"},\"id\":\"7427\",\"type\":\"BoxAnnotation\"},{\"attributes\":{\"margin\":[5,5,5,5],\"name\":\"HSpacer16929\",\"sizing_mode\":\"stretch_width\"},\"id\":\"7453\",\"type\":\"Spacer\"},{\"attributes\":{\"below\":[{\"id\":\"7414\"}],\"center\":[{\"id\":\"7417\"},{\"id\":\"7421\"}],\"left\":[{\"id\":\"7418\"}],\"margin\":[5,5,5,5],\"min_border_bottom\":10,\"min_border_left\":10,\"min_border_right\":10,\"min_border_top\":10,\"plot_height\":300,\"plot_width\":300,\"renderers\":[{\"id\":\"7436\"}],\"sizing_mode\":\"fixed\",\"title\":{\"id\":\"7406\"},\"toolbar\":{\"id\":\"7428\"},\"x_range\":{\"id\":\"7403\"},\"x_scale\":{\"id\":\"7410\"},\"y_range\":{\"id\":\"7404\"},\"y_scale\":{\"id\":\"7412\"}},\"id\":\"7405\",\"subtype\":\"Figure\",\"type\":\"Plot\"},{\"attributes\":{},\"id\":\"7415\",\"type\":\"BasicTicker\"},{\"attributes\":{\"children\":[{\"id\":\"7402\"},{\"id\":\"7405\"},{\"id\":\"7453\"}],\"margin\":[0,0,0,0],\"name\":\"Row16924\",\"tags\":[\"embedded\"]},\"id\":\"7401\",\"type\":\"Row\"},{\"attributes\":{},\"id\":\"7440\",\"type\":\"BasicTickFormatter\"},{\"attributes\":{\"axis_label\":\"x\",\"bounds\":\"auto\",\"formatter\":{\"id\":\"7438\"},\"major_label_orientation\":\"horizontal\",\"ticker\":{\"id\":\"7415\"}},\"id\":\"7414\",\"type\":\"LinearAxis\"},{\"attributes\":{\"text\":\"\",\"text_color\":{\"value\":\"black\"},\"text_font_size\":{\"value\":\"12pt\"}},\"id\":\"7406\",\"type\":\"Title\"}],\"root_ids\":[\"7401\"]},\"title\":\"Bokeh Application\",\"version\":\"2.2.3\"}};\n",
       "    var render_items = [{\"docid\":\"b08dacb7-b13e-4eb4-adb4-d9faa92a8bd0\",\"root_ids\":[\"7401\"],\"roots\":{\"7401\":\"9208654d-5fe6-4160-a3d5-cef9817437b9\"}}];\n",
       "    root.Bokeh.embed.embed_items_notebook(docs_json, render_items);\n",
       "  }\n",
       "  if (root.Bokeh !== undefined && root.Bokeh.Panel !== undefined && root['Plotly'] !== undefined ) {\n",
       "    embed_document(root);\n",
       "  } else {\n",
       "    var attempts = 0;\n",
       "    var timer = setInterval(function(root) {\n",
       "      if (root.Bokeh !== undefined && root.Bokeh.Panel !== undefined && root['Plotly'] !== undefined) {\n",
       "        clearInterval(timer);\n",
       "        embed_document(root);\n",
       "      } else if (document.readyState == \"complete\") {\n",
       "        attempts++;\n",
       "        if (attempts > 100) {\n",
       "          clearInterval(timer);\n",
       "          console.log(\"Bokeh: ERROR: Unable to run BokehJS code because BokehJS library is missing\");\n",
       "        }\n",
       "      }\n",
       "    }, 10, root)\n",
       "  }\n",
       "})(window);</script>"
      ],
      "text/plain": [
       ":HLine   [x,y]"
      ]
     },
     "execution_count": 618,
     "metadata": {
      "application/vnd.holoviews_exec.v0+json": {
       "id": "7401"
      }
     },
     "output_type": "execute_result"
    }
   ],
   "source": [
    "hline = hv.HLine(8.24)\n",
    "hline.opts(\n",
    "    color='red', \n",
    "    line_dash='dashed', \n",
    "    line_width=2.0)\n",
    "    \n"
   ]
  }
 ],
 "metadata": {
  "kernelspec": {
   "display_name": "Python [conda env:mlenv]",
   "language": "python",
   "name": "conda-env-mlenv-py"
  },
  "language_info": {
   "codemirror_mode": {
    "name": "ipython",
    "version": 3
   },
   "file_extension": ".py",
   "mimetype": "text/x-python",
   "name": "python",
   "nbconvert_exporter": "python",
   "pygments_lexer": "ipython3",
   "version": "3.7.9"
  }
 },
 "nbformat": 4,
 "nbformat_minor": 5
}
