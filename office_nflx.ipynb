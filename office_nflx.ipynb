{
 "cells": [
  {
   "cell_type": "code",
   "execution_count": 65,
   "id": "compound-individual",
   "metadata": {},
   "outputs": [],
   "source": [
    "import panel as pn\n",
    "pn.extension('plotly')\n",
    "import plotly.express as px\n",
    "import pandas as pd\n",
    "import hvplot.pandas\n",
    "import matplotlib.pyplot as plt\n",
    "import numpy as np\n",
    "import os\n",
    "from pathlib import Path\n",
    "import seaborn as sns\n",
    "import numpy_financial as npf\n",
    "import datetime as dt\n",
    "%matplotlib inline\n",
    "import warnings\n",
    "warnings.filterwarnings('ignore')\n",
    "from plotly.subplots import make_subplots\n",
    "import plotly.graph_objects as go\n",
    "import seaborn as sns\n",
    "from dotenv import load_dotenv\n",
    "import os\n",
    "import requests\n",
    "import alpaca_trade_api as tradeapi\n",
    "from datetime import datetime, timedelta\n",
    "from newsapi.newsapi_client import NewsApiClient\n",
    "from nltk.sentiment.vader import SentimentIntensityAnalyzer"
   ]
  },
  {
   "cell_type": "code",
   "execution_count": 50,
   "id": "median-watch",
   "metadata": {},
   "outputs": [],
   "source": [
    " # Define the base request URL\n",
    "request_url = \"https://www.quandl.com/api/v3/datasets/WIKI/NFLX.json?api_key=\"\n",
    "\n",
    "# Concatenate request_url and api_key. Store as new variable\n",
    "\n",
    "request_url=request_url+api_key"
   ]
  },
  {
   "cell_type": "code",
   "execution_count": 51,
   "id": "opposed-vertex",
   "metadata": {},
   "outputs": [],
   "source": [
    "alpaca_key=os.getenv(\"ALPACA_API_KEY\")\n",
    "alpaca_secret_key=os.getenv(\"ALPACA_SECRET_KEY\")"
   ]
  },
  {
   "cell_type": "code",
   "execution_count": 52,
   "id": "legendary-soviet",
   "metadata": {},
   "outputs": [],
   "source": [
    "alpaca=tradeapi.REST(alpaca_key,alpaca_secret_key,api_version=\"v2\")"
   ]
  },
  {
   "cell_type": "code",
   "execution_count": 53,
   "id": "precise-butterfly",
   "metadata": {},
   "outputs": [],
   "source": [
    "tickers=[\"NFLX\"]\n",
    "\n",
    "df_shares=pd.DataFrame(shares_data, index=tickers)\n",
    "\n",
    "# set timeframe to one day ('1D') for the alpaca API\n",
    "\n",
    "timeframe='1D'"
   ]
  },
  {
   "cell_type": "code",
   "execution_count": 136,
   "id": "tropical-interpretation",
   "metadata": {},
   "outputs": [],
   "source": [
    "# format start and end dates as ISO format for one year period\n",
    "start = pd.Timestamp(\"2013-01-01\", tz=\"America/New_York\").isoformat()\n",
    "end = pd.Timestamp(\"2021-05-25\", tz=\"America/New_York\").isoformat()\n"
   ]
  },
  {
   "cell_type": "code",
   "execution_count": 137,
   "id": "broken-fitness",
   "metadata": {},
   "outputs": [
    {
     "data": {
      "text/html": [
       "<div>\n",
       "<style scoped>\n",
       "    .dataframe tbody tr th:only-of-type {\n",
       "        vertical-align: middle;\n",
       "    }\n",
       "\n",
       "    .dataframe tbody tr th {\n",
       "        vertical-align: top;\n",
       "    }\n",
       "\n",
       "    .dataframe thead tr th {\n",
       "        text-align: left;\n",
       "    }\n",
       "\n",
       "    .dataframe thead tr:last-of-type th {\n",
       "        text-align: right;\n",
       "    }\n",
       "</style>\n",
       "<table border=\"1\" class=\"dataframe\">\n",
       "  <thead>\n",
       "    <tr>\n",
       "      <th></th>\n",
       "      <th colspan=\"5\" halign=\"left\">NFLX</th>\n",
       "    </tr>\n",
       "    <tr>\n",
       "      <th></th>\n",
       "      <th>open</th>\n",
       "      <th>high</th>\n",
       "      <th>low</th>\n",
       "      <th>close</th>\n",
       "      <th>volume</th>\n",
       "    </tr>\n",
       "    <tr>\n",
       "      <th>time</th>\n",
       "      <th></th>\n",
       "      <th></th>\n",
       "      <th></th>\n",
       "      <th></th>\n",
       "      <th></th>\n",
       "    </tr>\n",
       "  </thead>\n",
       "  <tbody>\n",
       "    <tr>\n",
       "      <th>2017-06-06 00:00:00-04:00</th>\n",
       "      <td>164.93</td>\n",
       "      <td>166.82</td>\n",
       "      <td>164.5100</td>\n",
       "      <td>165.170</td>\n",
       "      <td>3512616</td>\n",
       "    </tr>\n",
       "    <tr>\n",
       "      <th>2017-06-07 00:00:00-04:00</th>\n",
       "      <td>165.60</td>\n",
       "      <td>166.40</td>\n",
       "      <td>164.4086</td>\n",
       "      <td>165.610</td>\n",
       "      <td>2669076</td>\n",
       "    </tr>\n",
       "    <tr>\n",
       "      <th>2017-06-08 00:00:00-04:00</th>\n",
       "      <td>166.12</td>\n",
       "      <td>166.87</td>\n",
       "      <td>164.8400</td>\n",
       "      <td>165.880</td>\n",
       "      <td>3020499</td>\n",
       "    </tr>\n",
       "    <tr>\n",
       "      <th>2017-06-09 00:00:00-04:00</th>\n",
       "      <td>166.27</td>\n",
       "      <td>166.27</td>\n",
       "      <td>154.5000</td>\n",
       "      <td>158.050</td>\n",
       "      <td>8505676</td>\n",
       "    </tr>\n",
       "    <tr>\n",
       "      <th>2017-06-12 00:00:00-04:00</th>\n",
       "      <td>155.30</td>\n",
       "      <td>155.53</td>\n",
       "      <td>148.3100</td>\n",
       "      <td>151.417</td>\n",
       "      <td>11810478</td>\n",
       "    </tr>\n",
       "  </tbody>\n",
       "</table>\n",
       "</div>"
      ],
      "text/plain": [
       "                             NFLX                                     \n",
       "                             open    high       low    close    volume\n",
       "time                                                                  \n",
       "2017-06-06 00:00:00-04:00  164.93  166.82  164.5100  165.170   3512616\n",
       "2017-06-07 00:00:00-04:00  165.60  166.40  164.4086  165.610   2669076\n",
       "2017-06-08 00:00:00-04:00  166.12  166.87  164.8400  165.880   3020499\n",
       "2017-06-09 00:00:00-04:00  166.27  166.27  154.5000  158.050   8505676\n",
       "2017-06-12 00:00:00-04:00  155.30  155.53  148.3100  151.417  11810478"
      ]
     },
     "execution_count": 137,
     "metadata": {},
     "output_type": "execute_result"
    }
   ],
   "source": [
    "df_portfolio_yr=alpaca.get_barset(tickers,timeframe,start=start,end=end,limit=1000).df\n",
    "df_portfolio_yr.head()"
   ]
  },
  {
   "cell_type": "code",
   "execution_count": 138,
   "id": "radical-mirror",
   "metadata": {},
   "outputs": [
    {
     "data": {
      "text/html": [
       "<div>\n",
       "<style scoped>\n",
       "    .dataframe tbody tr th:only-of-type {\n",
       "        vertical-align: middle;\n",
       "    }\n",
       "\n",
       "    .dataframe tbody tr th {\n",
       "        vertical-align: top;\n",
       "    }\n",
       "\n",
       "    .dataframe thead th {\n",
       "        text-align: right;\n",
       "    }\n",
       "</style>\n",
       "<table border=\"1\" class=\"dataframe\">\n",
       "  <thead>\n",
       "    <tr style=\"text-align: right;\">\n",
       "      <th></th>\n",
       "      <th>NFLX</th>\n",
       "    </tr>\n",
       "  </thead>\n",
       "  <tbody>\n",
       "    <tr>\n",
       "      <th>2017-06-06</th>\n",
       "      <td>165.170</td>\n",
       "    </tr>\n",
       "    <tr>\n",
       "      <th>2017-06-07</th>\n",
       "      <td>165.610</td>\n",
       "    </tr>\n",
       "    <tr>\n",
       "      <th>2017-06-08</th>\n",
       "      <td>165.880</td>\n",
       "    </tr>\n",
       "    <tr>\n",
       "      <th>2017-06-09</th>\n",
       "      <td>158.050</td>\n",
       "    </tr>\n",
       "    <tr>\n",
       "      <th>2017-06-12</th>\n",
       "      <td>151.417</td>\n",
       "    </tr>\n",
       "  </tbody>\n",
       "</table>\n",
       "</div>"
      ],
      "text/plain": [
       "               NFLX\n",
       "2017-06-06  165.170\n",
       "2017-06-07  165.610\n",
       "2017-06-08  165.880\n",
       "2017-06-09  158.050\n",
       "2017-06-12  151.417"
      ]
     },
     "execution_count": 138,
     "metadata": {},
     "output_type": "execute_result"
    }
   ],
   "source": [
    "df_closing_prices=pd.DataFrame()\n",
    "df_closing_prices[\"NFLX\"]=df_portfolio_yr[\"NFLX\"][\"close\"]\n",
    "df_closing_prices.index=df_closing_prices.index.date\n",
    "\n",
    "df_closing_prices.head()"
   ]
  },
  {
   "cell_type": "code",
   "execution_count": 139,
   "id": "following-traveler",
   "metadata": {},
   "outputs": [
    {
     "data": {},
     "metadata": {},
     "output_type": "display_data"
    },
    {
     "data": {
      "application/vnd.holoviews_exec.v0+json": "",
      "text/html": [
       "<div id='1379'>\n",
       "\n",
       "\n",
       "\n",
       "\n",
       "\n",
       "  <div class=\"bk-root\" id=\"8a7a57b5-31aa-488a-b4b3-f9d89744392b\" data-root-id=\"1379\"></div>\n",
       "</div>\n",
       "<script type=\"application/javascript\">(function(root) {\n",
       "  function embed_document(root) {\n",
       "    var docs_json = {\"05b47de1-2e5b-4b7d-8d39-e16a948559c8\":{\"roots\":{\"references\":[{\"attributes\":{\"axis\":{\"id\":\"1397\"},\"dimension\":1,\"grid_line_color\":null,\"ticker\":null},\"id\":\"1400\",\"type\":\"Grid\"},{\"attributes\":{},\"id\":\"1389\",\"type\":\"LinearScale\"},{\"attributes\":{\"data\":{\"NFLX\":{\"__ndarray__\":\"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\",\"dtype\":\"float64\",\"order\":\"little\",\"shape\":[1000]},\"index\":{\"__ndarray__\":\"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\",\"dtype\":\"float64\",\"order\":\"little\",\"shape\":[1000]}},\"selected\":{\"id\":\"1415\"},\"selection_policy\":{\"id\":\"1432\"}},\"id\":\"1414\",\"type\":\"ColumnDataSource\"},{\"attributes\":{\"mantissas\":[1,2,5],\"max_interval\":500.0,\"num_minor_ticks\":0},\"id\":\"1434\",\"type\":\"AdaptiveTicker\"},{\"attributes\":{},\"id\":\"1425\",\"type\":\"BasicTickFormatter\"},{\"attributes\":{\"bottom_units\":\"screen\",\"fill_alpha\":0.5,\"fill_color\":\"lightgrey\",\"left_units\":\"screen\",\"level\":\"overlay\",\"line_alpha\":1.0,\"line_color\":\"black\",\"line_dash\":[4,4],\"line_width\":2,\"right_units\":\"screen\",\"top_units\":\"screen\"},\"id\":\"1406\",\"type\":\"BoxAnnotation\"},{\"attributes\":{},\"id\":\"1432\",\"type\":\"UnionRenderers\"},{\"attributes\":{\"base\":24,\"mantissas\":[1,2,4,6,8,12],\"max_interval\":43200000.0,\"min_interval\":3600000.0,\"num_minor_ticks\":0},\"id\":\"1436\",\"type\":\"AdaptiveTicker\"},{\"attributes\":{\"text\":\"\",\"text_color\":{\"value\":\"black\"},\"text_font_size\":{\"value\":\"12pt\"}},\"id\":\"1385\",\"type\":\"Title\"},{\"attributes\":{\"days\":[1,2,3,4,5,6,7,8,9,10,11,12,13,14,15,16,17,18,19,20,21,22,23,24,25,26,27,28,29,30,31]},\"id\":\"1437\",\"type\":\"DaysTicker\"},{\"attributes\":{\"base\":60,\"mantissas\":[1,2,5,10,15,20,30],\"max_interval\":1800000.0,\"min_interval\":1000.0,\"num_minor_ticks\":0},\"id\":\"1435\",\"type\":\"AdaptiveTicker\"},{\"attributes\":{\"fill_alpha\":{\"value\":0.1},\"fill_color\":{\"value\":\"#30a2da\"},\"line_alpha\":{\"value\":0.1},\"line_color\":{\"value\":\"#30a2da\"},\"size\":{\"units\":\"screen\",\"value\":5.477225575051661},\"x\":{\"field\":\"index\"},\"y\":{\"field\":\"NFLX\"}},\"id\":\"1418\",\"type\":\"Scatter\"},{\"attributes\":{\"days\":[1,4,7,10,13,16,19,22,25,28]},\"id\":\"1438\",\"type\":\"DaysTicker\"},{\"attributes\":{\"active_drag\":\"auto\",\"active_inspect\":\"auto\",\"active_multi\":null,\"active_scroll\":\"auto\",\"active_tap\":\"auto\",\"tools\":[{\"id\":\"1383\"},{\"id\":\"1401\"},{\"id\":\"1402\"},{\"id\":\"1403\"},{\"id\":\"1404\"},{\"id\":\"1405\"}]},\"id\":\"1407\",\"type\":\"Toolbar\"},{\"attributes\":{\"below\":[{\"id\":\"1393\"}],\"center\":[{\"id\":\"1396\"},{\"id\":\"1400\"}],\"left\":[{\"id\":\"1397\"}],\"margin\":[5,5,5,5],\"min_border_bottom\":10,\"min_border_left\":10,\"min_border_right\":10,\"min_border_top\":10,\"plot_height\":300,\"plot_width\":700,\"renderers\":[{\"id\":\"1420\"}],\"sizing_mode\":\"fixed\",\"title\":{\"id\":\"1385\"},\"toolbar\":{\"id\":\"1407\"},\"x_range\":{\"id\":\"1381\"},\"x_scale\":{\"id\":\"1389\"},\"y_range\":{\"id\":\"1382\"},\"y_scale\":{\"id\":\"1391\"}},\"id\":\"1384\",\"subtype\":\"Figure\",\"type\":\"Plot\"},{\"attributes\":{\"months\":[0,1,2,3,4,5,6,7,8,9,10,11]},\"id\":\"1441\",\"type\":\"MonthsTicker\"},{\"attributes\":{},\"id\":\"1401\",\"type\":\"SaveTool\"},{\"attributes\":{\"end\":1627266240000.0,\"reset_end\":1627266240000.0,\"reset_start\":1491341760000.0,\"start\":1491341760000.0,\"tags\":[[[\"index\",\"index\",null]]]},\"id\":\"1381\",\"type\":\"Range1d\"},{\"attributes\":{},\"id\":\"1402\",\"type\":\"PanTool\"},{\"attributes\":{\"days\":[1,8,15,22]},\"id\":\"1439\",\"type\":\"DaysTicker\"},{\"attributes\":{},\"id\":\"1405\",\"type\":\"ResetTool\"},{\"attributes\":{\"fill_alpha\":{\"value\":0.2},\"fill_color\":{\"value\":\"#30a2da\"},\"line_alpha\":{\"value\":0.2},\"line_color\":{\"value\":\"#30a2da\"},\"size\":{\"units\":\"screen\",\"value\":5.477225575051661},\"x\":{\"field\":\"index\"},\"y\":{\"field\":\"NFLX\"}},\"id\":\"1419\",\"type\":\"Scatter\"},{\"attributes\":{\"days\":[1,15]},\"id\":\"1440\",\"type\":\"DaysTicker\"},{\"attributes\":{},\"id\":\"1403\",\"type\":\"WheelZoomTool\"},{\"attributes\":{\"data_source\":{\"id\":\"1414\"},\"glyph\":{\"id\":\"1417\"},\"hover_glyph\":null,\"muted_glyph\":{\"id\":\"1419\"},\"nonselection_glyph\":{\"id\":\"1418\"},\"selection_glyph\":null,\"view\":{\"id\":\"1421\"}},\"id\":\"1420\",\"type\":\"GlyphRenderer\"},{\"attributes\":{\"axis_label\":\"\",\"bounds\":\"auto\",\"formatter\":{\"id\":\"1423\"},\"major_label_orientation\":\"horizontal\",\"ticker\":{\"id\":\"1394\"}},\"id\":\"1393\",\"type\":\"DatetimeAxis\"},{\"attributes\":{\"fill_color\":{\"value\":\"#30a2da\"},\"line_color\":{\"value\":\"#30a2da\"},\"size\":{\"units\":\"screen\",\"value\":5.477225575051661},\"x\":{\"field\":\"index\"},\"y\":{\"field\":\"NFLX\"}},\"id\":\"1417\",\"type\":\"Scatter\"},{\"attributes\":{\"overlay\":{\"id\":\"1406\"}},\"id\":\"1404\",\"type\":\"BoxZoomTool\"},{\"attributes\":{\"source\":{\"id\":\"1414\"}},\"id\":\"1421\",\"type\":\"CDSView\"},{\"attributes\":{\"months\":[0,2,4,6,8,10]},\"id\":\"1442\",\"type\":\"MonthsTicker\"},{\"attributes\":{\"months\":[0,4,8]},\"id\":\"1443\",\"type\":\"MonthsTicker\"},{\"attributes\":{},\"id\":\"1391\",\"type\":\"LinearScale\"},{\"attributes\":{\"callback\":null,\"formatters\":{\"@{index}\":\"datetime\"},\"renderers\":[{\"id\":\"1420\"}],\"tags\":[\"hv_created\"],\"tooltips\":[[\"index\",\"@{index}{%F %T}\"],[\"NFLX\",\"@{NFLX}\"]]},\"id\":\"1383\",\"type\":\"HoverTool\"},{\"attributes\":{\"num_minor_ticks\":5,\"tickers\":[{\"id\":\"1434\"},{\"id\":\"1435\"},{\"id\":\"1436\"},{\"id\":\"1437\"},{\"id\":\"1438\"},{\"id\":\"1439\"},{\"id\":\"1440\"},{\"id\":\"1441\"},{\"id\":\"1442\"},{\"id\":\"1443\"},{\"id\":\"1444\"},{\"id\":\"1445\"}]},\"id\":\"1394\",\"type\":\"DatetimeTicker\"},{\"attributes\":{\"months\":[0,6]},\"id\":\"1444\",\"type\":\"MonthsTicker\"},{\"attributes\":{\"axis_label\":\"NFLX\",\"bounds\":\"auto\",\"formatter\":{\"id\":\"1425\"},\"major_label_orientation\":\"horizontal\",\"ticker\":{\"id\":\"1398\"}},\"id\":\"1397\",\"type\":\"LinearAxis\"},{\"attributes\":{\"margin\":[5,5,5,5],\"name\":\"HSpacer02112\",\"sizing_mode\":\"stretch_width\"},\"id\":\"1380\",\"type\":\"Spacer\"},{\"attributes\":{\"axis\":{\"id\":\"1393\"},\"grid_line_color\":null,\"ticker\":null},\"id\":\"1396\",\"type\":\"Grid\"},{\"attributes\":{\"children\":[{\"id\":\"1380\"},{\"id\":\"1384\"},{\"id\":\"1466\"}],\"margin\":[0,0,0,0],\"name\":\"Row02108\",\"tags\":[\"embedded\"]},\"id\":\"1379\",\"type\":\"Row\"},{\"attributes\":{},\"id\":\"1423\",\"type\":\"DatetimeTickFormatter\"},{\"attributes\":{\"end\":630.259,\"reset_end\":630.259,\"reset_start\":102.15099999999998,\"start\":102.15099999999998,\"tags\":[[[\"NFLX\",\"NFLX\",null]]]},\"id\":\"1382\",\"type\":\"Range1d\"},{\"attributes\":{},\"id\":\"1415\",\"type\":\"Selection\"},{\"attributes\":{},\"id\":\"1445\",\"type\":\"YearsTicker\"},{\"attributes\":{},\"id\":\"1398\",\"type\":\"BasicTicker\"},{\"attributes\":{\"margin\":[5,5,5,5],\"name\":\"HSpacer02113\",\"sizing_mode\":\"stretch_width\"},\"id\":\"1466\",\"type\":\"Spacer\"}],\"root_ids\":[\"1379\"]},\"title\":\"Bokeh Application\",\"version\":\"2.2.3\"}};\n",
       "    var render_items = [{\"docid\":\"05b47de1-2e5b-4b7d-8d39-e16a948559c8\",\"root_ids\":[\"1379\"],\"roots\":{\"1379\":\"8a7a57b5-31aa-488a-b4b3-f9d89744392b\"}}];\n",
       "    root.Bokeh.embed.embed_items_notebook(docs_json, render_items);\n",
       "  }\n",
       "  if (root.Bokeh !== undefined && root.Bokeh.Panel !== undefined && root['Plotly'] !== undefined ) {\n",
       "    embed_document(root);\n",
       "  } else {\n",
       "    var attempts = 0;\n",
       "    var timer = setInterval(function(root) {\n",
       "      if (root.Bokeh !== undefined && root.Bokeh.Panel !== undefined && root['Plotly'] !== undefined) {\n",
       "        clearInterval(timer);\n",
       "        embed_document(root);\n",
       "      } else if (document.readyState == \"complete\") {\n",
       "        attempts++;\n",
       "        if (attempts > 100) {\n",
       "          clearInterval(timer);\n",
       "          console.log(\"Bokeh: ERROR: Unable to run BokehJS code because BokehJS library is missing\");\n",
       "        }\n",
       "      }\n",
       "    }, 10, root)\n",
       "  }\n",
       "})(window);</script>"
      ],
      "text/plain": [
       ":Scatter   [index]   (NFLX)"
      ]
     },
     "execution_count": 139,
     "metadata": {
      "application/vnd.holoviews_exec.v0+json": {
       "id": "1379"
      }
     },
     "output_type": "execute_result"
    }
   ],
   "source": [
    "# office leaves netflix on 12/31/21 first aired back on 10/1/13 (double check the date on when it first aired)\n",
    "\n",
    "df_closing_prices.hvplot.scatter()\n"
   ]
  },
  {
   "cell_type": "code",
   "execution_count": null,
   "id": "charming-notice",
   "metadata": {},
   "outputs": [],
   "source": [
    "# Visualize exit position relative to close price\n",
    "start = df_closing_prices[df_closing_prices.index == '2020-01-04']['NFLX'].hvplot.scatter(\n",
    "    color='red',\n",
    "    marker='v',\n",
    "    size=200,\n",
    "    legend=False,\n",
    "    ylabel='Price in $',\n",
    "    width=1000,\n",
    "    height=400\n",
    ")"
   ]
  },
  {
   "cell_type": "code",
   "execution_count": 69,
   "id": "lonely-postcard",
   "metadata": {},
   "outputs": [
    {
     "ename": "ValueError",
     "evalue": "Unable to coerce to Series, length must be 1: given 0",
     "output_type": "error",
     "traceback": [
      "\u001b[1;31m---------------------------------------------------------------------------\u001b[0m",
      "\u001b[1;31mValueError\u001b[0m                                Traceback (most recent call last)",
      "\u001b[1;32m<ipython-input-69-fbb2f5588641>\u001b[0m in \u001b[0;36m<module>\u001b[1;34m\u001b[0m\n\u001b[1;32m----> 1\u001b[1;33m \u001b[0mentry_exit_plot\u001b[0m \u001b[1;33m=\u001b[0m \u001b[0mdf_closing_prices\u001b[0m \u001b[1;33m*\u001b[0m \u001b[0mstart\u001b[0m\u001b[1;33m\u001b[0m\u001b[1;33m\u001b[0m\u001b[0m\n\u001b[0m\u001b[0;32m      2\u001b[0m \u001b[0mentry_exit_plot\u001b[0m\u001b[1;33m.\u001b[0m\u001b[0mopts\u001b[0m\u001b[1;33m(\u001b[0m\u001b[0mxaxis\u001b[0m\u001b[1;33m=\u001b[0m\u001b[1;32mNone\u001b[0m\u001b[1;33m)\u001b[0m\u001b[1;33m\u001b[0m\u001b[1;33m\u001b[0m\u001b[0m\n",
      "\u001b[1;32m~\\anaconda3\\envs\\mlenv\\lib\\site-packages\\pandas\\core\\ops.py\u001b[0m in \u001b[0;36mf\u001b[1;34m(self, other, axis, level, fill_value)\u001b[0m\n\u001b[0;32m   2016\u001b[0m     \u001b[1;32mdef\u001b[0m \u001b[0mf\u001b[0m\u001b[1;33m(\u001b[0m\u001b[0mself\u001b[0m\u001b[1;33m,\u001b[0m \u001b[0mother\u001b[0m\u001b[1;33m,\u001b[0m \u001b[0maxis\u001b[0m\u001b[1;33m=\u001b[0m\u001b[0mdefault_axis\u001b[0m\u001b[1;33m,\u001b[0m \u001b[0mlevel\u001b[0m\u001b[1;33m=\u001b[0m\u001b[1;32mNone\u001b[0m\u001b[1;33m,\u001b[0m \u001b[0mfill_value\u001b[0m\u001b[1;33m=\u001b[0m\u001b[1;32mNone\u001b[0m\u001b[1;33m)\u001b[0m\u001b[1;33m:\u001b[0m\u001b[1;33m\u001b[0m\u001b[1;33m\u001b[0m\u001b[0m\n\u001b[0;32m   2017\u001b[0m \u001b[1;33m\u001b[0m\u001b[0m\n\u001b[1;32m-> 2018\u001b[1;33m         \u001b[0mother\u001b[0m \u001b[1;33m=\u001b[0m \u001b[0m_align_method_FRAME\u001b[0m\u001b[1;33m(\u001b[0m\u001b[0mself\u001b[0m\u001b[1;33m,\u001b[0m \u001b[0mother\u001b[0m\u001b[1;33m,\u001b[0m \u001b[0maxis\u001b[0m\u001b[1;33m)\u001b[0m\u001b[1;33m\u001b[0m\u001b[1;33m\u001b[0m\u001b[0m\n\u001b[0m\u001b[0;32m   2019\u001b[0m \u001b[1;33m\u001b[0m\u001b[0m\n\u001b[0;32m   2020\u001b[0m         \u001b[1;32mif\u001b[0m \u001b[0misinstance\u001b[0m\u001b[1;33m(\u001b[0m\u001b[0mother\u001b[0m\u001b[1;33m,\u001b[0m \u001b[0mABCDataFrame\u001b[0m\u001b[1;33m)\u001b[0m\u001b[1;33m:\u001b[0m\u001b[1;33m\u001b[0m\u001b[1;33m\u001b[0m\u001b[0m\n",
      "\u001b[1;32m~\\anaconda3\\envs\\mlenv\\lib\\site-packages\\pandas\\core\\ops.py\u001b[0m in \u001b[0;36m_align_method_FRAME\u001b[1;34m(left, right, axis)\u001b[0m\n\u001b[0;32m   1983\u001b[0m           not isinstance(right, (ABCSeries, ABCDataFrame))):\n\u001b[0;32m   1984\u001b[0m         \u001b[1;31m# GH17901\u001b[0m\u001b[1;33m\u001b[0m\u001b[1;33m\u001b[0m\u001b[1;33m\u001b[0m\u001b[0m\n\u001b[1;32m-> 1985\u001b[1;33m         \u001b[0mright\u001b[0m \u001b[1;33m=\u001b[0m \u001b[0mto_series\u001b[0m\u001b[1;33m(\u001b[0m\u001b[0mright\u001b[0m\u001b[1;33m)\u001b[0m\u001b[1;33m\u001b[0m\u001b[1;33m\u001b[0m\u001b[0m\n\u001b[0m\u001b[0;32m   1986\u001b[0m \u001b[1;33m\u001b[0m\u001b[0m\n\u001b[0;32m   1987\u001b[0m     \u001b[1;32mreturn\u001b[0m \u001b[0mright\u001b[0m\u001b[1;33m\u001b[0m\u001b[1;33m\u001b[0m\u001b[0m\n",
      "\u001b[1;32m~\\anaconda3\\envs\\mlenv\\lib\\site-packages\\pandas\\core\\ops.py\u001b[0m in \u001b[0;36mto_series\u001b[1;34m(right)\u001b[0m\n\u001b[0;32m   1945\u001b[0m             \u001b[1;32mif\u001b[0m \u001b[0mlen\u001b[0m\u001b[1;33m(\u001b[0m\u001b[0mleft\u001b[0m\u001b[1;33m.\u001b[0m\u001b[0mcolumns\u001b[0m\u001b[1;33m)\u001b[0m \u001b[1;33m!=\u001b[0m \u001b[0mlen\u001b[0m\u001b[1;33m(\u001b[0m\u001b[0mright\u001b[0m\u001b[1;33m)\u001b[0m\u001b[1;33m:\u001b[0m\u001b[1;33m\u001b[0m\u001b[1;33m\u001b[0m\u001b[0m\n\u001b[0;32m   1946\u001b[0m                 raise ValueError(msg.format(req_len=len(left.columns),\n\u001b[1;32m-> 1947\u001b[1;33m                                             given_len=len(right)))\n\u001b[0m\u001b[0;32m   1948\u001b[0m             \u001b[0mright\u001b[0m \u001b[1;33m=\u001b[0m \u001b[0mleft\u001b[0m\u001b[1;33m.\u001b[0m\u001b[0m_constructor_sliced\u001b[0m\u001b[1;33m(\u001b[0m\u001b[0mright\u001b[0m\u001b[1;33m,\u001b[0m \u001b[0mindex\u001b[0m\u001b[1;33m=\u001b[0m\u001b[0mleft\u001b[0m\u001b[1;33m.\u001b[0m\u001b[0mcolumns\u001b[0m\u001b[1;33m)\u001b[0m\u001b[1;33m\u001b[0m\u001b[1;33m\u001b[0m\u001b[0m\n\u001b[0;32m   1949\u001b[0m         \u001b[1;32mreturn\u001b[0m \u001b[0mright\u001b[0m\u001b[1;33m\u001b[0m\u001b[1;33m\u001b[0m\u001b[0m\n",
      "\u001b[1;31mValueError\u001b[0m: Unable to coerce to Series, length must be 1: given 0"
     ]
    }
   ],
   "source": [
    "entry_exit_plot = df_closing_prices * start\n",
    "entry_exit_plot.opts(xaxis=None)"
   ]
  },
  {
   "cell_type": "code",
   "execution_count": 199,
   "id": "formed-wright",
   "metadata": {},
   "outputs": [],
   "source": [
    "df1= pd.read_csv(Path('Resources/the_office_series.csv'))\n"
   ]
  },
  {
   "cell_type": "code",
   "execution_count": 233,
   "id": "solid-allergy",
   "metadata": {},
   "outputs": [],
   "source": [
    "office_df=pd.read_csv('Resources/the_office_series.csv', usecols=['EpisodeTitle','About','Ratings','Viewership','Date'])\n"
   ]
  },
  {
   "cell_type": "code",
   "execution_count": 125,
   "id": "bizarre-intro",
   "metadata": {},
   "outputs": [
    {
     "name": "stdout",
     "output_type": "stream",
     "text": [
      "Average Rating per episode is: 8.24/10 & The Average Number of Views is: 7.25 Million\n"
     ]
    }
   ],
   "source": [
    "avg_rating= round(office_df.Ratings.mean(),2)\n",
    "avg_views= round(office_df.Viewership.mean(),2)\n",
    "\n",
    "print(f'Average Rating per episode is: {avg_rating}/10 & The Average Number of Views is: {avg_views} Million')"
   ]
  },
  {
   "cell_type": "code",
   "execution_count": 201,
   "id": "associate-kenya",
   "metadata": {},
   "outputs": [],
   "source": [
    "sent=pd.read_csv('Resources/the_office_series.csv', usecols=['EpisodeTitle','About'])\n"
   ]
  },
  {
   "cell_type": "code",
   "execution_count": 104,
   "id": "amateur-identifier",
   "metadata": {},
   "outputs": [],
   "source": [
    "from nltk.tokenize import word_tokenize, sent_tokenize\n",
    "from nltk.corpus import stopwords\n",
    "from nltk.stem import WordNetLemmatizer, PorterStemmer\n",
    "from string import punctuation\n",
    "import re\n",
    "\n",
    "lemmatizer = WordNetLemmatizer()\n",
    "sw = set(stopwords.words('english')) \n",
    "\n",
    "from wordcloud import WordCloud\n",
    "import matplotlib.pyplot as plt\n",
    "plt.style.use('seaborn-whitegrid')\n",
    "import matplotlib as mpl\n",
    "mpl.rcParams['figure.figsize'] = [20.0, 10.0]\n",
    "\n",
    "\n",
    "def tokenizer(text):\n",
    "    \"\"\"Tokenizes text.\"\"\"\n",
    "    \n",
    "    # Convert the words to lowercase\n",
    "    regex = re.compile(\"[^a-zA-Z ]\")\n",
    "    \n",
    "    # Remove the punctuation from text\n",
    "    re_clean = regex.sub('', text)\n",
    "\n",
    "    # Create a tokenized list of the words\n",
    "    words = word_tokenize(re_clean)\n",
    "    \n",
    "    # Lemmatize words into root words\n",
    "    lem = [lemmatizer.lemmatize(word) for word in words]\n",
    "       \n",
    "    # Remove the stop words\n",
    "    tokens = [word.lower() for word in lem if word.lower() not in sw]\n",
    "    \n",
    "    return tokens"
   ]
  },
  {
   "cell_type": "code",
   "execution_count": 105,
   "id": "sweet-weekly",
   "metadata": {},
   "outputs": [
    {
     "data": {
      "text/plain": [
       "<matplotlib.image.AxesImage at 0x2abeac16a08>"
      ]
     },
     "execution_count": 105,
     "metadata": {},
     "output_type": "execute_result"
    },
    {
     "data": {
      "image/png": "[encoded data removed]",
      "text/plain": [
       "<Figure size 1440x720 with 1 Axes>"
      ]
     },
     "metadata": {},
     "output_type": "display_data"
    }
   ],
   "source": [
    "sent['tokens'] = sent['About'].apply(tokenizer)\n",
    "sent_string = ' '.join(sent.About)\n",
    "\n",
    "wc = WordCloud().generate(sent_string)\n",
    "plt.title('The office word cloud', fontsize=25, fontweight='bold')\n",
    "plt.imshow(wc)"
   ]
  },
  {
   "cell_type": "code",
   "execution_count": 109,
   "id": "lonely-brisbane",
   "metadata": {},
   "outputs": [],
   "source": [
    "import nltk\n",
    "from nltk.sentiment.vader import SentimentIntensityAnalyzer"
   ]
  },
  {
   "cell_type": "code",
   "execution_count": 110,
   "id": "normal-pregnancy",
   "metadata": {},
   "outputs": [
    {
     "name": "stderr",
     "output_type": "stream",
     "text": [
      "[nltk_data] Downloading package vader_lexicon to\n",
      "[nltk_data]     C:\\Users\\ericm\\AppData\\Roaming\\nltk_data...\n",
      "[nltk_data]   Package vader_lexicon is already up-to-date!\n"
     ]
    }
   ],
   "source": [
    "# Download/Update the VADER Lexicon\n",
    "nltk.download('vader_lexicon')\n",
    "\n",
    "# Initialize the VADER sentiment analyzer\n",
    "analyzer = SentimentIntensityAnalyzer()\n"
   ]
  },
  {
   "cell_type": "code",
   "execution_count": null,
   "id": "pediatric-judge",
   "metadata": {},
   "outputs": [],
   "source": [
    "# use the actual data set the \"about\" column"
   ]
  },
  {
   "cell_type": "code",
   "execution_count": 234,
   "id": "institutional-sheffield",
   "metadata": {},
   "outputs": [
    {
     "data": {
      "text/html": [
       "<div>\n",
       "<style scoped>\n",
       "    .dataframe tbody tr th:only-of-type {\n",
       "        vertical-align: middle;\n",
       "    }\n",
       "\n",
       "    .dataframe tbody tr th {\n",
       "        vertical-align: top;\n",
       "    }\n",
       "\n",
       "    .dataframe thead th {\n",
       "        text-align: right;\n",
       "    }\n",
       "</style>\n",
       "<table border=\"1\" class=\"dataframe\">\n",
       "  <thead>\n",
       "    <tr style=\"text-align: right;\">\n",
       "      <th></th>\n",
       "      <th>EpisodeTitle</th>\n",
       "      <th>About</th>\n",
       "      <th>Ratings</th>\n",
       "      <th>Viewership</th>\n",
       "      <th>Date</th>\n",
       "      <th>Michael_count</th>\n",
       "    </tr>\n",
       "  </thead>\n",
       "  <tbody>\n",
       "    <tr>\n",
       "      <th>0</th>\n",
       "      <td>Pilot</td>\n",
       "      <td>The premiere episode introduces the boss and s...</td>\n",
       "      <td>7.5</td>\n",
       "      <td>11.2</td>\n",
       "      <td>24 March 2005</td>\n",
       "      <td>0</td>\n",
       "    </tr>\n",
       "    <tr>\n",
       "      <th>1</th>\n",
       "      <td>Diversity Day</td>\n",
       "      <td>Michael's off color remark puts a sensitivity ...</td>\n",
       "      <td>8.3</td>\n",
       "      <td>6.0</td>\n",
       "      <td>29 March 2005</td>\n",
       "      <td>0</td>\n",
       "    </tr>\n",
       "    <tr>\n",
       "      <th>2</th>\n",
       "      <td>Health Care</td>\n",
       "      <td>Michael leaves Dwight in charge of picking the...</td>\n",
       "      <td>7.8</td>\n",
       "      <td>5.8</td>\n",
       "      <td>5 April 2005</td>\n",
       "      <td>0</td>\n",
       "    </tr>\n",
       "    <tr>\n",
       "      <th>3</th>\n",
       "      <td>The Alliance</td>\n",
       "      <td>Just for a laugh, Jim agrees to an alliance wi...</td>\n",
       "      <td>8.1</td>\n",
       "      <td>5.4</td>\n",
       "      <td>12 April 2005</td>\n",
       "      <td>0</td>\n",
       "    </tr>\n",
       "    <tr>\n",
       "      <th>4</th>\n",
       "      <td>Basketball</td>\n",
       "      <td>Michael and his staff challenge the warehouse ...</td>\n",
       "      <td>8.4</td>\n",
       "      <td>5.0</td>\n",
       "      <td>19 April 2005</td>\n",
       "      <td>0</td>\n",
       "    </tr>\n",
       "  </tbody>\n",
       "</table>\n",
       "</div>"
      ],
      "text/plain": [
       "    EpisodeTitle                                              About  Ratings  \\\n",
       "0          Pilot  The premiere episode introduces the boss and s...      7.5   \n",
       "1  Diversity Day  Michael's off color remark puts a sensitivity ...      8.3   \n",
       "2    Health Care  Michael leaves Dwight in charge of picking the...      7.8   \n",
       "3   The Alliance  Just for a laugh, Jim agrees to an alliance wi...      8.1   \n",
       "4     Basketball  Michael and his staff challenge the warehouse ...      8.4   \n",
       "\n",
       "   Viewership            Date  Michael_count  \n",
       "0        11.2   24 March 2005              0  \n",
       "1         6.0   29 March 2005              0  \n",
       "2         5.8    5 April 2005              0  \n",
       "3         5.4   12 April 2005              0  \n",
       "4         5.0   19 April 2005              0  "
      ]
     },
     "execution_count": 234,
     "metadata": {},
     "output_type": "execute_result"
    }
   ],
   "source": [
    "office_df['Michael_count']=0\n",
    "office_df.head()"
   ]
  },
  {
   "cell_type": "code",
   "execution_count": 235,
   "id": "respective-correction",
   "metadata": {},
   "outputs": [
    {
     "data": {
      "text/html": [
       "<div>\n",
       "<style scoped>\n",
       "    .dataframe tbody tr th:only-of-type {\n",
       "        vertical-align: middle;\n",
       "    }\n",
       "\n",
       "    .dataframe tbody tr th {\n",
       "        vertical-align: top;\n",
       "    }\n",
       "\n",
       "    .dataframe thead th {\n",
       "        text-align: right;\n",
       "    }\n",
       "</style>\n",
       "<table border=\"1\" class=\"dataframe\">\n",
       "  <thead>\n",
       "    <tr style=\"text-align: right;\">\n",
       "      <th></th>\n",
       "      <th>date</th>\n",
       "      <th>text</th>\n",
       "      <th>compound</th>\n",
       "      <th>positive</th>\n",
       "      <th>negative</th>\n",
       "      <th>neutral</th>\n",
       "      <th>michael_count</th>\n",
       "    </tr>\n",
       "  </thead>\n",
       "  <tbody>\n",
       "    <tr>\n",
       "      <th>0</th>\n",
       "      <td>24 March 2005</td>\n",
       "      <td>The premiere episode introduces the boss and s...</td>\n",
       "      <td>0.0000</td>\n",
       "      <td>0.000</td>\n",
       "      <td>0.000</td>\n",
       "      <td>1.000</td>\n",
       "      <td>0</td>\n",
       "    </tr>\n",
       "    <tr>\n",
       "      <th>1</th>\n",
       "      <td>29 March 2005</td>\n",
       "      <td>Michael's off color remark puts a sensitivity ...</td>\n",
       "      <td>0.2732</td>\n",
       "      <td>0.104</td>\n",
       "      <td>0.000</td>\n",
       "      <td>0.896</td>\n",
       "      <td>2</td>\n",
       "    </tr>\n",
       "    <tr>\n",
       "      <th>2</th>\n",
       "      <td>5 April 2005</td>\n",
       "      <td>Michael leaves Dwight in charge of picking the...</td>\n",
       "      <td>-0.5994</td>\n",
       "      <td>0.000</td>\n",
       "      <td>0.187</td>\n",
       "      <td>0.813</td>\n",
       "      <td>1</td>\n",
       "    </tr>\n",
       "    <tr>\n",
       "      <th>3</th>\n",
       "      <td>12 April 2005</td>\n",
       "      <td>Just for a laugh, Jim agrees to an alliance wi...</td>\n",
       "      <td>0.6597</td>\n",
       "      <td>0.310</td>\n",
       "      <td>0.000</td>\n",
       "      <td>0.690</td>\n",
       "      <td>0</td>\n",
       "    </tr>\n",
       "    <tr>\n",
       "      <th>4</th>\n",
       "      <td>19 April 2005</td>\n",
       "      <td>Michael and his staff challenge the warehouse ...</td>\n",
       "      <td>0.3612</td>\n",
       "      <td>0.205</td>\n",
       "      <td>0.077</td>\n",
       "      <td>0.718</td>\n",
       "      <td>1</td>\n",
       "    </tr>\n",
       "  </tbody>\n",
       "</table>\n",
       "</div>"
      ],
      "text/plain": [
       "             date                                               text  \\\n",
       "0   24 March 2005  The premiere episode introduces the boss and s...   \n",
       "1   29 March 2005  Michael's off color remark puts a sensitivity ...   \n",
       "2    5 April 2005  Michael leaves Dwight in charge of picking the...   \n",
       "3   12 April 2005  Just for a laugh, Jim agrees to an alliance wi...   \n",
       "4   19 April 2005  Michael and his staff challenge the warehouse ...   \n",
       "\n",
       "   compound  positive  negative  neutral  michael_count  \n",
       "0    0.0000     0.000     0.000    1.000              0  \n",
       "1    0.2732     0.104     0.000    0.896              2  \n",
       "2   -0.5994     0.000     0.187    0.813              1  \n",
       "3    0.6597     0.310     0.000    0.690              0  \n",
       "4    0.3612     0.205     0.077    0.718              1  "
      ]
     },
     "execution_count": 235,
     "metadata": {},
     "output_type": "execute_result"
    }
   ],
   "source": [
    "# Create the sentiment scores DataFrame\n",
    "NF_about_sentiments = []\n",
    "\n",
    "for i in range(len(df5['About'])):\n",
    "    \n",
    "    try:\n",
    "        text = office_df[\"About\"][i]\n",
    "        text_lst = text.split(' ')\n",
    "        michael_count = 0\n",
    "        for j in text_lst:\n",
    "            if j=='Michael' or j==\"Michael's\":\n",
    "                michael_count += 1\n",
    "        office_df['Michael_count'][i] = michael_count\n",
    "        date = office_df[\"Date\"][i]\n",
    "        sentiment = analyzer.polarity_scores(text)\n",
    "        compound = sentiment[\"compound\"]\n",
    "        pos = sentiment[\"pos\"]\n",
    "        neu = sentiment[\"neu\"]\n",
    "        neg = sentiment[\"neg\"]\n",
    "        \n",
    "        NF_about_sentiments.append({\n",
    "            \"text\": text,\n",
    "            \"date\": date,\n",
    "            \"compound\": compound,\n",
    "            \"positive\": pos,\n",
    "            \"negative\": neg,\n",
    "            \"neutral\": neu,\n",
    "            \"michael_count\": michael_count\n",
    "            \n",
    "        })\n",
    "        \n",
    "    except AttributeError:\n",
    "        pass\n",
    "    \n",
    "# Create DataFrame\n",
    "NF_about_df = pd.DataFrame(NF_about_sentiments)\n",
    "\n",
    "# Reorder DataFrame columns\n",
    "cols = [\"date\", \"text\", \"compound\", \"positive\", \"negative\", \"neutral\", \"michael_count\"]\n",
    "NF_about_df = NF_about_df[cols]\n",
    "\n",
    "NF_about_df.head()\n"
   ]
  },
  {
   "cell_type": "code",
   "execution_count": 219,
   "id": "critical-recommendation",
   "metadata": {},
   "outputs": [
    {
     "data": {
      "text/html": [
       "<div>\n",
       "<style scoped>\n",
       "    .dataframe tbody tr th:only-of-type {\n",
       "        vertical-align: middle;\n",
       "    }\n",
       "\n",
       "    .dataframe tbody tr th {\n",
       "        vertical-align: top;\n",
       "    }\n",
       "\n",
       "    .dataframe thead th {\n",
       "        text-align: right;\n",
       "    }\n",
       "</style>\n",
       "<table border=\"1\" class=\"dataframe\">\n",
       "  <thead>\n",
       "    <tr style=\"text-align: right;\">\n",
       "      <th></th>\n",
       "      <th>compound</th>\n",
       "      <th>positive</th>\n",
       "      <th>negative</th>\n",
       "      <th>neutral</th>\n",
       "      <th>michael_count</th>\n",
       "    </tr>\n",
       "  </thead>\n",
       "  <tbody>\n",
       "    <tr>\n",
       "      <th>compound</th>\n",
       "      <td>1.000000</td>\n",
       "      <td>0.688797</td>\n",
       "      <td>-0.785866</td>\n",
       "      <td>0.158884</td>\n",
       "      <td>-0.068316</td>\n",
       "    </tr>\n",
       "    <tr>\n",
       "      <th>positive</th>\n",
       "      <td>0.688797</td>\n",
       "      <td>1.000000</td>\n",
       "      <td>-0.219572</td>\n",
       "      <td>-0.554932</td>\n",
       "      <td>-0.101903</td>\n",
       "    </tr>\n",
       "    <tr>\n",
       "      <th>negative</th>\n",
       "      <td>-0.785866</td>\n",
       "      <td>-0.219572</td>\n",
       "      <td>1.000000</td>\n",
       "      <td>-0.689740</td>\n",
       "      <td>-0.013796</td>\n",
       "    </tr>\n",
       "    <tr>\n",
       "      <th>neutral</th>\n",
       "      <td>0.158884</td>\n",
       "      <td>-0.554932</td>\n",
       "      <td>-0.689740</td>\n",
       "      <td>1.000000</td>\n",
       "      <td>0.087467</td>\n",
       "    </tr>\n",
       "    <tr>\n",
       "      <th>michael_count</th>\n",
       "      <td>-0.068316</td>\n",
       "      <td>-0.101903</td>\n",
       "      <td>-0.013796</td>\n",
       "      <td>0.087467</td>\n",
       "      <td>1.000000</td>\n",
       "    </tr>\n",
       "  </tbody>\n",
       "</table>\n",
       "</div>"
      ],
      "text/plain": [
       "               compound  positive  negative   neutral  michael_count\n",
       "compound       1.000000  0.688797 -0.785866  0.158884      -0.068316\n",
       "positive       0.688797  1.000000 -0.219572 -0.554932      -0.101903\n",
       "negative      -0.785866 -0.219572  1.000000 -0.689740      -0.013796\n",
       "neutral        0.158884 -0.554932 -0.689740  1.000000       0.087467\n",
       "michael_count -0.068316 -0.101903 -0.013796  0.087467       1.000000"
      ]
     },
     "execution_count": 219,
     "metadata": {},
     "output_type": "execute_result"
    }
   ],
   "source": [
    "NF_about_df.corr()"
   ]
  },
  {
   "cell_type": "code",
   "execution_count": 248,
   "id": "reverse-furniture",
   "metadata": {},
   "outputs": [
    {
     "data": {
      "image/png": "[encoded data removed]",
      "text/plain": [
       "<Figure size 1440x720 with 2 Axes>"
      ]
     },
     "metadata": {},
     "output_type": "display_data"
    }
   ],
   "source": [
    "sns.heatmap(NF_about_df.corr(), cmap=\"Blues\", annot=True)\n",
    "plt.show()"
   ]
  },
  {
   "cell_type": "code",
   "execution_count": 236,
   "id": "disturbed-modem",
   "metadata": {},
   "outputs": [
    {
     "data": {
      "text/plain": [
       "7.87"
      ]
     },
     "execution_count": 236,
     "metadata": {},
     "output_type": "execute_result"
    }
   ],
   "source": [
    "mc_0=office_df.loc[office_df['Michael_count']==0]\n",
    "\n",
    "mc0_avg_rating= round(mc_0.Ratings.mean(),2)\n",
    "mc0_avg_rating"
   ]
  },
  {
   "cell_type": "code",
   "execution_count": 237,
   "id": "twelve-zoning",
   "metadata": {},
   "outputs": [
    {
     "data": {
      "text/plain": [
       "8.38"
      ]
     },
     "execution_count": 237,
     "metadata": {},
     "output_type": "execute_result"
    }
   ],
   "source": [
    "mc_1=office_df.loc[office_df['Michael_count']==1]\n",
    "\n",
    "mc1_avg_rating= round(mc_1.Ratings.mean(),2)\n",
    "mc1_avg_rating"
   ]
  },
  {
   "cell_type": "code",
   "execution_count": 239,
   "id": "republican-roberts",
   "metadata": {},
   "outputs": [
    {
     "data": {
      "text/plain": [
       "8.54"
      ]
     },
     "execution_count": 239,
     "metadata": {},
     "output_type": "execute_result"
    }
   ],
   "source": [
    "mc_2=office_df.loc[office_df['Michael_count']==2]\n",
    "\n",
    "mc2_avg_rating= round(mc_2.Ratings.mean(),2)\n",
    "mc2_avg_rating"
   ]
  },
  {
   "cell_type": "code",
   "execution_count": 259,
   "id": "precious-trading",
   "metadata": {},
   "outputs": [],
   "source": [
    "from sklearn.ensemble import RandomForestClassifier\n",
    "from sklearn.preprocessing import StandardScaler\n",
    "from sklearn.model_selection import train_test_split\n",
    "from sklearn.metrics import confusion_matrix, accuracy_score, classification_report\n",
    "\n",
    "# Needed for decision tree visualization\n",
    "import pydotplus\n",
    "from IPython.display import Image"
   ]
  },
  {
   "cell_type": "code",
   "execution_count": 260,
   "id": "funny-philippines",
   "metadata": {},
   "outputs": [
    {
     "data": {
      "text/html": [
       "<div>\n",
       "<style scoped>\n",
       "    .dataframe tbody tr th:only-of-type {\n",
       "        vertical-align: middle;\n",
       "    }\n",
       "\n",
       "    .dataframe tbody tr th {\n",
       "        vertical-align: top;\n",
       "    }\n",
       "\n",
       "    .dataframe thead th {\n",
       "        text-align: right;\n",
       "    }\n",
       "</style>\n",
       "<table border=\"1\" class=\"dataframe\">\n",
       "  <thead>\n",
       "    <tr style=\"text-align: right;\">\n",
       "      <th></th>\n",
       "      <th>EpisodeTitle</th>\n",
       "      <th>About</th>\n",
       "      <th>Ratings</th>\n",
       "      <th>Viewership</th>\n",
       "      <th>Date</th>\n",
       "    </tr>\n",
       "  </thead>\n",
       "  <tbody>\n",
       "    <tr>\n",
       "      <th>0</th>\n",
       "      <td>Pilot</td>\n",
       "      <td>The premiere episode introduces the boss and s...</td>\n",
       "      <td>7.5</td>\n",
       "      <td>11.2</td>\n",
       "      <td>24 March 2005</td>\n",
       "    </tr>\n",
       "    <tr>\n",
       "      <th>1</th>\n",
       "      <td>Diversity Day</td>\n",
       "      <td>Michael's off color remark puts a sensitivity ...</td>\n",
       "      <td>8.3</td>\n",
       "      <td>6.0</td>\n",
       "      <td>29 March 2005</td>\n",
       "    </tr>\n",
       "    <tr>\n",
       "      <th>2</th>\n",
       "      <td>Health Care</td>\n",
       "      <td>Michael leaves Dwight in charge of picking the...</td>\n",
       "      <td>7.8</td>\n",
       "      <td>5.8</td>\n",
       "      <td>5 April 2005</td>\n",
       "    </tr>\n",
       "    <tr>\n",
       "      <th>3</th>\n",
       "      <td>The Alliance</td>\n",
       "      <td>Just for a laugh, Jim agrees to an alliance wi...</td>\n",
       "      <td>8.1</td>\n",
       "      <td>5.4</td>\n",
       "      <td>12 April 2005</td>\n",
       "    </tr>\n",
       "    <tr>\n",
       "      <th>4</th>\n",
       "      <td>Basketball</td>\n",
       "      <td>Michael and his staff challenge the warehouse ...</td>\n",
       "      <td>8.4</td>\n",
       "      <td>5.0</td>\n",
       "      <td>19 April 2005</td>\n",
       "    </tr>\n",
       "  </tbody>\n",
       "</table>\n",
       "</div>"
      ],
      "text/plain": [
       "    EpisodeTitle                                              About  Ratings  \\\n",
       "0          Pilot  The premiere episode introduces the boss and s...      7.5   \n",
       "1  Diversity Day  Michael's off color remark puts a sensitivity ...      8.3   \n",
       "2    Health Care  Michael leaves Dwight in charge of picking the...      7.8   \n",
       "3   The Alliance  Just for a laugh, Jim agrees to an alliance wi...      8.1   \n",
       "4     Basketball  Michael and his staff challenge the warehouse ...      8.4   \n",
       "\n",
       "   Viewership            Date  \n",
       "0        11.2   24 March 2005  \n",
       "1         6.0   29 March 2005  \n",
       "2         5.8    5 April 2005  \n",
       "3         5.4   12 April 2005  \n",
       "4         5.0   19 April 2005  "
      ]
     },
     "execution_count": 260,
     "metadata": {},
     "output_type": "execute_result"
    }
   ],
   "source": [
    " # Define features set\n",
    "X = office_df.copy()\n",
    "X.drop(\"Michael_count\", axis=1, inplace=True)\n",
    "X.head()"
   ]
  },
  {
   "cell_type": "code",
   "execution_count": 261,
   "id": "wound-child",
   "metadata": {},
   "outputs": [
    {
     "data": {
      "text/plain": [
       "array([0, 2, 1, 0, 1], dtype=int64)"
      ]
     },
     "execution_count": 261,
     "metadata": {},
     "output_type": "execute_result"
    }
   ],
   "source": [
    "# Define target vector\n",
    "y = office_df[\"Michael_count\"].ravel()\n",
    "y[:5]"
   ]
  },
  {
   "cell_type": "code",
   "execution_count": 262,
   "id": "swedish-warrant",
   "metadata": {},
   "outputs": [],
   "source": [
    " # Splitting into Train and Test sets\n",
    "X_train, X_test, y_train, y_test = train_test_split(X, y, random_state=78)\n"
   ]
  },
  {
   "cell_type": "code",
   "execution_count": 263,
   "id": "disciplinary-hardware",
   "metadata": {},
   "outputs": [],
   "source": [
    "# Creating StandardScaler instance\n",
    "scaler = StandardScaler()"
   ]
  },
  {
   "cell_type": "code",
   "execution_count": 264,
   "id": "tight-chase",
   "metadata": {},
   "outputs": [
    {
     "ename": "ValueError",
     "evalue": "could not convert string to float: \"Andy's Play\"",
     "output_type": "error",
     "traceback": [
      "\u001b[1;31m---------------------------------------------------------------------------\u001b[0m",
      "\u001b[1;31mValueError\u001b[0m                                Traceback (most recent call last)",
      "\u001b[1;32m<ipython-input-264-0bda56713aa1>\u001b[0m in \u001b[0;36m<module>\u001b[1;34m\u001b[0m\n\u001b[0;32m      1\u001b[0m \u001b[1;31m# Fitting Standard Scaller\u001b[0m\u001b[1;33m\u001b[0m\u001b[1;33m\u001b[0m\u001b[1;33m\u001b[0m\u001b[0m\n\u001b[1;32m----> 2\u001b[1;33m \u001b[0mX_scaler\u001b[0m \u001b[1;33m=\u001b[0m \u001b[0mscaler\u001b[0m\u001b[1;33m.\u001b[0m\u001b[0mfit\u001b[0m\u001b[1;33m(\u001b[0m\u001b[0mX_train\u001b[0m\u001b[1;33m)\u001b[0m\u001b[1;33m\u001b[0m\u001b[1;33m\u001b[0m\u001b[0m\n\u001b[0m",
      "\u001b[1;32m~\\anaconda3\\envs\\mlenv\\lib\\site-packages\\sklearn\\preprocessing\\_data.py\u001b[0m in \u001b[0;36mfit\u001b[1;34m(self, X, y, sample_weight)\u001b[0m\n\u001b[0;32m    728\u001b[0m         \u001b[1;31m# Reset internal state before fitting\u001b[0m\u001b[1;33m\u001b[0m\u001b[1;33m\u001b[0m\u001b[1;33m\u001b[0m\u001b[0m\n\u001b[0;32m    729\u001b[0m         \u001b[0mself\u001b[0m\u001b[1;33m.\u001b[0m\u001b[0m_reset\u001b[0m\u001b[1;33m(\u001b[0m\u001b[1;33m)\u001b[0m\u001b[1;33m\u001b[0m\u001b[1;33m\u001b[0m\u001b[0m\n\u001b[1;32m--> 730\u001b[1;33m         \u001b[1;32mreturn\u001b[0m \u001b[0mself\u001b[0m\u001b[1;33m.\u001b[0m\u001b[0mpartial_fit\u001b[0m\u001b[1;33m(\u001b[0m\u001b[0mX\u001b[0m\u001b[1;33m,\u001b[0m \u001b[0my\u001b[0m\u001b[1;33m,\u001b[0m \u001b[0msample_weight\u001b[0m\u001b[1;33m)\u001b[0m\u001b[1;33m\u001b[0m\u001b[1;33m\u001b[0m\u001b[0m\n\u001b[0m\u001b[0;32m    731\u001b[0m \u001b[1;33m\u001b[0m\u001b[0m\n\u001b[0;32m    732\u001b[0m     \u001b[1;32mdef\u001b[0m \u001b[0mpartial_fit\u001b[0m\u001b[1;33m(\u001b[0m\u001b[0mself\u001b[0m\u001b[1;33m,\u001b[0m \u001b[0mX\u001b[0m\u001b[1;33m,\u001b[0m \u001b[0my\u001b[0m\u001b[1;33m=\u001b[0m\u001b[1;32mNone\u001b[0m\u001b[1;33m,\u001b[0m \u001b[0msample_weight\u001b[0m\u001b[1;33m=\u001b[0m\u001b[1;32mNone\u001b[0m\u001b[1;33m)\u001b[0m\u001b[1;33m:\u001b[0m\u001b[1;33m\u001b[0m\u001b[1;33m\u001b[0m\u001b[0m\n",
      "\u001b[1;32m~\\anaconda3\\envs\\mlenv\\lib\\site-packages\\sklearn\\preprocessing\\_data.py\u001b[0m in \u001b[0;36mpartial_fit\u001b[1;34m(self, X, y, sample_weight)\u001b[0m\n\u001b[0;32m    766\u001b[0m         X = self._validate_data(X, accept_sparse=('csr', 'csc'),\n\u001b[0;32m    767\u001b[0m                                 \u001b[0mestimator\u001b[0m\u001b[1;33m=\u001b[0m\u001b[0mself\u001b[0m\u001b[1;33m,\u001b[0m \u001b[0mdtype\u001b[0m\u001b[1;33m=\u001b[0m\u001b[0mFLOAT_DTYPES\u001b[0m\u001b[1;33m,\u001b[0m\u001b[1;33m\u001b[0m\u001b[1;33m\u001b[0m\u001b[0m\n\u001b[1;32m--> 768\u001b[1;33m                                 force_all_finite='allow-nan', reset=first_call)\n\u001b[0m\u001b[0;32m    769\u001b[0m         \u001b[0mn_features\u001b[0m \u001b[1;33m=\u001b[0m \u001b[0mX\u001b[0m\u001b[1;33m.\u001b[0m\u001b[0mshape\u001b[0m\u001b[1;33m[\u001b[0m\u001b[1;36m1\u001b[0m\u001b[1;33m]\u001b[0m\u001b[1;33m\u001b[0m\u001b[1;33m\u001b[0m\u001b[0m\n\u001b[0;32m    770\u001b[0m \u001b[1;33m\u001b[0m\u001b[0m\n",
      "\u001b[1;32m~\\anaconda3\\envs\\mlenv\\lib\\site-packages\\sklearn\\base.py\u001b[0m in \u001b[0;36m_validate_data\u001b[1;34m(self, X, y, reset, validate_separately, **check_params)\u001b[0m\n\u001b[0;32m    419\u001b[0m             \u001b[0mout\u001b[0m \u001b[1;33m=\u001b[0m \u001b[0mX\u001b[0m\u001b[1;33m\u001b[0m\u001b[1;33m\u001b[0m\u001b[0m\n\u001b[0;32m    420\u001b[0m         \u001b[1;32melif\u001b[0m \u001b[0misinstance\u001b[0m\u001b[1;33m(\u001b[0m\u001b[0my\u001b[0m\u001b[1;33m,\u001b[0m \u001b[0mstr\u001b[0m\u001b[1;33m)\u001b[0m \u001b[1;32mand\u001b[0m \u001b[0my\u001b[0m \u001b[1;33m==\u001b[0m \u001b[1;34m'no_validation'\u001b[0m\u001b[1;33m:\u001b[0m\u001b[1;33m\u001b[0m\u001b[1;33m\u001b[0m\u001b[0m\n\u001b[1;32m--> 421\u001b[1;33m             \u001b[0mX\u001b[0m \u001b[1;33m=\u001b[0m \u001b[0mcheck_array\u001b[0m\u001b[1;33m(\u001b[0m\u001b[0mX\u001b[0m\u001b[1;33m,\u001b[0m \u001b[1;33m**\u001b[0m\u001b[0mcheck_params\u001b[0m\u001b[1;33m)\u001b[0m\u001b[1;33m\u001b[0m\u001b[1;33m\u001b[0m\u001b[0m\n\u001b[0m\u001b[0;32m    422\u001b[0m             \u001b[0mout\u001b[0m \u001b[1;33m=\u001b[0m \u001b[0mX\u001b[0m\u001b[1;33m\u001b[0m\u001b[1;33m\u001b[0m\u001b[0m\n\u001b[0;32m    423\u001b[0m         \u001b[1;32melse\u001b[0m\u001b[1;33m:\u001b[0m\u001b[1;33m\u001b[0m\u001b[1;33m\u001b[0m\u001b[0m\n",
      "\u001b[1;32m~\\anaconda3\\envs\\mlenv\\lib\\site-packages\\sklearn\\utils\\validation.py\u001b[0m in \u001b[0;36minner_f\u001b[1;34m(*args, **kwargs)\u001b[0m\n\u001b[0;32m     61\u001b[0m             \u001b[0mextra_args\u001b[0m \u001b[1;33m=\u001b[0m \u001b[0mlen\u001b[0m\u001b[1;33m(\u001b[0m\u001b[0margs\u001b[0m\u001b[1;33m)\u001b[0m \u001b[1;33m-\u001b[0m \u001b[0mlen\u001b[0m\u001b[1;33m(\u001b[0m\u001b[0mall_args\u001b[0m\u001b[1;33m)\u001b[0m\u001b[1;33m\u001b[0m\u001b[1;33m\u001b[0m\u001b[0m\n\u001b[0;32m     62\u001b[0m             \u001b[1;32mif\u001b[0m \u001b[0mextra_args\u001b[0m \u001b[1;33m<=\u001b[0m \u001b[1;36m0\u001b[0m\u001b[1;33m:\u001b[0m\u001b[1;33m\u001b[0m\u001b[1;33m\u001b[0m\u001b[0m\n\u001b[1;32m---> 63\u001b[1;33m                 \u001b[1;32mreturn\u001b[0m \u001b[0mf\u001b[0m\u001b[1;33m(\u001b[0m\u001b[1;33m*\u001b[0m\u001b[0margs\u001b[0m\u001b[1;33m,\u001b[0m \u001b[1;33m**\u001b[0m\u001b[0mkwargs\u001b[0m\u001b[1;33m)\u001b[0m\u001b[1;33m\u001b[0m\u001b[1;33m\u001b[0m\u001b[0m\n\u001b[0m\u001b[0;32m     64\u001b[0m \u001b[1;33m\u001b[0m\u001b[0m\n\u001b[0;32m     65\u001b[0m             \u001b[1;31m# extra_args > 0\u001b[0m\u001b[1;33m\u001b[0m\u001b[1;33m\u001b[0m\u001b[1;33m\u001b[0m\u001b[0m\n",
      "\u001b[1;32m~\\anaconda3\\envs\\mlenv\\lib\\site-packages\\sklearn\\utils\\validation.py\u001b[0m in \u001b[0;36mcheck_array\u001b[1;34m(array, accept_sparse, accept_large_sparse, dtype, order, copy, force_all_finite, ensure_2d, allow_nd, ensure_min_samples, ensure_min_features, estimator)\u001b[0m\n\u001b[0;32m    614\u001b[0m                     \u001b[0marray\u001b[0m \u001b[1;33m=\u001b[0m \u001b[0marray\u001b[0m\u001b[1;33m.\u001b[0m\u001b[0mastype\u001b[0m\u001b[1;33m(\u001b[0m\u001b[0mdtype\u001b[0m\u001b[1;33m,\u001b[0m \u001b[0mcasting\u001b[0m\u001b[1;33m=\u001b[0m\u001b[1;34m\"unsafe\"\u001b[0m\u001b[1;33m,\u001b[0m \u001b[0mcopy\u001b[0m\u001b[1;33m=\u001b[0m\u001b[1;32mFalse\u001b[0m\u001b[1;33m)\u001b[0m\u001b[1;33m\u001b[0m\u001b[1;33m\u001b[0m\u001b[0m\n\u001b[0;32m    615\u001b[0m                 \u001b[1;32melse\u001b[0m\u001b[1;33m:\u001b[0m\u001b[1;33m\u001b[0m\u001b[1;33m\u001b[0m\u001b[0m\n\u001b[1;32m--> 616\u001b[1;33m                     \u001b[0marray\u001b[0m \u001b[1;33m=\u001b[0m \u001b[0mnp\u001b[0m\u001b[1;33m.\u001b[0m\u001b[0masarray\u001b[0m\u001b[1;33m(\u001b[0m\u001b[0marray\u001b[0m\u001b[1;33m,\u001b[0m \u001b[0morder\u001b[0m\u001b[1;33m=\u001b[0m\u001b[0morder\u001b[0m\u001b[1;33m,\u001b[0m \u001b[0mdtype\u001b[0m\u001b[1;33m=\u001b[0m\u001b[0mdtype\u001b[0m\u001b[1;33m)\u001b[0m\u001b[1;33m\u001b[0m\u001b[1;33m\u001b[0m\u001b[0m\n\u001b[0m\u001b[0;32m    617\u001b[0m             \u001b[1;32mexcept\u001b[0m \u001b[0mComplexWarning\u001b[0m \u001b[1;32mas\u001b[0m \u001b[0mcomplex_warning\u001b[0m\u001b[1;33m:\u001b[0m\u001b[1;33m\u001b[0m\u001b[1;33m\u001b[0m\u001b[0m\n\u001b[0;32m    618\u001b[0m                 raise ValueError(\"Complex data not supported\\n\"\n",
      "\u001b[1;32m~\\anaconda3\\envs\\mlenv\\lib\\site-packages\\numpy\\core\\_asarray.py\u001b[0m in \u001b[0;36masarray\u001b[1;34m(a, dtype, order, like)\u001b[0m\n\u001b[0;32m    100\u001b[0m         \u001b[1;32mreturn\u001b[0m \u001b[0m_asarray_with_like\u001b[0m\u001b[1;33m(\u001b[0m\u001b[0ma\u001b[0m\u001b[1;33m,\u001b[0m \u001b[0mdtype\u001b[0m\u001b[1;33m=\u001b[0m\u001b[0mdtype\u001b[0m\u001b[1;33m,\u001b[0m \u001b[0morder\u001b[0m\u001b[1;33m=\u001b[0m\u001b[0morder\u001b[0m\u001b[1;33m,\u001b[0m \u001b[0mlike\u001b[0m\u001b[1;33m=\u001b[0m\u001b[0mlike\u001b[0m\u001b[1;33m)\u001b[0m\u001b[1;33m\u001b[0m\u001b[1;33m\u001b[0m\u001b[0m\n\u001b[0;32m    101\u001b[0m \u001b[1;33m\u001b[0m\u001b[0m\n\u001b[1;32m--> 102\u001b[1;33m     \u001b[1;32mreturn\u001b[0m \u001b[0marray\u001b[0m\u001b[1;33m(\u001b[0m\u001b[0ma\u001b[0m\u001b[1;33m,\u001b[0m \u001b[0mdtype\u001b[0m\u001b[1;33m,\u001b[0m \u001b[0mcopy\u001b[0m\u001b[1;33m=\u001b[0m\u001b[1;32mFalse\u001b[0m\u001b[1;33m,\u001b[0m \u001b[0morder\u001b[0m\u001b[1;33m=\u001b[0m\u001b[0morder\u001b[0m\u001b[1;33m)\u001b[0m\u001b[1;33m\u001b[0m\u001b[1;33m\u001b[0m\u001b[0m\n\u001b[0m\u001b[0;32m    103\u001b[0m \u001b[1;33m\u001b[0m\u001b[0m\n\u001b[0;32m    104\u001b[0m \u001b[1;33m\u001b[0m\u001b[0m\n",
      "\u001b[1;31mValueError\u001b[0m: could not convert string to float: \"Andy's Play\""
     ]
    }
   ],
   "source": [
    " # Fitting Standard Scaller\n",
    "X_scaler = scaler.fit(X_train)"
   ]
  },
  {
   "cell_type": "code",
   "execution_count": 265,
   "id": "unnecessary-performer",
   "metadata": {},
   "outputs": [
    {
     "ename": "NameError",
     "evalue": "name 'X_scaler' is not defined",
     "output_type": "error",
     "traceback": [
      "\u001b[1;31m---------------------------------------------------------------------------\u001b[0m",
      "\u001b[1;31mNameError\u001b[0m                                 Traceback (most recent call last)",
      "\u001b[1;32m<ipython-input-265-1869efae1d93>\u001b[0m in \u001b[0;36m<module>\u001b[1;34m\u001b[0m\n\u001b[0;32m      1\u001b[0m \u001b[1;31m# Scaling data\u001b[0m\u001b[1;33m\u001b[0m\u001b[1;33m\u001b[0m\u001b[1;33m\u001b[0m\u001b[0m\n\u001b[1;32m----> 2\u001b[1;33m \u001b[0mX_train_scaled\u001b[0m \u001b[1;33m=\u001b[0m \u001b[0mX_scaler\u001b[0m\u001b[1;33m.\u001b[0m\u001b[0mtransform\u001b[0m\u001b[1;33m(\u001b[0m\u001b[0mX_train\u001b[0m\u001b[1;33m)\u001b[0m\u001b[1;33m\u001b[0m\u001b[1;33m\u001b[0m\u001b[0m\n\u001b[0m\u001b[0;32m      3\u001b[0m \u001b[0mX_test_scaled\u001b[0m \u001b[1;33m=\u001b[0m \u001b[0mX_scaler\u001b[0m\u001b[1;33m.\u001b[0m\u001b[0mtransform\u001b[0m\u001b[1;33m(\u001b[0m\u001b[0mX_test\u001b[0m\u001b[1;33m)\u001b[0m\u001b[1;33m\u001b[0m\u001b[1;33m\u001b[0m\u001b[0m\n",
      "\u001b[1;31mNameError\u001b[0m: name 'X_scaler' is not defined"
     ]
    }
   ],
   "source": [
    " # Scaling data\n",
    "X_train_scaled = X_scaler.transform(X_train)\n",
    "X_test_scaled = X_scaler.transform(X_test)"
   ]
  },
  {
   "cell_type": "code",
   "execution_count": null,
   "id": "atmospheric-johnston",
   "metadata": {},
   "outputs": [],
   "source": [
    " # Create a random forest classifier\n",
    "rf_model = RandomForestClassifier(n_estimators=500, random_state=78)\n"
   ]
  },
  {
   "cell_type": "code",
   "execution_count": null,
   "id": "arranged-chase",
   "metadata": {},
   "outputs": [],
   "source": [
    " # Fitting the model\n",
    "rf_model = rf_model.fit(X_train_scaled, y_train)"
   ]
  },
  {
   "cell_type": "code",
   "execution_count": null,
   "id": "alternative-breakfast",
   "metadata": {},
   "outputs": [],
   "source": [
    " # Making predictions using the testing data\n",
    "predictions = rf_model.predict(X_test_scaled)"
   ]
  },
  {
   "cell_type": "code",
   "execution_count": null,
   "id": "allied-portland",
   "metadata": {},
   "outputs": [],
   "source": [
    " # Calculating the confusion matrix\n",
    "cm = confusion_matrix(y_test, predictions)\n",
    "cm_df = pd.DataFrame(\n",
    "    cm, index=[\"Actual 0\", \"Actual 1\"], columns=[\"Predicted 0\", \"Predicted 1\"]\n",
    ")\n",
    "\n",
    "# Calculating the accuracy score\n",
    "acc_score = accuracy_score(y_test, predictions)\n"
   ]
  },
  {
   "cell_type": "code",
   "execution_count": null,
   "id": "awful-revolution",
   "metadata": {},
   "outputs": [],
   "source": [
    " # Displaying results\n",
    "print(\"Confusion Matrix\")\n",
    "display(cm_df)\n",
    "print(f\"Accuracy Score : {acc_score}\")\n",
    "print(\"Classification Report\")\n",
    "print(classification_report(y_test, predictions))"
   ]
  },
  {
   "cell_type": "code",
   "execution_count": null,
   "id": "coordinate-yorkshire",
   "metadata": {},
   "outputs": [],
   "source": []
  },
  {
   "cell_type": "code",
   "execution_count": null,
   "id": "substantial-product",
   "metadata": {},
   "outputs": [],
   "source": []
  },
  {
   "cell_type": "code",
   "execution_count": null,
   "id": "still-preserve",
   "metadata": {},
   "outputs": [],
   "source": []
  },
  {
   "cell_type": "code",
   "execution_count": null,
   "id": "combined-florida",
   "metadata": {},
   "outputs": [],
   "source": []
  },
  {
   "cell_type": "code",
   "execution_count": 111,
   "id": "graduate-angel",
   "metadata": {},
   "outputs": [
    {
     "data": {
      "text/plain": [
       "{'source': {'id': 'wired', 'name': 'Wired'},\n",
       " 'author': 'Angela Watercutter',\n",
       " 'title': 'Amazon Just Bought MGM For Over $8 Billion. Your Move, Netflix',\n",
       " 'description': 'The move is the latest, and greatest, in a new wave of media consolidation sparked by the streaming wars.',\n",
       " 'url': 'https://www.wired.com/story/amazon-mgm-acquisition-streaming/',\n",
       " 'urlToImage': 'https://media.wired.com/photos/60ae489b8fb37ccc1b53b684/191:100/w_1280,c_limit/Culture_MGM_default.jpg',\n",
       " 'publishedAt': '2021-05-26T15:12:45Z',\n",
       " 'content': 'Bond is moving into the house Bezos built. Its true. After a week of speculation, today Amazon announced it had indeed made a deal to buy MGM, the studio home of Rocky, RoboCop, and, yes, James Bond.… [+3478 chars]'}"
      ]
     },
     "execution_count": 111,
     "metadata": {},
     "output_type": "execute_result"
    }
   ],
   "source": [
    "#API looking at headline for Netflix an \"The Office\"\n",
    "NF_headlines = newsapi.get_everything(\n",
    "    q=\"Netflix and The Office\",\n",
    "    language=\"en\",\n",
    "    page_size=100,\n",
    "    sort_by=\"relevancy\"\n",
    ")\n",
    "\n",
    "# Show sample article\n",
    "NF_headlines[\"articles\"][0]"
   ]
  },
  {
   "cell_type": "code",
   "execution_count": 114,
   "id": "initial-brief",
   "metadata": {},
   "outputs": [
    {
     "data": {
      "text/html": [
       "<div>\n",
       "<style scoped>\n",
       "    .dataframe tbody tr th:only-of-type {\n",
       "        vertical-align: middle;\n",
       "    }\n",
       "\n",
       "    .dataframe tbody tr th {\n",
       "        vertical-align: top;\n",
       "    }\n",
       "\n",
       "    .dataframe thead th {\n",
       "        text-align: right;\n",
       "    }\n",
       "</style>\n",
       "<table border=\"1\" class=\"dataframe\">\n",
       "  <thead>\n",
       "    <tr style=\"text-align: right;\">\n",
       "      <th></th>\n",
       "      <th>date</th>\n",
       "      <th>text</th>\n",
       "      <th>compound</th>\n",
       "      <th>positive</th>\n",
       "      <th>negative</th>\n",
       "      <th>neutral</th>\n",
       "    </tr>\n",
       "  </thead>\n",
       "  <tbody>\n",
       "    <tr>\n",
       "      <th>0</th>\n",
       "      <td>2021-05-26</td>\n",
       "      <td>Bond is moving into the house Bezos built. Its...</td>\n",
       "      <td>0.7351</td>\n",
       "      <td>0.175</td>\n",
       "      <td>0.000</td>\n",
       "      <td>0.825</td>\n",
       "    </tr>\n",
       "    <tr>\n",
       "      <th>1</th>\n",
       "      <td>2021-05-21</td>\n",
       "      <td>The Monitor is a weekly columndevoted to every...</td>\n",
       "      <td>-0.4939</td>\n",
       "      <td>0.000</td>\n",
       "      <td>0.086</td>\n",
       "      <td>0.914</td>\n",
       "    </tr>\n",
       "    <tr>\n",
       "      <th>2</th>\n",
       "      <td>2021-05-24</td>\n",
       "      <td>Martin, who is very bisexual, nonbinary and us...</td>\n",
       "      <td>0.0000</td>\n",
       "      <td>0.000</td>\n",
       "      <td>0.000</td>\n",
       "      <td>1.000</td>\n",
       "    </tr>\n",
       "    <tr>\n",
       "      <th>3</th>\n",
       "      <td>2021-04-28</td>\n",
       "      <td>Netflix today is officially launching a featur...</td>\n",
       "      <td>0.2023</td>\n",
       "      <td>0.078</td>\n",
       "      <td>0.056</td>\n",
       "      <td>0.866</td>\n",
       "    </tr>\n",
       "    <tr>\n",
       "      <th>4</th>\n",
       "      <td>2021-05-16</td>\n",
       "      <td>An obsession is a funny thing. It happens whil...</td>\n",
       "      <td>-0.2263</td>\n",
       "      <td>0.073</td>\n",
       "      <td>0.121</td>\n",
       "      <td>0.806</td>\n",
       "    </tr>\n",
       "  </tbody>\n",
       "</table>\n",
       "</div>"
      ],
      "text/plain": [
       "         date                                               text  compound  \\\n",
       "0  2021-05-26  Bond is moving into the house Bezos built. Its...    0.7351   \n",
       "1  2021-05-21  The Monitor is a weekly columndevoted to every...   -0.4939   \n",
       "2  2021-05-24  Martin, who is very bisexual, nonbinary and us...    0.0000   \n",
       "3  2021-04-28  Netflix today is officially launching a featur...    0.2023   \n",
       "4  2021-05-16  An obsession is a funny thing. It happens whil...   -0.2263   \n",
       "\n",
       "   positive  negative  neutral  \n",
       "0     0.175     0.000    0.825  \n",
       "1     0.000     0.086    0.914  \n",
       "2     0.000     0.000    1.000  \n",
       "3     0.078     0.056    0.866  \n",
       "4     0.073     0.121    0.806  "
      ]
     },
     "execution_count": 114,
     "metadata": {},
     "output_type": "execute_result"
    }
   ],
   "source": [
    "# Create sentiment scores DataFrame\n",
    "NF_sentiments = []\n",
    "\n",
    "for article in NF_headlines[\"articles\"]:\n",
    "    try:\n",
    "        text = article[\"content\"]\n",
    "        date = article[\"publishedAt\"][:10]\n",
    "        sentiment = analyzer.polarity_scores(text)\n",
    "        compound = sentiment[\"compound\"]\n",
    "        pos = sentiment[\"pos\"]\n",
    "        neu = sentiment[\"neu\"]\n",
    "        neg = sentiment[\"neg\"]\n",
    "        \n",
    "        NF_sentiments.append({\n",
    "            \"text\": text,\n",
    "            \"date\": date,\n",
    "            \"compound\": compound,\n",
    "            \"positive\": pos,\n",
    "            \"negative\": neg,\n",
    "            \"neutral\": neu\n",
    "            \n",
    "        })\n",
    "        \n",
    "    except AttributeError:\n",
    "        pass\n",
    "    \n",
    "# Create DataFrame\n",
    "NF_df = pd.DataFrame(NF_sentiments)\n",
    "\n",
    "# Reorder DataFrame columns\n",
    "cols = [\"date\", \"text\", \"compound\", \"positive\", \"negative\", \"neutral\"]\n",
    "NF_df = NF_df[cols]\n",
    "\n",
    "NF_df.head()\n"
   ]
  },
  {
   "cell_type": "code",
   "execution_count": 79,
   "id": "unauthorized-fault",
   "metadata": {},
   "outputs": [],
   "source": [
    " # Load .env enviroment variables\n",
    "load_dotenv()\n",
    "\n",
    "# Set News API Key\n",
    "newsapi = NewsApiClient(api_key=os.environ[\"NEWS_API_KEY\"])\n",
    "\n",
    "#set the dates\n",
    "current_date = pd.Timestamp(datetime.now(), tz=\"America/New_York\").isoformat()\n",
    "past_date = pd.Timestamp(datetime.now()- timedelta(30), tz=\"America/New_York\").isoformat()"
   ]
  },
  {
   "cell_type": "code",
   "execution_count": 90,
   "id": "sound-serum",
   "metadata": {},
   "outputs": [
    {
     "data": {
      "text/html": [
       "<div>\n",
       "<style scoped>\n",
       "    .dataframe tbody tr th:only-of-type {\n",
       "        vertical-align: middle;\n",
       "    }\n",
       "\n",
       "    .dataframe tbody tr th {\n",
       "        vertical-align: top;\n",
       "    }\n",
       "\n",
       "    .dataframe thead th {\n",
       "        text-align: right;\n",
       "    }\n",
       "</style>\n",
       "<table border=\"1\" class=\"dataframe\">\n",
       "  <thead>\n",
       "    <tr style=\"text-align: right;\">\n",
       "      <th></th>\n",
       "      <th>NFLX</th>\n",
       "    </tr>\n",
       "  </thead>\n",
       "  <tbody>\n",
       "    <tr>\n",
       "      <th>2018-01-03</th>\n",
       "      <td>0.019693</td>\n",
       "    </tr>\n",
       "    <tr>\n",
       "      <th>2018-01-04</th>\n",
       "      <td>0.002829</td>\n",
       "    </tr>\n",
       "    <tr>\n",
       "      <th>2018-01-05</th>\n",
       "      <td>0.020328</td>\n",
       "    </tr>\n",
       "    <tr>\n",
       "      <th>2018-01-08</th>\n",
       "      <td>0.010629</td>\n",
       "    </tr>\n",
       "    <tr>\n",
       "      <th>2018-01-09</th>\n",
       "      <td>-0.012875</td>\n",
       "    </tr>\n",
       "  </tbody>\n",
       "</table>\n",
       "</div>"
      ],
      "text/plain": [
       "                NFLX\n",
       "2018-01-03  0.019693\n",
       "2018-01-04  0.002829\n",
       "2018-01-05  0.020328\n",
       "2018-01-08  0.010629\n",
       "2018-01-09 -0.012875"
      ]
     },
     "execution_count": 90,
     "metadata": {},
     "output_type": "execute_result"
    }
   ],
   "source": [
    "# Use the `pct_change` function to calculate daily returns of AAPL\n",
    "nflx_returns = df_closing_prices.pct_change().dropna()\n",
    "\n",
    "# Display sample data\n",
    "nflx_returns.head()"
   ]
  },
  {
   "cell_type": "code",
   "execution_count": 80,
   "id": "recovered-litigation",
   "metadata": {},
   "outputs": [],
   "source": [
    "# Use newsapi client to get most relevant 20 headlines per day in the past month\n",
    "def get_headlines(keyword):\n",
    "    all_headlines = []\n",
    "    all_dates = []    \n",
    "    date = datetime.strptime(current_date[:10], \"%Y-%m-%d\")\n",
    "    end_date = datetime.strptime(past_date[:10], \"%Y-%m-%d\")\n",
    "    print(f\"Fetching news about '{keyword}'\")\n",
    "    print(\"*\" * 30)\n",
    "    while date > end_date:\n",
    "        print(f\"retrieving news from: {date}\")\n",
    "        articles = newsapi.get_everything(\n",
    "            q=keyword,\n",
    "            from_param=str(date)[:10],\n",
    "            to=str(date)[:10],\n",
    "            language=\"en\",\n",
    "            sort_by=\"relevancy\",\n",
    "            page=1,\n",
    "        )\n",
    "        headlines = []\n",
    "        for i in range(0, len(articles[\"articles\"])):\n",
    "            headlines.append(articles[\"articles\"][i][\"title\"])\n",
    "        all_headlines.append(headlines)\n",
    "        all_dates.append(date)\n",
    "        date = date - timedelta(days=1)\n",
    "    return all_headlines, all_dates"
   ]
  },
  {
   "cell_type": "code",
   "execution_count": 81,
   "id": "defined-mistake",
   "metadata": {},
   "outputs": [
    {
     "name": "stdout",
     "output_type": "stream",
     "text": [
      "Fetching news about 'Netflix'\n",
      "******************************\n",
      "retrieving news from: 2021-05-27 00:00:00\n",
      "retrieving news from: 2021-05-26 00:00:00\n",
      "retrieving news from: 2021-05-25 00:00:00\n",
      "retrieving news from: 2021-05-24 00:00:00\n",
      "retrieving news from: 2021-05-23 00:00:00\n",
      "retrieving news from: 2021-05-22 00:00:00\n",
      "retrieving news from: 2021-05-21 00:00:00\n",
      "retrieving news from: 2021-05-20 00:00:00\n",
      "retrieving news from: 2021-05-19 00:00:00\n",
      "retrieving news from: 2021-05-18 00:00:00\n",
      "retrieving news from: 2021-05-17 00:00:00\n",
      "retrieving news from: 2021-05-16 00:00:00\n",
      "retrieving news from: 2021-05-15 00:00:00\n",
      "retrieving news from: 2021-05-14 00:00:00\n",
      "retrieving news from: 2021-05-13 00:00:00\n",
      "retrieving news from: 2021-05-12 00:00:00\n",
      "retrieving news from: 2021-05-11 00:00:00\n",
      "retrieving news from: 2021-05-10 00:00:00\n",
      "retrieving news from: 2021-05-09 00:00:00\n",
      "retrieving news from: 2021-05-08 00:00:00\n",
      "retrieving news from: 2021-05-07 00:00:00\n",
      "retrieving news from: 2021-05-06 00:00:00\n",
      "retrieving news from: 2021-05-05 00:00:00\n",
      "retrieving news from: 2021-05-04 00:00:00\n",
      "retrieving news from: 2021-05-03 00:00:00\n",
      "retrieving news from: 2021-05-02 00:00:00\n",
      "retrieving news from: 2021-05-01 00:00:00\n",
      "retrieving news from: 2021-04-30 00:00:00\n",
      "retrieving news from: 2021-04-29 00:00:00\n",
      "retrieving news from: 2021-04-28 00:00:00\n"
     ]
    }
   ],
   "source": [
    "# Get first topic\n",
    "nflx_headlines, dates = get_headlines(\"Netflix\")"
   ]
  },
  {
   "cell_type": "code",
   "execution_count": 83,
   "id": "behavioral-maker",
   "metadata": {},
   "outputs": [
    {
     "name": "stdout",
     "output_type": "stream",
     "text": [
      "Fetching news about 'The Office'\n",
      "******************************\n",
      "retrieving news from: 2021-05-27 00:00:00\n",
      "retrieving news from: 2021-05-26 00:00:00\n",
      "retrieving news from: 2021-05-25 00:00:00\n",
      "retrieving news from: 2021-05-24 00:00:00\n",
      "retrieving news from: 2021-05-23 00:00:00\n",
      "retrieving news from: 2021-05-22 00:00:00\n",
      "retrieving news from: 2021-05-21 00:00:00\n",
      "retrieving news from: 2021-05-20 00:00:00\n",
      "retrieving news from: 2021-05-19 00:00:00\n",
      "retrieving news from: 2021-05-18 00:00:00\n",
      "retrieving news from: 2021-05-17 00:00:00\n",
      "retrieving news from: 2021-05-16 00:00:00\n",
      "retrieving news from: 2021-05-15 00:00:00\n",
      "retrieving news from: 2021-05-14 00:00:00\n",
      "retrieving news from: 2021-05-13 00:00:00\n",
      "retrieving news from: 2021-05-12 00:00:00\n",
      "retrieving news from: 2021-05-11 00:00:00\n",
      "retrieving news from: 2021-05-10 00:00:00\n",
      "retrieving news from: 2021-05-09 00:00:00\n",
      "retrieving news from: 2021-05-08 00:00:00\n",
      "retrieving news from: 2021-05-07 00:00:00\n",
      "retrieving news from: 2021-05-06 00:00:00\n",
      "retrieving news from: 2021-05-05 00:00:00\n",
      "retrieving news from: 2021-05-04 00:00:00\n",
      "retrieving news from: 2021-05-03 00:00:00\n",
      "retrieving news from: 2021-05-02 00:00:00\n",
      "retrieving news from: 2021-05-01 00:00:00\n",
      "retrieving news from: 2021-04-30 00:00:00\n",
      "retrieving news from: 2021-04-29 00:00:00\n",
      "retrieving news from: 2021-04-28 00:00:00\n"
     ]
    }
   ],
   "source": [
    "# Get second topic\n",
    "office_headlines, _ = get_headlines(\"The Office\")"
   ]
  },
  {
   "cell_type": "code",
   "execution_count": 84,
   "id": "numerical-detective",
   "metadata": {},
   "outputs": [],
   "source": [
    " # Instantiate SentimentIntensityAnalyzer\n",
    "sid = SentimentIntensityAnalyzer()"
   ]
  },
  {
   "cell_type": "code",
   "execution_count": 85,
   "id": "humanitarian-hypothesis",
   "metadata": {},
   "outputs": [],
   "source": [
    "# Create function that computes average compound sentiment of headlines for each day\n",
    "def headline_sentiment_summarizer_avg(headlines):\n",
    "    sentiment = []\n",
    "    for day in headlines:\n",
    "        day_score = []\n",
    "        for h in day:\n",
    "            if h == None:\n",
    "                continue\n",
    "            else:\n",
    "                day_score.append(sid.polarity_scores(h)[\"compound\"])\n",
    "        sentiment.append(sum(day_score) / len(day_score))\n",
    "    return sentiment"
   ]
  },
  {
   "cell_type": "code",
   "execution_count": 86,
   "id": "necessary-couple",
   "metadata": {},
   "outputs": [],
   "source": [
    " # Get averages of each topics sentiment\n",
    "nflx_avg = headline_sentiment_summarizer_avg(nflx_headlines)\n",
    "office_avg = headline_sentiment_summarizer_avg(office_headlines)"
   ]
  },
  {
   "cell_type": "code",
   "execution_count": 92,
   "id": "noted-trauma",
   "metadata": {},
   "outputs": [],
   "source": [
    " # Combine Sentiment Averages into DataFrame\n",
    "topic_sentiments = pd.DataFrame(\n",
    "    {\n",
    "        \"nflx_avg\": nflx_avg,\n",
    "        \"office_avg\": office_avg,\n",
    "    }\n",
    ")"
   ]
  },
  {
   "cell_type": "code",
   "execution_count": 93,
   "id": "smart-paper",
   "metadata": {},
   "outputs": [],
   "source": [
    " # Set the index value of the sentiment averages DataFrame to be the series of dates.\n",
    "topic_sentiments.index = pd.to_datetime(dates)"
   ]
  },
  {
   "cell_type": "code",
   "execution_count": 94,
   "id": "romance-tension",
   "metadata": {},
   "outputs": [
    {
     "data": {
      "text/html": [
       "<div>\n",
       "<style scoped>\n",
       "    .dataframe tbody tr th:only-of-type {\n",
       "        vertical-align: middle;\n",
       "    }\n",
       "\n",
       "    .dataframe tbody tr th {\n",
       "        vertical-align: top;\n",
       "    }\n",
       "\n",
       "    .dataframe thead th {\n",
       "        text-align: right;\n",
       "    }\n",
       "</style>\n",
       "<table border=\"1\" class=\"dataframe\">\n",
       "  <thead>\n",
       "    <tr style=\"text-align: right;\">\n",
       "      <th></th>\n",
       "      <th>NFLX</th>\n",
       "      <th>nflx_avg</th>\n",
       "      <th>office_avg</th>\n",
       "    </tr>\n",
       "  </thead>\n",
       "  <tbody>\n",
       "    <tr>\n",
       "      <th>2021-04-28</th>\n",
       "      <td>0.002037</td>\n",
       "      <td>0.176845</td>\n",
       "      <td>-0.117885</td>\n",
       "    </tr>\n",
       "    <tr>\n",
       "      <th>2021-04-29</th>\n",
       "      <td>0.004896</td>\n",
       "      <td>0.028970</td>\n",
       "      <td>0.115300</td>\n",
       "    </tr>\n",
       "    <tr>\n",
       "      <th>2021-04-30</th>\n",
       "      <td>0.009311</td>\n",
       "      <td>0.258370</td>\n",
       "      <td>0.017210</td>\n",
       "    </tr>\n",
       "    <tr>\n",
       "      <th>2021-05-03</th>\n",
       "      <td>-0.009089</td>\n",
       "      <td>-0.022315</td>\n",
       "      <td>0.006860</td>\n",
       "    </tr>\n",
       "    <tr>\n",
       "      <th>2021-05-04</th>\n",
       "      <td>-0.010940</td>\n",
       "      <td>0.161285</td>\n",
       "      <td>0.082740</td>\n",
       "    </tr>\n",
       "    <tr>\n",
       "      <th>2021-05-05</th>\n",
       "      <td>-0.014596</td>\n",
       "      <td>-0.104625</td>\n",
       "      <td>0.053945</td>\n",
       "    </tr>\n",
       "    <tr>\n",
       "      <th>2021-05-06</th>\n",
       "      <td>0.006590</td>\n",
       "      <td>0.084410</td>\n",
       "      <td>-0.162165</td>\n",
       "    </tr>\n",
       "    <tr>\n",
       "      <th>2021-05-07</th>\n",
       "      <td>0.008609</td>\n",
       "      <td>0.072240</td>\n",
       "      <td>0.002830</td>\n",
       "    </tr>\n",
       "    <tr>\n",
       "      <th>2021-05-10</th>\n",
       "      <td>-0.034062</td>\n",
       "      <td>0.107665</td>\n",
       "      <td>0.026840</td>\n",
       "    </tr>\n",
       "    <tr>\n",
       "      <th>2021-05-11</th>\n",
       "      <td>0.017385</td>\n",
       "      <td>-0.117885</td>\n",
       "      <td>-0.082795</td>\n",
       "    </tr>\n",
       "    <tr>\n",
       "      <th>2021-05-12</th>\n",
       "      <td>-0.020401</td>\n",
       "      <td>0.139290</td>\n",
       "      <td>-0.007635</td>\n",
       "    </tr>\n",
       "    <tr>\n",
       "      <th>2021-05-13</th>\n",
       "      <td>0.003815</td>\n",
       "      <td>-0.004255</td>\n",
       "      <td>-0.084350</td>\n",
       "    </tr>\n",
       "    <tr>\n",
       "      <th>2021-05-14</th>\n",
       "      <td>0.012961</td>\n",
       "      <td>0.051380</td>\n",
       "      <td>-0.074390</td>\n",
       "    </tr>\n",
       "    <tr>\n",
       "      <th>2021-05-17</th>\n",
       "      <td>-0.008213</td>\n",
       "      <td>0.128945</td>\n",
       "      <td>0.003435</td>\n",
       "    </tr>\n",
       "    <tr>\n",
       "      <th>2021-05-18</th>\n",
       "      <td>-0.005745</td>\n",
       "      <td>0.098080</td>\n",
       "      <td>0.019720</td>\n",
       "    </tr>\n",
       "    <tr>\n",
       "      <th>2021-05-19</th>\n",
       "      <td>0.002344</td>\n",
       "      <td>-0.007175</td>\n",
       "      <td>-0.073150</td>\n",
       "    </tr>\n",
       "    <tr>\n",
       "      <th>2021-05-20</th>\n",
       "      <td>0.029379</td>\n",
       "      <td>0.046695</td>\n",
       "      <td>0.000675</td>\n",
       "    </tr>\n",
       "    <tr>\n",
       "      <th>2021-05-21</th>\n",
       "      <td>-0.007673</td>\n",
       "      <td>0.091725</td>\n",
       "      <td>-0.058810</td>\n",
       "    </tr>\n",
       "    <tr>\n",
       "      <th>2021-05-24</th>\n",
       "      <td>0.010022</td>\n",
       "      <td>-0.019080</td>\n",
       "      <td>-0.048190</td>\n",
       "    </tr>\n",
       "    <tr>\n",
       "      <th>2021-05-25</th>\n",
       "      <td>-0.003082</td>\n",
       "      <td>0.139140</td>\n",
       "      <td>-0.025720</td>\n",
       "    </tr>\n",
       "  </tbody>\n",
       "</table>\n",
       "</div>"
      ],
      "text/plain": [
       "                NFLX  nflx_avg  office_avg\n",
       "2021-04-28  0.002037  0.176845   -0.117885\n",
       "2021-04-29  0.004896  0.028970    0.115300\n",
       "2021-04-30  0.009311  0.258370    0.017210\n",
       "2021-05-03 -0.009089 -0.022315    0.006860\n",
       "2021-05-04 -0.010940  0.161285    0.082740\n",
       "2021-05-05 -0.014596 -0.104625    0.053945\n",
       "2021-05-06  0.006590  0.084410   -0.162165\n",
       "2021-05-07  0.008609  0.072240    0.002830\n",
       "2021-05-10 -0.034062  0.107665    0.026840\n",
       "2021-05-11  0.017385 -0.117885   -0.082795\n",
       "2021-05-12 -0.020401  0.139290   -0.007635\n",
       "2021-05-13  0.003815 -0.004255   -0.084350\n",
       "2021-05-14  0.012961  0.051380   -0.074390\n",
       "2021-05-17 -0.008213  0.128945    0.003435\n",
       "2021-05-18 -0.005745  0.098080    0.019720\n",
       "2021-05-19  0.002344 -0.007175   -0.073150\n",
       "2021-05-20  0.029379  0.046695    0.000675\n",
       "2021-05-21 -0.007673  0.091725   -0.058810\n",
       "2021-05-24  0.010022 -0.019080   -0.048190\n",
       "2021-05-25 -0.003082  0.139140   -0.025720"
      ]
     },
     "metadata": {},
     "output_type": "display_data"
    }
   ],
   "source": [
    "# Merge with NFLX returns\n",
    "topic_sentiments = nflx_returns.join(topic_sentiments).dropna(how=\"any\")\n",
    "\n",
    "# Display data\n",
    "display(topic_sentiments)"
   ]
  },
  {
   "cell_type": "code",
   "execution_count": 96,
   "id": "silent-singapore",
   "metadata": {},
   "outputs": [
    {
     "data": {
      "text/plain": [
       "NFLX          float64\n",
       "nflx_avg      float64\n",
       "office_avg    float64\n",
       "dtype: object"
      ]
     },
     "execution_count": 96,
     "metadata": {},
     "output_type": "execute_result"
    }
   ],
   "source": [
    "topic_sentiments.dtypes"
   ]
  },
  {
   "cell_type": "code",
   "execution_count": 97,
   "id": "presidential-cholesterol",
   "metadata": {},
   "outputs": [
    {
     "data": {
      "text/html": [
       "<div>\n",
       "<style scoped>\n",
       "    .dataframe tbody tr th:only-of-type {\n",
       "        vertical-align: middle;\n",
       "    }\n",
       "\n",
       "    .dataframe tbody tr th {\n",
       "        vertical-align: top;\n",
       "    }\n",
       "\n",
       "    .dataframe thead th {\n",
       "        text-align: right;\n",
       "    }\n",
       "</style>\n",
       "<table border=\"1\" class=\"dataframe\">\n",
       "  <thead>\n",
       "    <tr style=\"text-align: right;\">\n",
       "      <th></th>\n",
       "      <th>NFLX</th>\n",
       "      <th>nflx_avg</th>\n",
       "      <th>office_avg</th>\n",
       "    </tr>\n",
       "  </thead>\n",
       "  <tbody>\n",
       "    <tr>\n",
       "      <th>NFLX</th>\n",
       "      <td>1.000000</td>\n",
       "      <td>-0.19831</td>\n",
       "      <td>-0.335992</td>\n",
       "    </tr>\n",
       "    <tr>\n",
       "      <th>nflx_avg</th>\n",
       "      <td>-0.198310</td>\n",
       "      <td>1.00000</td>\n",
       "      <td>0.087190</td>\n",
       "    </tr>\n",
       "    <tr>\n",
       "      <th>office_avg</th>\n",
       "      <td>-0.335992</td>\n",
       "      <td>0.08719</td>\n",
       "      <td>1.000000</td>\n",
       "    </tr>\n",
       "  </tbody>\n",
       "</table>\n",
       "</div>"
      ],
      "text/plain": [
       "                NFLX  nflx_avg  office_avg\n",
       "NFLX        1.000000  -0.19831   -0.335992\n",
       "nflx_avg   -0.198310   1.00000    0.087190\n",
       "office_avg -0.335992   0.08719    1.000000"
      ]
     },
     "execution_count": 97,
     "metadata": {},
     "output_type": "execute_result"
    }
   ],
   "source": [
    "topic_sentiments.corr()"
   ]
  },
  {
   "cell_type": "code",
   "execution_count": 166,
   "id": "fatty-oracle",
   "metadata": {},
   "outputs": [
    {
     "data": {
      "text/plain": [
       "<matplotlib.axes._subplots.AxesSubplot at 0x2abebe69208>"
      ]
     },
     "execution_count": 166,
     "metadata": {},
     "output_type": "execute_result"
    },
    {
     "data": {
      "image/png": "[encoded data removed]",
      "text/plain": [
       "<Figure size 1440x720 with 2 Axes>"
      ]
     },
     "metadata": {},
     "output_type": "display_data"
    }
   ],
   "source": [
    "sns.heatmap(topic_sentiments.corr(), annot=True)"
   ]
  },
  {
   "cell_type": "code",
   "execution_count": null,
   "id": "durable-night",
   "metadata": {},
   "outputs": [],
   "source": [
    "# how you take the polarity scores and use them to rate a show. or how often the most populate words are used to coorelate score and how well they did\n"
   ]
  }
 ],
 "metadata": {
  "kernelspec": {
   "display_name": "Python [conda env:mlenv]",
   "language": "python",
   "name": "conda-env-mlenv-py"
  },
  "language_info": {
   "codemirror_mode": {
    "name": "ipython",
    "version": 3
   },
   "file_extension": ".py",
   "mimetype": "text/x-python",
   "name": "python",
   "nbconvert_exporter": "python",
   "pygments_lexer": "ipython3",
   "version": "3.7.9"
  }
 },
 "nbformat": 4,
 "nbformat_minor": 5
}
